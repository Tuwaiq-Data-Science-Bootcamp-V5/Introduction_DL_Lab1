{
 "cells": [
  {
   "cell_type": "markdown",
   "id": "4812010e",
   "metadata": {},
   "source": [
    "# Introduction to Deep Learning\n",
    "\n",
    "## Objectives\n",
    "In this lab, you will embark on the journey of creating a ANN, DNN model tailored for predicting the total expenditure of potential consumers based on various characteristics. As a vehicle salesperson, your goal is to develop a model that can effectively estimate the overall spending potential.\n",
    "\n",
    "Your task is to build and train an ANN/DNN model using tensorflow in a Jupyter notebook.\n",
    "\n",
    "Feel Free to Explore the dataset, analyze its contents, and derive meaningful insights. Additionally, feel empowered to create insightful visualizations that enhance the understanding of the data. "
   ]
  },
  {
   "cell_type": "markdown",
   "id": "da5b7ee8",
   "metadata": {},
   "source": [
    "# Step 1: Import Libraries"
   ]
  },
  {
   "cell_type": "code",
   "execution_count": 1,
   "id": "4aa7a64f",
   "metadata": {},
   "outputs": [
    {
     "name": "stderr",
     "output_type": "stream",
     "text": [
      "C:\\Users\\aonf7\\anaconda3\\lib\\site-packages\\scipy\\__init__.py:146: UserWarning: A NumPy version >=1.16.5 and <1.23.0 is required for this version of SciPy (detected version 1.26.2\n",
      "  warnings.warn(f\"A NumPy version >={np_minversion} and <{np_maxversion}\"\n"
     ]
    }
   ],
   "source": [
    "import pandas as pd\n",
    "import numpy as np\n",
    "import matplotlib.pyplot as plt\n",
    "from sklearn.model_selection import train_test_split\n",
    "from sklearn.preprocessing import StandardScaler\n",
    "from sklearn.metrics import accuracy_score, confusion_matrix\n",
    "from tensorflow.keras.models import Sequential\n",
    "from tensorflow.keras.layers import Dense\n",
    "import tensorflow as tf"
   ]
  },
  {
   "cell_type": "markdown",
   "id": "2d843bfa",
   "metadata": {},
   "source": [
    "# Step 2: Load and Explore the Data"
   ]
  },
  {
   "cell_type": "code",
   "execution_count": 2,
   "id": "586083a4",
   "metadata": {},
   "outputs": [
    {
     "data": {
      "text/html": [
       "<div>\n",
       "<style scoped>\n",
       "    .dataframe tbody tr th:only-of-type {\n",
       "        vertical-align: middle;\n",
       "    }\n",
       "\n",
       "    .dataframe tbody tr th {\n",
       "        vertical-align: top;\n",
       "    }\n",
       "\n",
       "    .dataframe thead th {\n",
       "        text-align: right;\n",
       "    }\n",
       "</style>\n",
       "<table border=\"1\" class=\"dataframe\">\n",
       "  <thead>\n",
       "    <tr style=\"text-align: right;\">\n",
       "      <th></th>\n",
       "      <th>customer name</th>\n",
       "      <th>customer e-mail</th>\n",
       "      <th>country</th>\n",
       "      <th>gender</th>\n",
       "      <th>age</th>\n",
       "      <th>annual Salary</th>\n",
       "      <th>credit card debt</th>\n",
       "      <th>net worth</th>\n",
       "      <th>car purchase amount</th>\n",
       "    </tr>\n",
       "  </thead>\n",
       "  <tbody>\n",
       "    <tr>\n",
       "      <th>0</th>\n",
       "      <td>Martina Avila</td>\n",
       "      <td>cubilia.Curae.Phasellus@quisaccumsanconvallis.edu</td>\n",
       "      <td>Bulgaria</td>\n",
       "      <td>0</td>\n",
       "      <td>41.851720</td>\n",
       "      <td>62812.09301</td>\n",
       "      <td>11609.380910</td>\n",
       "      <td>238961.2505</td>\n",
       "      <td>35321.45877</td>\n",
       "    </tr>\n",
       "    <tr>\n",
       "      <th>1</th>\n",
       "      <td>Harlan Barnes</td>\n",
       "      <td>eu.dolor@diam.co.uk</td>\n",
       "      <td>Belize</td>\n",
       "      <td>0</td>\n",
       "      <td>40.870623</td>\n",
       "      <td>66646.89292</td>\n",
       "      <td>9572.957136</td>\n",
       "      <td>530973.9078</td>\n",
       "      <td>45115.52566</td>\n",
       "    </tr>\n",
       "    <tr>\n",
       "      <th>2</th>\n",
       "      <td>Naomi Rodriquez</td>\n",
       "      <td>vulputate.mauris.sagittis@ametconsectetueradip...</td>\n",
       "      <td>Algeria</td>\n",
       "      <td>1</td>\n",
       "      <td>43.152897</td>\n",
       "      <td>53798.55112</td>\n",
       "      <td>11160.355060</td>\n",
       "      <td>638467.1773</td>\n",
       "      <td>42925.70921</td>\n",
       "    </tr>\n",
       "    <tr>\n",
       "      <th>3</th>\n",
       "      <td>Jade Cunningham</td>\n",
       "      <td>malesuada@dignissim.com</td>\n",
       "      <td>Cook Islands</td>\n",
       "      <td>1</td>\n",
       "      <td>58.271369</td>\n",
       "      <td>79370.03798</td>\n",
       "      <td>14426.164850</td>\n",
       "      <td>548599.0524</td>\n",
       "      <td>67422.36313</td>\n",
       "    </tr>\n",
       "    <tr>\n",
       "      <th>4</th>\n",
       "      <td>Cedric Leach</td>\n",
       "      <td>felis.ullamcorper.viverra@egetmollislectus.net</td>\n",
       "      <td>Brazil</td>\n",
       "      <td>1</td>\n",
       "      <td>57.313749</td>\n",
       "      <td>59729.15130</td>\n",
       "      <td>5358.712177</td>\n",
       "      <td>560304.0671</td>\n",
       "      <td>55915.46248</td>\n",
       "    </tr>\n",
       "    <tr>\n",
       "      <th>...</th>\n",
       "      <td>...</td>\n",
       "      <td>...</td>\n",
       "      <td>...</td>\n",
       "      <td>...</td>\n",
       "      <td>...</td>\n",
       "      <td>...</td>\n",
       "      <td>...</td>\n",
       "      <td>...</td>\n",
       "      <td>...</td>\n",
       "    </tr>\n",
       "    <tr>\n",
       "      <th>495</th>\n",
       "      <td>Walter</td>\n",
       "      <td>ligula@Cumsociis.ca</td>\n",
       "      <td>Nepal</td>\n",
       "      <td>0</td>\n",
       "      <td>41.462515</td>\n",
       "      <td>71942.40291</td>\n",
       "      <td>6995.902524</td>\n",
       "      <td>541670.1016</td>\n",
       "      <td>48901.44342</td>\n",
       "    </tr>\n",
       "    <tr>\n",
       "      <th>496</th>\n",
       "      <td>Vanna</td>\n",
       "      <td>Cum.sociis.natoque@Sedmolestie.edu</td>\n",
       "      <td>Zimbabwe</td>\n",
       "      <td>1</td>\n",
       "      <td>37.642000</td>\n",
       "      <td>56039.49793</td>\n",
       "      <td>12301.456790</td>\n",
       "      <td>360419.0988</td>\n",
       "      <td>31491.41457</td>\n",
       "    </tr>\n",
       "    <tr>\n",
       "      <th>497</th>\n",
       "      <td>Pearl</td>\n",
       "      <td>penatibus.et@massanonante.com</td>\n",
       "      <td>Philippines</td>\n",
       "      <td>1</td>\n",
       "      <td>53.943497</td>\n",
       "      <td>68888.77805</td>\n",
       "      <td>10611.606860</td>\n",
       "      <td>764531.3203</td>\n",
       "      <td>64147.28888</td>\n",
       "    </tr>\n",
       "    <tr>\n",
       "      <th>498</th>\n",
       "      <td>Nell</td>\n",
       "      <td>Quisque.varius@arcuVivamussit.net</td>\n",
       "      <td>Botswana</td>\n",
       "      <td>1</td>\n",
       "      <td>59.160509</td>\n",
       "      <td>49811.99062</td>\n",
       "      <td>14013.034510</td>\n",
       "      <td>337826.6382</td>\n",
       "      <td>45442.15353</td>\n",
       "    </tr>\n",
       "    <tr>\n",
       "      <th>499</th>\n",
       "      <td>Marla</td>\n",
       "      <td>Camaron.marla@hotmail.com</td>\n",
       "      <td>marlal</td>\n",
       "      <td>1</td>\n",
       "      <td>46.731152</td>\n",
       "      <td>61370.67766</td>\n",
       "      <td>9391.341628</td>\n",
       "      <td>462946.4924</td>\n",
       "      <td>45107.22566</td>\n",
       "    </tr>\n",
       "  </tbody>\n",
       "</table>\n",
       "<p>500 rows × 9 columns</p>\n",
       "</div>"
      ],
      "text/plain": [
       "       customer name                                    customer e-mail  \\\n",
       "0      Martina Avila  cubilia.Curae.Phasellus@quisaccumsanconvallis.edu   \n",
       "1      Harlan Barnes                                eu.dolor@diam.co.uk   \n",
       "2    Naomi Rodriquez  vulputate.mauris.sagittis@ametconsectetueradip...   \n",
       "3    Jade Cunningham                            malesuada@dignissim.com   \n",
       "4       Cedric Leach     felis.ullamcorper.viverra@egetmollislectus.net   \n",
       "..               ...                                                ...   \n",
       "495           Walter                                ligula@Cumsociis.ca   \n",
       "496            Vanna                 Cum.sociis.natoque@Sedmolestie.edu   \n",
       "497            Pearl                      penatibus.et@massanonante.com   \n",
       "498             Nell                  Quisque.varius@arcuVivamussit.net   \n",
       "499            Marla                          Camaron.marla@hotmail.com   \n",
       "\n",
       "          country  gender        age  annual Salary  credit card debt  \\\n",
       "0        Bulgaria       0  41.851720    62812.09301      11609.380910   \n",
       "1          Belize       0  40.870623    66646.89292       9572.957136   \n",
       "2         Algeria       1  43.152897    53798.55112      11160.355060   \n",
       "3    Cook Islands       1  58.271369    79370.03798      14426.164850   \n",
       "4          Brazil       1  57.313749    59729.15130       5358.712177   \n",
       "..            ...     ...        ...            ...               ...   \n",
       "495         Nepal       0  41.462515    71942.40291       6995.902524   \n",
       "496      Zimbabwe       1  37.642000    56039.49793      12301.456790   \n",
       "497   Philippines       1  53.943497    68888.77805      10611.606860   \n",
       "498      Botswana       1  59.160509    49811.99062      14013.034510   \n",
       "499        marlal       1  46.731152    61370.67766       9391.341628   \n",
       "\n",
       "       net worth  car purchase amount  \n",
       "0    238961.2505          35321.45877  \n",
       "1    530973.9078          45115.52566  \n",
       "2    638467.1773          42925.70921  \n",
       "3    548599.0524          67422.36313  \n",
       "4    560304.0671          55915.46248  \n",
       "..           ...                  ...  \n",
       "495  541670.1016          48901.44342  \n",
       "496  360419.0988          31491.41457  \n",
       "497  764531.3203          64147.28888  \n",
       "498  337826.6382          45442.15353  \n",
       "499  462946.4924          45107.22566  \n",
       "\n",
       "[500 rows x 9 columns]"
      ]
     },
     "execution_count": 2,
     "metadata": {},
     "output_type": "execute_result"
    }
   ],
   "source": [
    "df = pd.read_csv('car_purchasing.csv', encoding='latin-1')\n",
    "df"
   ]
  },
  {
   "cell_type": "code",
   "execution_count": 3,
   "id": "83369f2c",
   "metadata": {},
   "outputs": [
    {
     "name": "stdout",
     "output_type": "stream",
     "text": [
      "<class 'pandas.core.frame.DataFrame'>\n",
      "RangeIndex: 500 entries, 0 to 499\n",
      "Data columns (total 9 columns):\n",
      " #   Column               Non-Null Count  Dtype  \n",
      "---  ------               --------------  -----  \n",
      " 0   customer name        500 non-null    object \n",
      " 1   customer e-mail      500 non-null    object \n",
      " 2   country              500 non-null    object \n",
      " 3   gender               500 non-null    int64  \n",
      " 4   age                  500 non-null    float64\n",
      " 5   annual Salary        500 non-null    float64\n",
      " 6   credit card debt     500 non-null    float64\n",
      " 7   net worth            500 non-null    float64\n",
      " 8   car purchase amount  500 non-null    float64\n",
      "dtypes: float64(5), int64(1), object(3)\n",
      "memory usage: 35.3+ KB\n"
     ]
    }
   ],
   "source": [
    "df.info()"
   ]
  },
  {
   "cell_type": "code",
   "execution_count": 4,
   "id": "de954d82",
   "metadata": {},
   "outputs": [
    {
     "data": {
      "text/html": [
       "<div>\n",
       "<style scoped>\n",
       "    .dataframe tbody tr th:only-of-type {\n",
       "        vertical-align: middle;\n",
       "    }\n",
       "\n",
       "    .dataframe tbody tr th {\n",
       "        vertical-align: top;\n",
       "    }\n",
       "\n",
       "    .dataframe thead th {\n",
       "        text-align: right;\n",
       "    }\n",
       "</style>\n",
       "<table border=\"1\" class=\"dataframe\">\n",
       "  <thead>\n",
       "    <tr style=\"text-align: right;\">\n",
       "      <th></th>\n",
       "      <th>gender</th>\n",
       "      <th>age</th>\n",
       "      <th>annual Salary</th>\n",
       "      <th>credit card debt</th>\n",
       "      <th>net worth</th>\n",
       "      <th>car purchase amount</th>\n",
       "    </tr>\n",
       "  </thead>\n",
       "  <tbody>\n",
       "    <tr>\n",
       "      <th>count</th>\n",
       "      <td>500.000000</td>\n",
       "      <td>500.000000</td>\n",
       "      <td>500.000000</td>\n",
       "      <td>500.000000</td>\n",
       "      <td>500.000000</td>\n",
       "      <td>500.000000</td>\n",
       "    </tr>\n",
       "    <tr>\n",
       "      <th>mean</th>\n",
       "      <td>0.506000</td>\n",
       "      <td>46.241674</td>\n",
       "      <td>62127.239608</td>\n",
       "      <td>9607.645049</td>\n",
       "      <td>431475.713625</td>\n",
       "      <td>44209.799218</td>\n",
       "    </tr>\n",
       "    <tr>\n",
       "      <th>std</th>\n",
       "      <td>0.500465</td>\n",
       "      <td>7.978862</td>\n",
       "      <td>11703.378228</td>\n",
       "      <td>3489.187973</td>\n",
       "      <td>173536.756340</td>\n",
       "      <td>10773.178744</td>\n",
       "    </tr>\n",
       "    <tr>\n",
       "      <th>min</th>\n",
       "      <td>0.000000</td>\n",
       "      <td>20.000000</td>\n",
       "      <td>20000.000000</td>\n",
       "      <td>100.000000</td>\n",
       "      <td>20000.000000</td>\n",
       "      <td>9000.000000</td>\n",
       "    </tr>\n",
       "    <tr>\n",
       "      <th>25%</th>\n",
       "      <td>0.000000</td>\n",
       "      <td>40.949969</td>\n",
       "      <td>54391.977195</td>\n",
       "      <td>7397.515792</td>\n",
       "      <td>299824.195900</td>\n",
       "      <td>37629.896040</td>\n",
       "    </tr>\n",
       "    <tr>\n",
       "      <th>50%</th>\n",
       "      <td>1.000000</td>\n",
       "      <td>46.049901</td>\n",
       "      <td>62915.497035</td>\n",
       "      <td>9655.035568</td>\n",
       "      <td>426750.120650</td>\n",
       "      <td>43997.783390</td>\n",
       "    </tr>\n",
       "    <tr>\n",
       "      <th>75%</th>\n",
       "      <td>1.000000</td>\n",
       "      <td>51.612263</td>\n",
       "      <td>70117.862005</td>\n",
       "      <td>11798.867487</td>\n",
       "      <td>557324.478725</td>\n",
       "      <td>51254.709517</td>\n",
       "    </tr>\n",
       "    <tr>\n",
       "      <th>max</th>\n",
       "      <td>1.000000</td>\n",
       "      <td>70.000000</td>\n",
       "      <td>100000.000000</td>\n",
       "      <td>20000.000000</td>\n",
       "      <td>1000000.000000</td>\n",
       "      <td>80000.000000</td>\n",
       "    </tr>\n",
       "  </tbody>\n",
       "</table>\n",
       "</div>"
      ],
      "text/plain": [
       "           gender         age  annual Salary  credit card debt  \\\n",
       "count  500.000000  500.000000     500.000000        500.000000   \n",
       "mean     0.506000   46.241674   62127.239608       9607.645049   \n",
       "std      0.500465    7.978862   11703.378228       3489.187973   \n",
       "min      0.000000   20.000000   20000.000000        100.000000   \n",
       "25%      0.000000   40.949969   54391.977195       7397.515792   \n",
       "50%      1.000000   46.049901   62915.497035       9655.035568   \n",
       "75%      1.000000   51.612263   70117.862005      11798.867487   \n",
       "max      1.000000   70.000000  100000.000000      20000.000000   \n",
       "\n",
       "            net worth  car purchase amount  \n",
       "count      500.000000           500.000000  \n",
       "mean    431475.713625         44209.799218  \n",
       "std     173536.756340         10773.178744  \n",
       "min      20000.000000          9000.000000  \n",
       "25%     299824.195900         37629.896040  \n",
       "50%     426750.120650         43997.783390  \n",
       "75%     557324.478725         51254.709517  \n",
       "max    1000000.000000         80000.000000  "
      ]
     },
     "execution_count": 4,
     "metadata": {},
     "output_type": "execute_result"
    }
   ],
   "source": [
    "df.describe()"
   ]
  },
  {
   "cell_type": "code",
   "execution_count": 5,
   "id": "3e09fcc5",
   "metadata": {},
   "outputs": [
    {
     "data": {
      "text/plain": [
       "Index(['customer name', 'customer e-mail', 'country', 'gender', 'age',\n",
       "       'annual Salary', 'credit card debt', 'net worth',\n",
       "       'car purchase amount'],\n",
       "      dtype='object')"
      ]
     },
     "execution_count": 5,
     "metadata": {},
     "output_type": "execute_result"
    }
   ],
   "source": [
    "df.columns"
   ]
  },
  {
   "cell_type": "markdown",
   "id": "2d3ed46e",
   "metadata": {},
   "source": [
    "# Step 3: Data Cleaning and Preprocessing\n",
    "\n",
    "\n",
    "**Hint: You could use a `StandardScaler()` or `MinMaxScaler()`**"
   ]
  },
  {
   "cell_type": "code",
   "execution_count": 6,
   "id": "81bd8cb0",
   "metadata": {},
   "outputs": [],
   "source": [
    "z = pd.get_dummies(df['country'])"
   ]
  },
  {
   "cell_type": "code",
   "execution_count": 7,
   "id": "c7d6f40f",
   "metadata": {},
   "outputs": [],
   "source": [
    "df.drop(['customer name', 'customer e-mail','country'],axis=1,inplace=True)"
   ]
  },
  {
   "cell_type": "code",
   "execution_count": 8,
   "id": "d875307c",
   "metadata": {},
   "outputs": [],
   "source": [
    "df = pd.concat([df,z],axis=1)"
   ]
  },
  {
   "cell_type": "code",
   "execution_count": 9,
   "id": "d2adbcfa",
   "metadata": {},
   "outputs": [],
   "source": [
    "x = df.drop('car purchase amount',axis=1)\n",
    "y = df['car purchase amount']"
   ]
  },
  {
   "cell_type": "code",
   "execution_count": 10,
   "id": "45dbe596",
   "metadata": {},
   "outputs": [],
   "source": [
    "from sklearn.preprocessing import MinMaxScaler\n",
    "scaler = MinMaxScaler()\n",
    "x = scaler.fit_transform(x)"
   ]
  },
  {
   "cell_type": "markdown",
   "id": "4d654aaa",
   "metadata": {},
   "source": [
    "# Step 4: Train Test Split"
   ]
  },
  {
   "cell_type": "code",
   "execution_count": 11,
   "id": "54687a91",
   "metadata": {},
   "outputs": [],
   "source": [
    "x_train, x_test, y_train, y_test = train_test_split(x, y, test_size=0.2)"
   ]
  },
  {
   "cell_type": "markdown",
   "id": "db652a21",
   "metadata": {},
   "source": [
    "# Step 5: Build the Artifical Neural Network Model"
   ]
  },
  {
   "cell_type": "code",
   "execution_count": 47,
   "id": "c7612a38",
   "metadata": {},
   "outputs": [],
   "source": [
    "\n",
    "model = Sequential()\n",
    "\n",
    "model.add(Dense(32, activation='relu', input_shape=(216,)))\n",
    "model.add(Dense(1, activation='linear'))\n",
    "\n",
    "model.compile(optimizer='adam', loss='mean_squared_error',metrics='MSE')"
   ]
  },
  {
   "cell_type": "markdown",
   "id": "368f070a",
   "metadata": {},
   "source": [
    "### Clarify Your Artificial Neural Network (ANN) Model, Optimization, and Loss Function Choices and justify"
   ]
  },
  {
   "cell_type": "markdown",
   "id": "1350f619",
   "metadata": {},
   "source": [
    "Write your anwser here"
   ]
  },
  {
   "cell_type": "markdown",
   "id": "9d3d0afe",
   "metadata": {},
   "source": [
    "# Step 6: Train the Model\n"
   ]
  },
  {
   "cell_type": "code",
   "execution_count": 48,
   "id": "df82b416",
   "metadata": {},
   "outputs": [
    {
     "name": "stdout",
     "output_type": "stream",
     "text": [
      "Epoch 1/500\n",
      "12/12 [==============================] - 0s 13ms/step - loss: 2051825280.0000 - MSE: 2051825280.0000 - val_loss: 2123293952.0000 - val_MSE: 2123293952.0000\n",
      "Epoch 2/500\n",
      "12/12 [==============================] - 0s 4ms/step - loss: 2051799296.0000 - MSE: 2051799296.0000 - val_loss: 2123267712.0000 - val_MSE: 2123267712.0000\n",
      "Epoch 3/500\n",
      "12/12 [==============================] - 0s 3ms/step - loss: 2051770880.0000 - MSE: 2051770880.0000 - val_loss: 2123237632.0000 - val_MSE: 2123237632.0000\n",
      "Epoch 4/500\n",
      "12/12 [==============================] - 0s 5ms/step - loss: 2051738496.0000 - MSE: 2051738496.0000 - val_loss: 2123203840.0000 - val_MSE: 2123203840.0000\n",
      "Epoch 5/500\n",
      "12/12 [==============================] - 0s 4ms/step - loss: 2051702400.0000 - MSE: 2051702400.0000 - val_loss: 2123165952.0000 - val_MSE: 2123165952.0000\n",
      "Epoch 6/500\n",
      "12/12 [==============================] - 0s 4ms/step - loss: 2051661952.0000 - MSE: 2051661952.0000 - val_loss: 2123124480.0000 - val_MSE: 2123124480.0000\n",
      "Epoch 7/500\n",
      "12/12 [==============================] - 0s 4ms/step - loss: 2051618560.0000 - MSE: 2051618560.0000 - val_loss: 2123078656.0000 - val_MSE: 2123078656.0000\n",
      "Epoch 8/500\n",
      "12/12 [==============================] - 0s 4ms/step - loss: 2051569536.0000 - MSE: 2051569536.0000 - val_loss: 2123027840.0000 - val_MSE: 2123027840.0000\n",
      "Epoch 9/500\n",
      "12/12 [==============================] - 0s 4ms/step - loss: 2051516032.0000 - MSE: 2051516032.0000 - val_loss: 2122973184.0000 - val_MSE: 2122973184.0000\n",
      "Epoch 10/500\n",
      "12/12 [==============================] - 0s 4ms/step - loss: 2051458304.0000 - MSE: 2051458304.0000 - val_loss: 2122914048.0000 - val_MSE: 2122914048.0000\n",
      "Epoch 11/500\n",
      "12/12 [==============================] - 0s 5ms/step - loss: 2051396096.0000 - MSE: 2051396096.0000 - val_loss: 2122850048.0000 - val_MSE: 2122850048.0000\n",
      "Epoch 12/500\n",
      "12/12 [==============================] - 0s 5ms/step - loss: 2051329408.0000 - MSE: 2051329408.0000 - val_loss: 2122781952.0000 - val_MSE: 2122781952.0000\n",
      "Epoch 13/500\n",
      "12/12 [==============================] - 0s 4ms/step - loss: 2051257856.0000 - MSE: 2051257856.0000 - val_loss: 2122708992.0000 - val_MSE: 2122708992.0000\n",
      "Epoch 14/500\n",
      "12/12 [==============================] - 0s 4ms/step - loss: 2051182080.0000 - MSE: 2051182080.0000 - val_loss: 2122630400.0000 - val_MSE: 2122630400.0000\n",
      "Epoch 15/500\n",
      "12/12 [==============================] - 0s 4ms/step - loss: 2051100160.0000 - MSE: 2051100160.0000 - val_loss: 2122547584.0000 - val_MSE: 2122547584.0000\n",
      "Epoch 16/500\n",
      "12/12 [==============================] - 0s 5ms/step - loss: 2051014656.0000 - MSE: 2051014656.0000 - val_loss: 2122460544.0000 - val_MSE: 2122460544.0000\n",
      "Epoch 17/500\n",
      "12/12 [==============================] - 0s 3ms/step - loss: 2050924032.0000 - MSE: 2050924032.0000 - val_loss: 2122368384.0000 - val_MSE: 2122368384.0000\n",
      "Epoch 18/500\n",
      "12/12 [==============================] - 0s 4ms/step - loss: 2050828032.0000 - MSE: 2050828032.0000 - val_loss: 2122271104.0000 - val_MSE: 2122271104.0000\n",
      "Epoch 19/500\n",
      "12/12 [==============================] - 0s 4ms/step - loss: 2050727040.0000 - MSE: 2050727040.0000 - val_loss: 2122169088.0000 - val_MSE: 2122169088.0000\n",
      "Epoch 20/500\n",
      "12/12 [==============================] - 0s 4ms/step - loss: 2050621440.0000 - MSE: 2050621440.0000 - val_loss: 2122062592.0000 - val_MSE: 2122062592.0000\n",
      "Epoch 21/500\n",
      "12/12 [==============================] - 0s 4ms/step - loss: 2050511104.0000 - MSE: 2050511104.0000 - val_loss: 2121951488.0000 - val_MSE: 2121951488.0000\n",
      "Epoch 22/500\n",
      "12/12 [==============================] - 0s 4ms/step - loss: 2050396672.0000 - MSE: 2050396672.0000 - val_loss: 2121835776.0000 - val_MSE: 2121835776.0000\n",
      "Epoch 23/500\n",
      "12/12 [==============================] - 0s 5ms/step - loss: 2050276864.0000 - MSE: 2050276864.0000 - val_loss: 2121714688.0000 - val_MSE: 2121714688.0000\n",
      "Epoch 24/500\n",
      "12/12 [==============================] - 0s 4ms/step - loss: 2050151552.0000 - MSE: 2050151552.0000 - val_loss: 2121588736.0000 - val_MSE: 2121588736.0000\n",
      "Epoch 25/500\n",
      "12/12 [==============================] - 0s 5ms/step - loss: 2050021248.0000 - MSE: 2050021248.0000 - val_loss: 2121458048.0000 - val_MSE: 2121458048.0000\n",
      "Epoch 26/500\n",
      "12/12 [==============================] - 0s 4ms/step - loss: 2049887488.0000 - MSE: 2049887488.0000 - val_loss: 2121322112.0000 - val_MSE: 2121322112.0000\n",
      "Epoch 27/500\n",
      "12/12 [==============================] - 0s 4ms/step - loss: 2049747456.0000 - MSE: 2049747456.0000 - val_loss: 2121181568.0000 - val_MSE: 2121181568.0000\n",
      "Epoch 28/500\n",
      "12/12 [==============================] - 0s 6ms/step - loss: 2049603584.0000 - MSE: 2049603584.0000 - val_loss: 2121036800.0000 - val_MSE: 2121036800.0000\n",
      "Epoch 29/500\n",
      "12/12 [==============================] - 0s 4ms/step - loss: 2049454208.0000 - MSE: 2049454208.0000 - val_loss: 2120887680.0000 - val_MSE: 2120887680.0000\n",
      "Epoch 30/500\n",
      "12/12 [==============================] - 0s 4ms/step - loss: 2049300736.0000 - MSE: 2049300736.0000 - val_loss: 2120732416.0000 - val_MSE: 2120732416.0000\n",
      "Epoch 31/500\n",
      "12/12 [==============================] - 0s 3ms/step - loss: 2049141248.0000 - MSE: 2049141248.0000 - val_loss: 2120574208.0000 - val_MSE: 2120574208.0000\n",
      "Epoch 32/500\n",
      "12/12 [==============================] - 0s 5ms/step - loss: 2048977024.0000 - MSE: 2048977024.0000 - val_loss: 2120410496.0000 - val_MSE: 2120410496.0000\n",
      "Epoch 33/500\n",
      "12/12 [==============================] - 0s 3ms/step - loss: 2048809216.0000 - MSE: 2048809216.0000 - val_loss: 2120240384.0000 - val_MSE: 2120240384.0000\n",
      "Epoch 34/500\n",
      "12/12 [==============================] - 0s 4ms/step - loss: 2048634112.0000 - MSE: 2048634112.0000 - val_loss: 2120067072.0000 - val_MSE: 2120067072.0000\n",
      "Epoch 35/500\n",
      "12/12 [==============================] - 0s 4ms/step - loss: 2048456192.0000 - MSE: 2048456192.0000 - val_loss: 2119887488.0000 - val_MSE: 2119887488.0000\n",
      "Epoch 36/500\n",
      "12/12 [==============================] - 0s 4ms/step - loss: 2048272128.0000 - MSE: 2048272128.0000 - val_loss: 2119704576.0000 - val_MSE: 2119704576.0000\n",
      "Epoch 37/500\n",
      "12/12 [==============================] - 0s 4ms/step - loss: 2048084224.0000 - MSE: 2048084224.0000 - val_loss: 2119516160.0000 - val_MSE: 2119516160.0000\n",
      "Epoch 38/500\n",
      "12/12 [==============================] - 0s 3ms/step - loss: 2047890560.0000 - MSE: 2047890560.0000 - val_loss: 2119323008.0000 - val_MSE: 2119323008.0000\n",
      "Epoch 39/500\n",
      "12/12 [==============================] - 0s 3ms/step - loss: 2047694336.0000 - MSE: 2047694336.0000 - val_loss: 2119125760.0000 - val_MSE: 2119125760.0000\n",
      "Epoch 40/500\n",
      "12/12 [==============================] - 0s 4ms/step - loss: 2047491200.0000 - MSE: 2047491200.0000 - val_loss: 2118926080.0000 - val_MSE: 2118926080.0000\n",
      "Epoch 41/500\n",
      "12/12 [==============================] - 0s 3ms/step - loss: 2047284352.0000 - MSE: 2047284352.0000 - val_loss: 2118718208.0000 - val_MSE: 2118718208.0000\n",
      "Epoch 42/500\n",
      "12/12 [==============================] - 0s 3ms/step - loss: 2047070976.0000 - MSE: 2047070976.0000 - val_loss: 2118503808.0000 - val_MSE: 2118503808.0000\n",
      "Epoch 43/500\n",
      "12/12 [==============================] - 0s 3ms/step - loss: 2046852352.0000 - MSE: 2046852352.0000 - val_loss: 2118288128.0000 - val_MSE: 2118288128.0000\n",
      "Epoch 44/500\n",
      "12/12 [==============================] - 0s 3ms/step - loss: 2046631168.0000 - MSE: 2046631168.0000 - val_loss: 2118064384.0000 - val_MSE: 2118064384.0000\n",
      "Epoch 45/500\n",
      "12/12 [==============================] - 0s 3ms/step - loss: 2046401408.0000 - MSE: 2046401408.0000 - val_loss: 2117839104.0000 - val_MSE: 2117839104.0000\n",
      "Epoch 46/500\n",
      "12/12 [==============================] - 0s 4ms/step - loss: 2046169856.0000 - MSE: 2046169856.0000 - val_loss: 2117605376.0000 - val_MSE: 2117605376.0000\n",
      "Epoch 47/500\n",
      "12/12 [==============================] - 0s 3ms/step - loss: 2045932928.0000 - MSE: 2045932928.0000 - val_loss: 2117368576.0000 - val_MSE: 2117368576.0000\n",
      "Epoch 48/500\n",
      "12/12 [==============================] - 0s 3ms/step - loss: 2045692032.0000 - MSE: 2045692032.0000 - val_loss: 2117128576.0000 - val_MSE: 2117128576.0000\n",
      "Epoch 49/500\n",
      "12/12 [==============================] - 0s 3ms/step - loss: 2045444992.0000 - MSE: 2045444992.0000 - val_loss: 2116884864.0000 - val_MSE: 2116884864.0000\n"
     ]
    },
    {
     "name": "stdout",
     "output_type": "stream",
     "text": [
      "Epoch 50/500\n",
      "12/12 [==============================] - 0s 4ms/step - loss: 2045195648.0000 - MSE: 2045195648.0000 - val_loss: 2116636416.0000 - val_MSE: 2116636416.0000\n",
      "Epoch 51/500\n",
      "12/12 [==============================] - 0s 4ms/step - loss: 2044941312.0000 - MSE: 2044941312.0000 - val_loss: 2116382464.0000 - val_MSE: 2116382464.0000\n",
      "Epoch 52/500\n",
      "12/12 [==============================] - 0s 4ms/step - loss: 2044681728.0000 - MSE: 2044681728.0000 - val_loss: 2116123904.0000 - val_MSE: 2116123904.0000\n",
      "Epoch 53/500\n",
      "12/12 [==============================] - 0s 4ms/step - loss: 2044417152.0000 - MSE: 2044417152.0000 - val_loss: 2115860096.0000 - val_MSE: 2115860096.0000\n",
      "Epoch 54/500\n",
      "12/12 [==============================] - 0s 4ms/step - loss: 2044145920.0000 - MSE: 2044145920.0000 - val_loss: 2115591936.0000 - val_MSE: 2115591936.0000\n",
      "Epoch 55/500\n",
      "12/12 [==============================] - 0s 4ms/step - loss: 2043873280.0000 - MSE: 2043873280.0000 - val_loss: 2115319552.0000 - val_MSE: 2115319552.0000\n",
      "Epoch 56/500\n",
      "12/12 [==============================] - 0s 4ms/step - loss: 2043593984.0000 - MSE: 2043593984.0000 - val_loss: 2115046016.0000 - val_MSE: 2115046016.0000\n",
      "Epoch 57/500\n",
      "12/12 [==============================] - 0s 4ms/step - loss: 2043315584.0000 - MSE: 2043315584.0000 - val_loss: 2114766848.0000 - val_MSE: 2114766848.0000\n",
      "Epoch 58/500\n",
      "12/12 [==============================] - 0s 4ms/step - loss: 2043030784.0000 - MSE: 2043030784.0000 - val_loss: 2114480384.0000 - val_MSE: 2114480384.0000\n",
      "Epoch 59/500\n",
      "12/12 [==============================] - 0s 4ms/step - loss: 2042738560.0000 - MSE: 2042738560.0000 - val_loss: 2114190976.0000 - val_MSE: 2114190976.0000\n",
      "Epoch 60/500\n",
      "12/12 [==============================] - 0s 4ms/step - loss: 2042442240.0000 - MSE: 2042442240.0000 - val_loss: 2113898752.0000 - val_MSE: 2113898752.0000\n",
      "Epoch 61/500\n",
      "12/12 [==============================] - 0s 4ms/step - loss: 2042145280.0000 - MSE: 2042145280.0000 - val_loss: 2113600768.0000 - val_MSE: 2113600768.0000\n",
      "Epoch 62/500\n",
      "12/12 [==============================] - 0s 4ms/step - loss: 2041838848.0000 - MSE: 2041838848.0000 - val_loss: 2113299712.0000 - val_MSE: 2113299712.0000\n",
      "Epoch 63/500\n",
      "12/12 [==============================] - 0s 4ms/step - loss: 2041533056.0000 - MSE: 2041533056.0000 - val_loss: 2112991616.0000 - val_MSE: 2112991616.0000\n",
      "Epoch 64/500\n",
      "12/12 [==============================] - 0s 4ms/step - loss: 2041217024.0000 - MSE: 2041217024.0000 - val_loss: 2112684800.0000 - val_MSE: 2112684800.0000\n",
      "Epoch 65/500\n",
      "12/12 [==============================] - 0s 4ms/step - loss: 2040902400.0000 - MSE: 2040902400.0000 - val_loss: 2112368896.0000 - val_MSE: 2112368896.0000\n",
      "Epoch 66/500\n",
      "12/12 [==============================] - 0s 4ms/step - loss: 2040582656.0000 - MSE: 2040582656.0000 - val_loss: 2112048512.0000 - val_MSE: 2112048512.0000\n",
      "Epoch 67/500\n",
      "12/12 [==============================] - 0s 4ms/step - loss: 2040256256.0000 - MSE: 2040256256.0000 - val_loss: 2111724800.0000 - val_MSE: 2111724800.0000\n",
      "Epoch 68/500\n",
      "12/12 [==============================] - 0s 5ms/step - loss: 2039926912.0000 - MSE: 2039926912.0000 - val_loss: 2111396864.0000 - val_MSE: 2111396864.0000\n",
      "Epoch 69/500\n",
      "12/12 [==============================] - 0s 5ms/step - loss: 2039590144.0000 - MSE: 2039590144.0000 - val_loss: 2111067136.0000 - val_MSE: 2111067136.0000\n",
      "Epoch 70/500\n",
      "12/12 [==============================] - 0s 6ms/step - loss: 2039254272.0000 - MSE: 2039254272.0000 - val_loss: 2110732032.0000 - val_MSE: 2110732032.0000\n",
      "Epoch 71/500\n",
      "12/12 [==============================] - 0s 5ms/step - loss: 2038909952.0000 - MSE: 2038909952.0000 - val_loss: 2110392704.0000 - val_MSE: 2110392704.0000\n",
      "Epoch 72/500\n",
      "12/12 [==============================] - 0s 6ms/step - loss: 2038560128.0000 - MSE: 2038560128.0000 - val_loss: 2110048896.0000 - val_MSE: 2110048896.0000\n",
      "Epoch 73/500\n",
      "12/12 [==============================] - 0s 5ms/step - loss: 2038211968.0000 - MSE: 2038211968.0000 - val_loss: 2109698816.0000 - val_MSE: 2109698816.0000\n",
      "Epoch 74/500\n",
      "12/12 [==============================] - 0s 5ms/step - loss: 2037855616.0000 - MSE: 2037855616.0000 - val_loss: 2109343360.0000 - val_MSE: 2109343360.0000\n",
      "Epoch 75/500\n",
      "12/12 [==============================] - 0s 5ms/step - loss: 2037493248.0000 - MSE: 2037493248.0000 - val_loss: 2108988160.0000 - val_MSE: 2108988160.0000\n",
      "Epoch 76/500\n",
      "12/12 [==============================] - 0s 5ms/step - loss: 2037132544.0000 - MSE: 2037132544.0000 - val_loss: 2108626304.0000 - val_MSE: 2108626304.0000\n",
      "Epoch 77/500\n",
      "12/12 [==============================] - 0s 5ms/step - loss: 2036766976.0000 - MSE: 2036766976.0000 - val_loss: 2108260352.0000 - val_MSE: 2108260352.0000\n",
      "Epoch 78/500\n",
      "12/12 [==============================] - 0s 4ms/step - loss: 2036393600.0000 - MSE: 2036393600.0000 - val_loss: 2107893120.0000 - val_MSE: 2107893120.0000\n",
      "Epoch 79/500\n",
      "12/12 [==============================] - 0s 4ms/step - loss: 2036019968.0000 - MSE: 2036019968.0000 - val_loss: 2107525120.0000 - val_MSE: 2107525120.0000\n",
      "Epoch 80/500\n",
      "12/12 [==============================] - 0s 4ms/step - loss: 2035644800.0000 - MSE: 2035644800.0000 - val_loss: 2107151744.0000 - val_MSE: 2107151744.0000\n",
      "Epoch 81/500\n",
      "12/12 [==============================] - 0s 4ms/step - loss: 2035260672.0000 - MSE: 2035260672.0000 - val_loss: 2106774528.0000 - val_MSE: 2106774528.0000\n",
      "Epoch 82/500\n",
      "12/12 [==============================] - 0s 4ms/step - loss: 2034872960.0000 - MSE: 2034872960.0000 - val_loss: 2106391808.0000 - val_MSE: 2106391808.0000\n",
      "Epoch 83/500\n",
      "12/12 [==============================] - 0s 4ms/step - loss: 2034482048.0000 - MSE: 2034482048.0000 - val_loss: 2105999360.0000 - val_MSE: 2105999360.0000\n",
      "Epoch 84/500\n",
      "12/12 [==============================] - 0s 4ms/step - loss: 2034081920.0000 - MSE: 2034081920.0000 - val_loss: 2105608192.0000 - val_MSE: 2105608192.0000\n",
      "Epoch 85/500\n",
      "12/12 [==============================] - 0s 3ms/step - loss: 2033682432.0000 - MSE: 2033682432.0000 - val_loss: 2105212160.0000 - val_MSE: 2105212160.0000\n",
      "Epoch 86/500\n",
      "12/12 [==============================] - 0s 4ms/step - loss: 2033279104.0000 - MSE: 2033279104.0000 - val_loss: 2104808704.0000 - val_MSE: 2104808704.0000\n",
      "Epoch 87/500\n",
      "12/12 [==============================] - 0s 4ms/step - loss: 2032868992.0000 - MSE: 2032868992.0000 - val_loss: 2104406272.0000 - val_MSE: 2104406272.0000\n",
      "Epoch 88/500\n",
      "12/12 [==============================] - 0s 4ms/step - loss: 2032457216.0000 - MSE: 2032457216.0000 - val_loss: 2104000512.0000 - val_MSE: 2104000512.0000\n",
      "Epoch 89/500\n",
      "12/12 [==============================] - 0s 4ms/step - loss: 2032045440.0000 - MSE: 2032045440.0000 - val_loss: 2103592320.0000 - val_MSE: 2103592320.0000\n",
      "Epoch 90/500\n",
      "12/12 [==============================] - 0s 4ms/step - loss: 2031628544.0000 - MSE: 2031628544.0000 - val_loss: 2103175424.0000 - val_MSE: 2103175424.0000\n",
      "Epoch 91/500\n",
      "12/12 [==============================] - 0s 4ms/step - loss: 2031200256.0000 - MSE: 2031200256.0000 - val_loss: 2102756992.0000 - val_MSE: 2102756992.0000\n",
      "Epoch 92/500\n",
      "12/12 [==============================] - 0s 4ms/step - loss: 2030776960.0000 - MSE: 2030776960.0000 - val_loss: 2102329728.0000 - val_MSE: 2102329728.0000\n",
      "Epoch 93/500\n",
      "12/12 [==============================] - 0s 4ms/step - loss: 2030342272.0000 - MSE: 2030342272.0000 - val_loss: 2101904768.0000 - val_MSE: 2101904768.0000\n",
      "Epoch 94/500\n",
      "12/12 [==============================] - 0s 3ms/step - loss: 2029907456.0000 - MSE: 2029907456.0000 - val_loss: 2101474944.0000 - val_MSE: 2101474944.0000\n",
      "Epoch 95/500\n",
      "12/12 [==============================] - 0s 4ms/step - loss: 2029473024.0000 - MSE: 2029473024.0000 - val_loss: 2101041920.0000 - val_MSE: 2101041920.0000\n",
      "Epoch 96/500\n",
      "12/12 [==============================] - 0s 4ms/step - loss: 2029027328.0000 - MSE: 2029027328.0000 - val_loss: 2100605696.0000 - val_MSE: 2100605696.0000\n",
      "Epoch 97/500\n",
      "12/12 [==============================] - 0s 3ms/step - loss: 2028585856.0000 - MSE: 2028585856.0000 - val_loss: 2100159232.0000 - val_MSE: 2100159232.0000\n",
      "Epoch 98/500\n",
      "12/12 [==============================] - 0s 4ms/step - loss: 2028127360.0000 - MSE: 2028127360.0000 - val_loss: 2099718144.0000 - val_MSE: 2099718144.0000\n"
     ]
    },
    {
     "name": "stdout",
     "output_type": "stream",
     "text": [
      "Epoch 99/500\n",
      "12/12 [==============================] - 0s 3ms/step - loss: 2027677440.0000 - MSE: 2027677440.0000 - val_loss: 2099266944.0000 - val_MSE: 2099266944.0000\n",
      "Epoch 100/500\n",
      "12/12 [==============================] - 0s 4ms/step - loss: 2027218688.0000 - MSE: 2027218688.0000 - val_loss: 2098813952.0000 - val_MSE: 2098813952.0000\n",
      "Epoch 101/500\n",
      "12/12 [==============================] - 0s 4ms/step - loss: 2026759552.0000 - MSE: 2026759552.0000 - val_loss: 2098354560.0000 - val_MSE: 2098354560.0000\n",
      "Epoch 102/500\n",
      "12/12 [==============================] - 0s 4ms/step - loss: 2026291968.0000 - MSE: 2026291968.0000 - val_loss: 2097896064.0000 - val_MSE: 2097896064.0000\n",
      "Epoch 103/500\n",
      "12/12 [==============================] - 0s 4ms/step - loss: 2025825408.0000 - MSE: 2025825408.0000 - val_loss: 2097430784.0000 - val_MSE: 2097430784.0000\n",
      "Epoch 104/500\n",
      "12/12 [==============================] - 0s 6ms/step - loss: 2025355136.0000 - MSE: 2025355136.0000 - val_loss: 2096965248.0000 - val_MSE: 2096965248.0000\n",
      "Epoch 105/500\n",
      "12/12 [==============================] - 0s 6ms/step - loss: 2024882048.0000 - MSE: 2024882048.0000 - val_loss: 2096499712.0000 - val_MSE: 2096499712.0000\n",
      "Epoch 106/500\n",
      "12/12 [==============================] - 0s 6ms/step - loss: 2024403200.0000 - MSE: 2024403200.0000 - val_loss: 2096028928.0000 - val_MSE: 2096028928.0000\n",
      "Epoch 107/500\n",
      "12/12 [==============================] - 0s 6ms/step - loss: 2023921664.0000 - MSE: 2023921664.0000 - val_loss: 2095551744.0000 - val_MSE: 2095551744.0000\n",
      "Epoch 108/500\n",
      "12/12 [==============================] - 0s 6ms/step - loss: 2023438208.0000 - MSE: 2023438208.0000 - val_loss: 2095073280.0000 - val_MSE: 2095073280.0000\n",
      "Epoch 109/500\n",
      "12/12 [==============================] - 0s 6ms/step - loss: 2022952832.0000 - MSE: 2022952832.0000 - val_loss: 2094587136.0000 - val_MSE: 2094587136.0000\n",
      "Epoch 110/500\n",
      "12/12 [==============================] - 0s 5ms/step - loss: 2022456576.0000 - MSE: 2022456576.0000 - val_loss: 2094099200.0000 - val_MSE: 2094099200.0000\n",
      "Epoch 111/500\n",
      "12/12 [==============================] - 0s 4ms/step - loss: 2021960704.0000 - MSE: 2021960704.0000 - val_loss: 2093610240.0000 - val_MSE: 2093610240.0000\n",
      "Epoch 112/500\n",
      "12/12 [==============================] - 0s 5ms/step - loss: 2021463040.0000 - MSE: 2021463040.0000 - val_loss: 2093117824.0000 - val_MSE: 2093117824.0000\n",
      "Epoch 113/500\n",
      "12/12 [==============================] - 0s 4ms/step - loss: 2020963840.0000 - MSE: 2020963840.0000 - val_loss: 2092614912.0000 - val_MSE: 2092614912.0000\n",
      "Epoch 114/500\n",
      "12/12 [==============================] - 0s 4ms/step - loss: 2020450688.0000 - MSE: 2020450688.0000 - val_loss: 2092116352.0000 - val_MSE: 2092116352.0000\n",
      "Epoch 115/500\n",
      "12/12 [==============================] - 0s 4ms/step - loss: 2019944192.0000 - MSE: 2019944192.0000 - val_loss: 2091613824.0000 - val_MSE: 2091613824.0000\n",
      "Epoch 116/500\n",
      "12/12 [==============================] - 0s 4ms/step - loss: 2019428352.0000 - MSE: 2019428352.0000 - val_loss: 2091102464.0000 - val_MSE: 2091102464.0000\n",
      "Epoch 117/500\n",
      "12/12 [==============================] - 0s 4ms/step - loss: 2018910080.0000 - MSE: 2018910080.0000 - val_loss: 2090585856.0000 - val_MSE: 2090585856.0000\n",
      "Epoch 118/500\n",
      "12/12 [==============================] - 0s 4ms/step - loss: 2018384256.0000 - MSE: 2018384256.0000 - val_loss: 2090074368.0000 - val_MSE: 2090074368.0000\n",
      "Epoch 119/500\n",
      "12/12 [==============================] - 0s 4ms/step - loss: 2017863040.0000 - MSE: 2017863040.0000 - val_loss: 2089553920.0000 - val_MSE: 2089553920.0000\n",
      "Epoch 120/500\n",
      "12/12 [==============================] - 0s 4ms/step - loss: 2017332096.0000 - MSE: 2017332096.0000 - val_loss: 2089031040.0000 - val_MSE: 2089031040.0000\n",
      "Epoch 121/500\n",
      "12/12 [==============================] - 0s 4ms/step - loss: 2016801920.0000 - MSE: 2016801920.0000 - val_loss: 2088500480.0000 - val_MSE: 2088500480.0000\n",
      "Epoch 122/500\n",
      "12/12 [==============================] - 0s 4ms/step - loss: 2016260864.0000 - MSE: 2016260864.0000 - val_loss: 2087970048.0000 - val_MSE: 2087970048.0000\n",
      "Epoch 123/500\n",
      "12/12 [==============================] - 0s 4ms/step - loss: 2015723008.0000 - MSE: 2015723008.0000 - val_loss: 2087436032.0000 - val_MSE: 2087436032.0000\n",
      "Epoch 124/500\n",
      "12/12 [==============================] - 0s 4ms/step - loss: 2015181568.0000 - MSE: 2015181568.0000 - val_loss: 2086902144.0000 - val_MSE: 2086902144.0000\n",
      "Epoch 125/500\n",
      "12/12 [==============================] - 0s 4ms/step - loss: 2014641280.0000 - MSE: 2014641280.0000 - val_loss: 2086359424.0000 - val_MSE: 2086359424.0000\n",
      "Epoch 126/500\n",
      "12/12 [==============================] - 0s 4ms/step - loss: 2014090624.0000 - MSE: 2014090624.0000 - val_loss: 2085819648.0000 - val_MSE: 2085819648.0000\n",
      "Epoch 127/500\n",
      "12/12 [==============================] - 0s 4ms/step - loss: 2013538560.0000 - MSE: 2013538560.0000 - val_loss: 2085273216.0000 - val_MSE: 2085273216.0000\n",
      "Epoch 128/500\n",
      "12/12 [==============================] - 0s 4ms/step - loss: 2012978432.0000 - MSE: 2012978432.0000 - val_loss: 2084727552.0000 - val_MSE: 2084727552.0000\n",
      "Epoch 129/500\n",
      "12/12 [==============================] - 0s 4ms/step - loss: 2012422912.0000 - MSE: 2012422912.0000 - val_loss: 2084168704.0000 - val_MSE: 2084168704.0000\n",
      "Epoch 130/500\n",
      "12/12 [==============================] - 0s 4ms/step - loss: 2011857792.0000 - MSE: 2011857792.0000 - val_loss: 2083616128.0000 - val_MSE: 2083616128.0000\n",
      "Epoch 131/500\n",
      "12/12 [==============================] - 0s 4ms/step - loss: 2011299328.0000 - MSE: 2011299328.0000 - val_loss: 2083055872.0000 - val_MSE: 2083055872.0000\n",
      "Epoch 132/500\n",
      "12/12 [==============================] - 0s 4ms/step - loss: 2010729088.0000 - MSE: 2010729088.0000 - val_loss: 2082494848.0000 - val_MSE: 2082494848.0000\n",
      "Epoch 133/500\n",
      "12/12 [==============================] - 0s 4ms/step - loss: 2010158464.0000 - MSE: 2010158464.0000 - val_loss: 2081927808.0000 - val_MSE: 2081927808.0000\n",
      "Epoch 134/500\n",
      "12/12 [==============================] - 0s 4ms/step - loss: 2009581184.0000 - MSE: 2009581184.0000 - val_loss: 2081359104.0000 - val_MSE: 2081359104.0000\n",
      "Epoch 135/500\n",
      "12/12 [==============================] - 0s 4ms/step - loss: 2009001728.0000 - MSE: 2009001728.0000 - val_loss: 2080787712.0000 - val_MSE: 2080787712.0000\n",
      "Epoch 136/500\n",
      "12/12 [==============================] - 0s 4ms/step - loss: 2008421760.0000 - MSE: 2008421760.0000 - val_loss: 2080210688.0000 - val_MSE: 2080210688.0000\n",
      "Epoch 137/500\n",
      "12/12 [==============================] - 0s 4ms/step - loss: 2007835136.0000 - MSE: 2007835136.0000 - val_loss: 2079627904.0000 - val_MSE: 2079627904.0000\n",
      "Epoch 138/500\n",
      "12/12 [==============================] - 0s 4ms/step - loss: 2007243904.0000 - MSE: 2007243904.0000 - val_loss: 2079050496.0000 - val_MSE: 2079050496.0000\n",
      "Epoch 139/500\n",
      "12/12 [==============================] - 0s 4ms/step - loss: 2006658944.0000 - MSE: 2006658944.0000 - val_loss: 2078465408.0000 - val_MSE: 2078465408.0000\n",
      "Epoch 140/500\n",
      "12/12 [==============================] - 0s 4ms/step - loss: 2006061184.0000 - MSE: 2006061184.0000 - val_loss: 2077880064.0000 - val_MSE: 2077880064.0000\n",
      "Epoch 141/500\n",
      "12/12 [==============================] - 0s 4ms/step - loss: 2005460992.0000 - MSE: 2005460992.0000 - val_loss: 2077290880.0000 - val_MSE: 2077290880.0000\n",
      "Epoch 142/500\n",
      "12/12 [==============================] - 0s 4ms/step - loss: 2004859776.0000 - MSE: 2004859776.0000 - val_loss: 2076691456.0000 - val_MSE: 2076691456.0000\n",
      "Epoch 143/500\n",
      "12/12 [==============================] - 0s 4ms/step - loss: 2004252032.0000 - MSE: 2004252032.0000 - val_loss: 2076089344.0000 - val_MSE: 2076089344.0000\n",
      "Epoch 144/500\n",
      "12/12 [==============================] - 0s 4ms/step - loss: 2003638528.0000 - MSE: 2003638528.0000 - val_loss: 2075487488.0000 - val_MSE: 2075487488.0000\n",
      "Epoch 145/500\n",
      "12/12 [==============================] - 0s 4ms/step - loss: 2003032832.0000 - MSE: 2003032832.0000 - val_loss: 2074887424.0000 - val_MSE: 2074887424.0000\n",
      "Epoch 146/500\n",
      "12/12 [==============================] - 0s 4ms/step - loss: 2002421120.0000 - MSE: 2002421120.0000 - val_loss: 2074278144.0000 - val_MSE: 2074278144.0000\n",
      "Epoch 147/500\n"
     ]
    },
    {
     "name": "stdout",
     "output_type": "stream",
     "text": [
      "12/12 [==============================] - 0s 4ms/step - loss: 2001803136.0000 - MSE: 2001803136.0000 - val_loss: 2073665920.0000 - val_MSE: 2073665920.0000\n",
      "Epoch 148/500\n",
      "12/12 [==============================] - 0s 4ms/step - loss: 2001182336.0000 - MSE: 2001182336.0000 - val_loss: 2073057664.0000 - val_MSE: 2073057664.0000\n",
      "Epoch 149/500\n",
      "12/12 [==============================] - 0s 4ms/step - loss: 2000561024.0000 - MSE: 2000561024.0000 - val_loss: 2072448768.0000 - val_MSE: 2072448768.0000\n",
      "Epoch 150/500\n",
      "12/12 [==============================] - 0s 4ms/step - loss: 1999940224.0000 - MSE: 1999940224.0000 - val_loss: 2071834368.0000 - val_MSE: 2071834368.0000\n",
      "Epoch 151/500\n",
      "12/12 [==============================] - 0s 4ms/step - loss: 1999316608.0000 - MSE: 1999316608.0000 - val_loss: 2071216512.0000 - val_MSE: 2071216512.0000\n",
      "Epoch 152/500\n",
      "12/12 [==============================] - 0s 4ms/step - loss: 1998691584.0000 - MSE: 1998691584.0000 - val_loss: 2070597248.0000 - val_MSE: 2070597248.0000\n",
      "Epoch 153/500\n",
      "12/12 [==============================] - 0s 4ms/step - loss: 1998061184.0000 - MSE: 1998061184.0000 - val_loss: 2069969664.0000 - val_MSE: 2069969664.0000\n",
      "Epoch 154/500\n",
      "12/12 [==============================] - 0s 4ms/step - loss: 1997419136.0000 - MSE: 1997419136.0000 - val_loss: 2069336704.0000 - val_MSE: 2069336704.0000\n",
      "Epoch 155/500\n",
      "12/12 [==============================] - 0s 4ms/step - loss: 1996776320.0000 - MSE: 1996776320.0000 - val_loss: 2068711040.0000 - val_MSE: 2068711040.0000\n",
      "Epoch 156/500\n",
      "12/12 [==============================] - 0s 4ms/step - loss: 1996141056.0000 - MSE: 1996141056.0000 - val_loss: 2068073088.0000 - val_MSE: 2068073088.0000\n",
      "Epoch 157/500\n",
      "12/12 [==============================] - 0s 4ms/step - loss: 1995490688.0000 - MSE: 1995490688.0000 - val_loss: 2067430400.0000 - val_MSE: 2067430400.0000\n",
      "Epoch 158/500\n",
      "12/12 [==============================] - 0s 4ms/step - loss: 1994837248.0000 - MSE: 1994837248.0000 - val_loss: 2066793216.0000 - val_MSE: 2066793216.0000\n",
      "Epoch 159/500\n",
      "12/12 [==============================] - 0s 4ms/step - loss: 1994190976.0000 - MSE: 1994190976.0000 - val_loss: 2066148992.0000 - val_MSE: 2066148992.0000\n",
      "Epoch 160/500\n",
      "12/12 [==============================] - 0s 4ms/step - loss: 1993532160.0000 - MSE: 1993532160.0000 - val_loss: 2065500416.0000 - val_MSE: 2065500416.0000\n",
      "Epoch 161/500\n",
      "12/12 [==============================] - 0s 4ms/step - loss: 1992871168.0000 - MSE: 1992871168.0000 - val_loss: 2064843776.0000 - val_MSE: 2064843776.0000\n",
      "Epoch 162/500\n",
      "12/12 [==============================] - 0s 4ms/step - loss: 1992208128.0000 - MSE: 1992208128.0000 - val_loss: 2064191104.0000 - val_MSE: 2064191104.0000\n",
      "Epoch 163/500\n",
      "12/12 [==============================] - 0s 4ms/step - loss: 1991544704.0000 - MSE: 1991544704.0000 - val_loss: 2063534720.0000 - val_MSE: 2063534720.0000\n",
      "Epoch 164/500\n",
      "12/12 [==============================] - 0s 4ms/step - loss: 1990877952.0000 - MSE: 1990877952.0000 - val_loss: 2062869504.0000 - val_MSE: 2062869504.0000\n",
      "Epoch 165/500\n",
      "12/12 [==============================] - 0s 3ms/step - loss: 1990207616.0000 - MSE: 1990207616.0000 - val_loss: 2062207616.0000 - val_MSE: 2062207616.0000\n",
      "Epoch 166/500\n",
      "12/12 [==============================] - 0s 5ms/step - loss: 1989535104.0000 - MSE: 1989535104.0000 - val_loss: 2061544192.0000 - val_MSE: 2061544192.0000\n",
      "Epoch 167/500\n",
      "12/12 [==============================] - 0s 5ms/step - loss: 1988861056.0000 - MSE: 1988861056.0000 - val_loss: 2060881920.0000 - val_MSE: 2060881920.0000\n",
      "Epoch 168/500\n",
      "12/12 [==============================] - 0s 4ms/step - loss: 1988180736.0000 - MSE: 1988180736.0000 - val_loss: 2060213504.0000 - val_MSE: 2060213504.0000\n",
      "Epoch 169/500\n",
      "12/12 [==============================] - 0s 5ms/step - loss: 1987502976.0000 - MSE: 1987502976.0000 - val_loss: 2059539072.0000 - val_MSE: 2059539072.0000\n",
      "Epoch 170/500\n",
      "12/12 [==============================] - 0s 5ms/step - loss: 1986814080.0000 - MSE: 1986814080.0000 - val_loss: 2058870528.0000 - val_MSE: 2058870528.0000\n",
      "Epoch 171/500\n",
      "12/12 [==============================] - 0s 5ms/step - loss: 1986132736.0000 - MSE: 1986132736.0000 - val_loss: 2058190080.0000 - val_MSE: 2058190080.0000\n",
      "Epoch 172/500\n",
      "12/12 [==============================] - 0s 5ms/step - loss: 1985443840.0000 - MSE: 1985443840.0000 - val_loss: 2057505152.0000 - val_MSE: 2057505152.0000\n",
      "Epoch 173/500\n",
      "12/12 [==============================] - 0s 5ms/step - loss: 1984747008.0000 - MSE: 1984747008.0000 - val_loss: 2056814336.0000 - val_MSE: 2056814336.0000\n",
      "Epoch 174/500\n",
      "12/12 [==============================] - 0s 5ms/step - loss: 1984045824.0000 - MSE: 1984045824.0000 - val_loss: 2056119296.0000 - val_MSE: 2056119296.0000\n",
      "Epoch 175/500\n",
      "12/12 [==============================] - 0s 5ms/step - loss: 1983343232.0000 - MSE: 1983343232.0000 - val_loss: 2055433600.0000 - val_MSE: 2055433600.0000\n",
      "Epoch 176/500\n",
      "12/12 [==============================] - 0s 5ms/step - loss: 1982644352.0000 - MSE: 1982644352.0000 - val_loss: 2054735872.0000 - val_MSE: 2054735872.0000\n",
      "Epoch 177/500\n",
      "12/12 [==============================] - 0s 3ms/step - loss: 1981932672.0000 - MSE: 1981932672.0000 - val_loss: 2054042880.0000 - val_MSE: 2054042880.0000\n",
      "Epoch 178/500\n",
      "12/12 [==============================] - 0s 3ms/step - loss: 1981235072.0000 - MSE: 1981235072.0000 - val_loss: 2053350144.0000 - val_MSE: 2053350144.0000\n",
      "Epoch 179/500\n",
      "12/12 [==============================] - 0s 4ms/step - loss: 1980531840.0000 - MSE: 1980531840.0000 - val_loss: 2052645632.0000 - val_MSE: 2052645632.0000\n",
      "Epoch 180/500\n",
      "12/12 [==============================] - 0s 5ms/step - loss: 1979817856.0000 - MSE: 1979817856.0000 - val_loss: 2051944064.0000 - val_MSE: 2051944064.0000\n",
      "Epoch 181/500\n",
      "12/12 [==============================] - 0s 5ms/step - loss: 1979095808.0000 - MSE: 1979095808.0000 - val_loss: 2051238912.0000 - val_MSE: 2051238912.0000\n",
      "Epoch 182/500\n",
      "12/12 [==============================] - 0s 5ms/step - loss: 1978379520.0000 - MSE: 1978379520.0000 - val_loss: 2050523904.0000 - val_MSE: 2050523904.0000\n",
      "Epoch 183/500\n",
      "12/12 [==============================] - 0s 5ms/step - loss: 1977658368.0000 - MSE: 1977658368.0000 - val_loss: 2049809792.0000 - val_MSE: 2049809792.0000\n",
      "Epoch 184/500\n",
      "12/12 [==============================] - 0s 4ms/step - loss: 1976928384.0000 - MSE: 1976928384.0000 - val_loss: 2049093632.0000 - val_MSE: 2049093632.0000\n",
      "Epoch 185/500\n",
      "12/12 [==============================] - 0s 5ms/step - loss: 1976201984.0000 - MSE: 1976201984.0000 - val_loss: 2048371968.0000 - val_MSE: 2048371968.0000\n",
      "Epoch 186/500\n",
      "12/12 [==============================] - 0s 5ms/step - loss: 1975471872.0000 - MSE: 1975471872.0000 - val_loss: 2047651456.0000 - val_MSE: 2047651456.0000\n",
      "Epoch 187/500\n",
      "12/12 [==============================] - 0s 5ms/step - loss: 1974734720.0000 - MSE: 1974734720.0000 - val_loss: 2046934272.0000 - val_MSE: 2046934272.0000\n",
      "Epoch 188/500\n",
      "12/12 [==============================] - 0s 3ms/step - loss: 1974013312.0000 - MSE: 1974013312.0000 - val_loss: 2046203904.0000 - val_MSE: 2046203904.0000\n",
      "Epoch 189/500\n",
      "12/12 [==============================] - 0s 4ms/step - loss: 1973277184.0000 - MSE: 1973277184.0000 - val_loss: 2045483776.0000 - val_MSE: 2045483776.0000\n",
      "Epoch 190/500\n",
      "12/12 [==============================] - 0s 5ms/step - loss: 1972539648.0000 - MSE: 1972539648.0000 - val_loss: 2044762880.0000 - val_MSE: 2044762880.0000\n",
      "Epoch 191/500\n",
      "12/12 [==============================] - 0s 5ms/step - loss: 1971808256.0000 - MSE: 1971808256.0000 - val_loss: 2044033664.0000 - val_MSE: 2044033664.0000\n",
      "Epoch 192/500\n",
      "12/12 [==============================] - 0s 5ms/step - loss: 1971065344.0000 - MSE: 1971065344.0000 - val_loss: 2043304704.0000 - val_MSE: 2043304704.0000\n",
      "Epoch 193/500\n",
      "12/12 [==============================] - 0s 5ms/step - loss: 1970330880.0000 - MSE: 1970330880.0000 - val_loss: 2042567424.0000 - val_MSE: 2042567424.0000\n",
      "Epoch 194/500\n",
      "12/12 [==============================] - 0s 5ms/step - loss: 1969579776.0000 - MSE: 1969579776.0000 - val_loss: 2041831424.0000 - val_MSE: 2041831424.0000\n",
      "Epoch 195/500\n"
     ]
    },
    {
     "name": "stdout",
     "output_type": "stream",
     "text": [
      "12/12 [==============================] - 0s 5ms/step - loss: 1968838016.0000 - MSE: 1968838016.0000 - val_loss: 2041089280.0000 - val_MSE: 2041089280.0000\n",
      "Epoch 196/500\n",
      "12/12 [==============================] - 0s 3ms/step - loss: 1968073728.0000 - MSE: 1968073728.0000 - val_loss: 2040349952.0000 - val_MSE: 2040349952.0000\n",
      "Epoch 197/500\n",
      "12/12 [==============================] - 0s 3ms/step - loss: 1967333504.0000 - MSE: 1967333504.0000 - val_loss: 2039594240.0000 - val_MSE: 2039594240.0000\n",
      "Epoch 198/500\n",
      "12/12 [==============================] - 0s 4ms/step - loss: 1966559744.0000 - MSE: 1966559744.0000 - val_loss: 2038856320.0000 - val_MSE: 2038856320.0000\n",
      "Epoch 199/500\n",
      "12/12 [==============================] - 0s 5ms/step - loss: 1965809152.0000 - MSE: 1965809152.0000 - val_loss: 2038104448.0000 - val_MSE: 2038104448.0000\n",
      "Epoch 200/500\n",
      "12/12 [==============================] - 0s 5ms/step - loss: 1965047680.0000 - MSE: 1965047680.0000 - val_loss: 2037351040.0000 - val_MSE: 2037351040.0000\n",
      "Epoch 201/500\n",
      "12/12 [==============================] - 0s 5ms/step - loss: 1964285056.0000 - MSE: 1964285056.0000 - val_loss: 2036598016.0000 - val_MSE: 2036598016.0000\n",
      "Epoch 202/500\n",
      "12/12 [==============================] - 0s 4ms/step - loss: 1963522432.0000 - MSE: 1963522432.0000 - val_loss: 2035833600.0000 - val_MSE: 2035833600.0000\n",
      "Epoch 203/500\n",
      "12/12 [==============================] - 0s 5ms/step - loss: 1962745856.0000 - MSE: 1962745856.0000 - val_loss: 2035072256.0000 - val_MSE: 2035072256.0000\n",
      "Epoch 204/500\n",
      "12/12 [==============================] - 0s 5ms/step - loss: 1961974528.0000 - MSE: 1961974528.0000 - val_loss: 2034308480.0000 - val_MSE: 2034308480.0000\n",
      "Epoch 205/500\n",
      "12/12 [==============================] - 0s 3ms/step - loss: 1961200128.0000 - MSE: 1961200128.0000 - val_loss: 2033543424.0000 - val_MSE: 2033543424.0000\n",
      "Epoch 206/500\n",
      "12/12 [==============================] - 0s 3ms/step - loss: 1960425344.0000 - MSE: 1960425344.0000 - val_loss: 2032774400.0000 - val_MSE: 2032774400.0000\n",
      "Epoch 207/500\n",
      "12/12 [==============================] - 0s 4ms/step - loss: 1959642880.0000 - MSE: 1959642880.0000 - val_loss: 2032003072.0000 - val_MSE: 2032003072.0000\n",
      "Epoch 208/500\n",
      "12/12 [==============================] - 0s 4ms/step - loss: 1958856448.0000 - MSE: 1958856448.0000 - val_loss: 2031223424.0000 - val_MSE: 2031223424.0000\n",
      "Epoch 209/500\n",
      "12/12 [==============================] - 0s 5ms/step - loss: 1958066560.0000 - MSE: 1958066560.0000 - val_loss: 2030443264.0000 - val_MSE: 2030443264.0000\n",
      "Epoch 210/500\n",
      "12/12 [==============================] - 0s 5ms/step - loss: 1957278848.0000 - MSE: 1957278848.0000 - val_loss: 2029659520.0000 - val_MSE: 2029659520.0000\n",
      "Epoch 211/500\n",
      "12/12 [==============================] - 0s 5ms/step - loss: 1956487552.0000 - MSE: 1956487552.0000 - val_loss: 2028875392.0000 - val_MSE: 2028875392.0000\n",
      "Epoch 212/500\n",
      "12/12 [==============================] - 0s 5ms/step - loss: 1955682944.0000 - MSE: 1955682944.0000 - val_loss: 2028095488.0000 - val_MSE: 2028095488.0000\n",
      "Epoch 213/500\n",
      "12/12 [==============================] - 0s 5ms/step - loss: 1954898304.0000 - MSE: 1954898304.0000 - val_loss: 2027304704.0000 - val_MSE: 2027304704.0000\n",
      "Epoch 214/500\n",
      "12/12 [==============================] - 0s 3ms/step - loss: 1954091648.0000 - MSE: 1954091648.0000 - val_loss: 2026518272.0000 - val_MSE: 2026518272.0000\n",
      "Epoch 215/500\n",
      "12/12 [==============================] - 0s 5ms/step - loss: 1953292160.0000 - MSE: 1953292160.0000 - val_loss: 2025725312.0000 - val_MSE: 2025725312.0000\n",
      "Epoch 216/500\n",
      "12/12 [==============================] - 0s 5ms/step - loss: 1952490624.0000 - MSE: 1952490624.0000 - val_loss: 2024927616.0000 - val_MSE: 2024927616.0000\n",
      "Epoch 217/500\n",
      "12/12 [==============================] - 0s 5ms/step - loss: 1951680640.0000 - MSE: 1951680640.0000 - val_loss: 2024134912.0000 - val_MSE: 2024134912.0000\n",
      "Epoch 218/500\n",
      "12/12 [==============================] - 0s 5ms/step - loss: 1950873856.0000 - MSE: 1950873856.0000 - val_loss: 2023337216.0000 - val_MSE: 2023337216.0000\n",
      "Epoch 219/500\n",
      "12/12 [==============================] - 0s 5ms/step - loss: 1950064768.0000 - MSE: 1950064768.0000 - val_loss: 2022540032.0000 - val_MSE: 2022540032.0000\n",
      "Epoch 220/500\n",
      "12/12 [==============================] - 0s 5ms/step - loss: 1949253632.0000 - MSE: 1949253632.0000 - val_loss: 2021731328.0000 - val_MSE: 2021731328.0000\n",
      "Epoch 221/500\n",
      "12/12 [==============================] - 0s 3ms/step - loss: 1948435328.0000 - MSE: 1948435328.0000 - val_loss: 2020921600.0000 - val_MSE: 2020921600.0000\n",
      "Epoch 222/500\n",
      "12/12 [==============================] - 0s 4ms/step - loss: 1947610368.0000 - MSE: 1947610368.0000 - val_loss: 2020109312.0000 - val_MSE: 2020109312.0000\n",
      "Epoch 223/500\n",
      "12/12 [==============================] - 0s 5ms/step - loss: 1946788736.0000 - MSE: 1946788736.0000 - val_loss: 2019291136.0000 - val_MSE: 2019291136.0000\n",
      "Epoch 224/500\n",
      "12/12 [==============================] - 0s 5ms/step - loss: 1945961728.0000 - MSE: 1945961728.0000 - val_loss: 2018479360.0000 - val_MSE: 2018479360.0000\n",
      "Epoch 225/500\n",
      "12/12 [==============================] - 0s 4ms/step - loss: 1945137664.0000 - MSE: 1945137664.0000 - val_loss: 2017653504.0000 - val_MSE: 2017653504.0000\n",
      "Epoch 226/500\n",
      "12/12 [==============================] - 0s 4ms/step - loss: 1944306944.0000 - MSE: 1944306944.0000 - val_loss: 2016837888.0000 - val_MSE: 2016837888.0000\n",
      "Epoch 227/500\n",
      "12/12 [==============================] - 0s 5ms/step - loss: 1943478400.0000 - MSE: 1943478400.0000 - val_loss: 2016018816.0000 - val_MSE: 2016018816.0000\n",
      "Epoch 228/500\n",
      "12/12 [==============================] - 0s 5ms/step - loss: 1942641280.0000 - MSE: 1942641280.0000 - val_loss: 2015195136.0000 - val_MSE: 2015195136.0000\n",
      "Epoch 229/500\n",
      "12/12 [==============================] - 0s 5ms/step - loss: 1941801984.0000 - MSE: 1941801984.0000 - val_loss: 2014366080.0000 - val_MSE: 2014366080.0000\n",
      "Epoch 230/500\n",
      "12/12 [==============================] - 0s 5ms/step - loss: 1940964224.0000 - MSE: 1940964224.0000 - val_loss: 2013528704.0000 - val_MSE: 2013528704.0000\n",
      "Epoch 231/500\n",
      "12/12 [==============================] - 0s 5ms/step - loss: 1940119936.0000 - MSE: 1940119936.0000 - val_loss: 2012695296.0000 - val_MSE: 2012695296.0000\n",
      "Epoch 232/500\n",
      "12/12 [==============================] - 0s 3ms/step - loss: 1939273216.0000 - MSE: 1939273216.0000 - val_loss: 2011855232.0000 - val_MSE: 2011855232.0000\n",
      "Epoch 233/500\n",
      "12/12 [==============================] - 0s 3ms/step - loss: 1938420352.0000 - MSE: 1938420352.0000 - val_loss: 2011009024.0000 - val_MSE: 2011009024.0000\n",
      "Epoch 234/500\n",
      "12/12 [==============================] - 0s 3ms/step - loss: 1937560704.0000 - MSE: 1937560704.0000 - val_loss: 2010176512.0000 - val_MSE: 2010176512.0000\n",
      "Epoch 235/500\n",
      "12/12 [==============================] - 0s 4ms/step - loss: 1936716032.0000 - MSE: 1936716032.0000 - val_loss: 2009340672.0000 - val_MSE: 2009340672.0000\n",
      "Epoch 236/500\n",
      "12/12 [==============================] - 0s 4ms/step - loss: 1935859840.0000 - MSE: 1935859840.0000 - val_loss: 2008498816.0000 - val_MSE: 2008498816.0000\n",
      "Epoch 237/500\n",
      "12/12 [==============================] - 0s 4ms/step - loss: 1935005696.0000 - MSE: 1935005696.0000 - val_loss: 2007645824.0000 - val_MSE: 2007645824.0000\n",
      "Epoch 238/500\n",
      "12/12 [==============================] - 0s 5ms/step - loss: 1934143744.0000 - MSE: 1934143744.0000 - val_loss: 2006804736.0000 - val_MSE: 2006804736.0000\n",
      "Epoch 239/500\n",
      "12/12 [==============================] - 0s 5ms/step - loss: 1933290880.0000 - MSE: 1933290880.0000 - val_loss: 2005949056.0000 - val_MSE: 2005949056.0000\n",
      "Epoch 240/500\n",
      "12/12 [==============================] - 0s 5ms/step - loss: 1932423808.0000 - MSE: 1932423808.0000 - val_loss: 2005098752.0000 - val_MSE: 2005098752.0000\n",
      "Epoch 241/500\n",
      "12/12 [==============================] - 0s 4ms/step - loss: 1931561856.0000 - MSE: 1931561856.0000 - val_loss: 2004236032.0000 - val_MSE: 2004236032.0000\n",
      "Epoch 242/500\n",
      "12/12 [==============================] - 0s 5ms/step - loss: 1930689664.0000 - MSE: 1930689664.0000 - val_loss: 2003382656.0000 - val_MSE: 2003382656.0000\n",
      "Epoch 243/500\n"
     ]
    },
    {
     "name": "stdout",
     "output_type": "stream",
     "text": [
      "12/12 [==============================] - 0s 5ms/step - loss: 1929823360.0000 - MSE: 1929823360.0000 - val_loss: 2002517632.0000 - val_MSE: 2002517632.0000\n",
      "Epoch 244/500\n",
      "12/12 [==============================] - 0s 5ms/step - loss: 1928946944.0000 - MSE: 1928946944.0000 - val_loss: 2001653120.0000 - val_MSE: 2001653120.0000\n",
      "Epoch 245/500\n",
      "12/12 [==============================] - 0s 5ms/step - loss: 1928072960.0000 - MSE: 1928072960.0000 - val_loss: 2000786176.0000 - val_MSE: 2000786176.0000\n",
      "Epoch 246/500\n",
      "12/12 [==============================] - 0s 3ms/step - loss: 1927197184.0000 - MSE: 1927197184.0000 - val_loss: 1999918720.0000 - val_MSE: 1999918720.0000\n",
      "Epoch 247/500\n",
      "12/12 [==============================] - 0s 3ms/step - loss: 1926318208.0000 - MSE: 1926318208.0000 - val_loss: 1999045376.0000 - val_MSE: 1999045376.0000\n",
      "Epoch 248/500\n",
      "12/12 [==============================] - 0s 4ms/step - loss: 1925431424.0000 - MSE: 1925431424.0000 - val_loss: 1998177920.0000 - val_MSE: 1998177920.0000\n",
      "Epoch 249/500\n",
      "12/12 [==============================] - 0s 4ms/step - loss: 1924550144.0000 - MSE: 1924550144.0000 - val_loss: 1997303424.0000 - val_MSE: 1997303424.0000\n",
      "Epoch 250/500\n",
      "12/12 [==============================] - 0s 4ms/step - loss: 1923672064.0000 - MSE: 1923672064.0000 - val_loss: 1996423552.0000 - val_MSE: 1996423552.0000\n",
      "Epoch 251/500\n",
      "12/12 [==============================] - 0s 4ms/step - loss: 1922776320.0000 - MSE: 1922776320.0000 - val_loss: 1995558144.0000 - val_MSE: 1995558144.0000\n",
      "Epoch 252/500\n",
      "12/12 [==============================] - 0s 5ms/step - loss: 1921894656.0000 - MSE: 1921894656.0000 - val_loss: 1994682112.0000 - val_MSE: 1994682112.0000\n",
      "Epoch 253/500\n",
      "12/12 [==============================] - 0s 5ms/step - loss: 1921003776.0000 - MSE: 1921003776.0000 - val_loss: 1993806592.0000 - val_MSE: 1993806592.0000\n",
      "Epoch 254/500\n",
      "12/12 [==============================] - 0s 5ms/step - loss: 1920110080.0000 - MSE: 1920110080.0000 - val_loss: 1992930048.0000 - val_MSE: 1992930048.0000\n",
      "Epoch 255/500\n",
      "12/12 [==============================] - 0s 5ms/step - loss: 1919225600.0000 - MSE: 1919225600.0000 - val_loss: 1992044160.0000 - val_MSE: 1992044160.0000\n",
      "Epoch 256/500\n",
      "12/12 [==============================] - 0s 5ms/step - loss: 1918333440.0000 - MSE: 1918333440.0000 - val_loss: 1991146496.0000 - val_MSE: 1991146496.0000\n",
      "Epoch 257/500\n",
      "12/12 [==============================] - 0s 5ms/step - loss: 1917431040.0000 - MSE: 1917431040.0000 - val_loss: 1990259712.0000 - val_MSE: 1990259712.0000\n",
      "Epoch 258/500\n",
      "12/12 [==============================] - 0s 4ms/step - loss: 1916524928.0000 - MSE: 1916524928.0000 - val_loss: 1989372288.0000 - val_MSE: 1989372288.0000\n",
      "Epoch 259/500\n",
      "12/12 [==============================] - 0s 4ms/step - loss: 1915614208.0000 - MSE: 1915614208.0000 - val_loss: 1988477696.0000 - val_MSE: 1988477696.0000\n",
      "Epoch 260/500\n",
      "12/12 [==============================] - 0s 5ms/step - loss: 1914713856.0000 - MSE: 1914713856.0000 - val_loss: 1987577472.0000 - val_MSE: 1987577472.0000\n",
      "Epoch 261/500\n",
      "12/12 [==============================] - 0s 4ms/step - loss: 1913799040.0000 - MSE: 1913799040.0000 - val_loss: 1986679040.0000 - val_MSE: 1986679040.0000\n",
      "Epoch 262/500\n",
      "12/12 [==============================] - 0s 4ms/step - loss: 1912883840.0000 - MSE: 1912883840.0000 - val_loss: 1985777280.0000 - val_MSE: 1985777280.0000\n",
      "Epoch 263/500\n",
      "12/12 [==============================] - 0s 4ms/step - loss: 1911969280.0000 - MSE: 1911969280.0000 - val_loss: 1984872704.0000 - val_MSE: 1984872704.0000\n",
      "Epoch 264/500\n",
      "12/12 [==============================] - 0s 3ms/step - loss: 1911049728.0000 - MSE: 1911049728.0000 - val_loss: 1983966464.0000 - val_MSE: 1983966464.0000\n",
      "Epoch 265/500\n",
      "12/12 [==============================] - 0s 4ms/step - loss: 1910134272.0000 - MSE: 1910134272.0000 - val_loss: 1983059712.0000 - val_MSE: 1983059712.0000\n",
      "Epoch 266/500\n",
      "12/12 [==============================] - 0s 4ms/step - loss: 1909216000.0000 - MSE: 1909216000.0000 - val_loss: 1982150656.0000 - val_MSE: 1982150656.0000\n",
      "Epoch 267/500\n",
      "12/12 [==============================] - 0s 4ms/step - loss: 1908292736.0000 - MSE: 1908292736.0000 - val_loss: 1981248256.0000 - val_MSE: 1981248256.0000\n",
      "Epoch 268/500\n",
      "12/12 [==============================] - 0s 4ms/step - loss: 1907378176.0000 - MSE: 1907378176.0000 - val_loss: 1980333056.0000 - val_MSE: 1980333056.0000\n",
      "Epoch 269/500\n",
      "12/12 [==============================] - 0s 4ms/step - loss: 1906452480.0000 - MSE: 1906452480.0000 - val_loss: 1979414144.0000 - val_MSE: 1979414144.0000\n",
      "Epoch 270/500\n",
      "12/12 [==============================] - 0s 4ms/step - loss: 1905521152.0000 - MSE: 1905521152.0000 - val_loss: 1978488576.0000 - val_MSE: 1978488576.0000\n",
      "Epoch 271/500\n",
      "12/12 [==============================] - 0s 4ms/step - loss: 1904580352.0000 - MSE: 1904580352.0000 - val_loss: 1977566976.0000 - val_MSE: 1977566976.0000\n",
      "Epoch 272/500\n",
      "12/12 [==============================] - 0s 4ms/step - loss: 1903649664.0000 - MSE: 1903649664.0000 - val_loss: 1976639104.0000 - val_MSE: 1976639104.0000\n",
      "Epoch 273/500\n",
      "12/12 [==============================] - 0s 4ms/step - loss: 1902716032.0000 - MSE: 1902716032.0000 - val_loss: 1975716480.0000 - val_MSE: 1975716480.0000\n",
      "Epoch 274/500\n",
      "12/12 [==============================] - 0s 4ms/step - loss: 1901769856.0000 - MSE: 1901769856.0000 - val_loss: 1974799360.0000 - val_MSE: 1974799360.0000\n",
      "Epoch 275/500\n",
      "12/12 [==============================] - 0s 5ms/step - loss: 1900834560.0000 - MSE: 1900834560.0000 - val_loss: 1973871232.0000 - val_MSE: 1973871232.0000\n",
      "Epoch 276/500\n",
      "12/12 [==============================] - 0s 4ms/step - loss: 1899907584.0000 - MSE: 1899907584.0000 - val_loss: 1972938496.0000 - val_MSE: 1972938496.0000\n",
      "Epoch 277/500\n",
      "12/12 [==============================] - 0s 4ms/step - loss: 1898960000.0000 - MSE: 1898960000.0000 - val_loss: 1972016512.0000 - val_MSE: 1972016512.0000\n",
      "Epoch 278/500\n",
      "12/12 [==============================] - 0s 4ms/step - loss: 1898024320.0000 - MSE: 1898024320.0000 - val_loss: 1971087104.0000 - val_MSE: 1971087104.0000\n",
      "Epoch 279/500\n",
      "12/12 [==============================] - 0s 4ms/step - loss: 1897076224.0000 - MSE: 1897076224.0000 - val_loss: 1970139904.0000 - val_MSE: 1970139904.0000\n",
      "Epoch 280/500\n",
      "12/12 [==============================] - 0s 5ms/step - loss: 1896116352.0000 - MSE: 1896116352.0000 - val_loss: 1969193984.0000 - val_MSE: 1969193984.0000\n",
      "Epoch 281/500\n",
      "12/12 [==============================] - 0s 5ms/step - loss: 1895163264.0000 - MSE: 1895163264.0000 - val_loss: 1968250112.0000 - val_MSE: 1968250112.0000\n",
      "Epoch 282/500\n",
      "12/12 [==============================] - 0s 5ms/step - loss: 1894205568.0000 - MSE: 1894205568.0000 - val_loss: 1967310080.0000 - val_MSE: 1967310080.0000\n",
      "Epoch 283/500\n",
      "12/12 [==============================] - 0s 5ms/step - loss: 1893252352.0000 - MSE: 1893252352.0000 - val_loss: 1966363008.0000 - val_MSE: 1966363008.0000\n",
      "Epoch 284/500\n",
      "12/12 [==============================] - 0s 4ms/step - loss: 1892292864.0000 - MSE: 1892292864.0000 - val_loss: 1965413120.0000 - val_MSE: 1965413120.0000\n",
      "Epoch 285/500\n",
      "12/12 [==============================] - 0s 4ms/step - loss: 1891331456.0000 - MSE: 1891331456.0000 - val_loss: 1964468224.0000 - val_MSE: 1964468224.0000\n",
      "Epoch 286/500\n",
      "12/12 [==============================] - 0s 4ms/step - loss: 1890378880.0000 - MSE: 1890378880.0000 - val_loss: 1963520384.0000 - val_MSE: 1963520384.0000\n",
      "Epoch 287/500\n",
      "12/12 [==============================] - 0s 4ms/step - loss: 1889416192.0000 - MSE: 1889416192.0000 - val_loss: 1962577536.0000 - val_MSE: 1962577536.0000\n",
      "Epoch 288/500\n",
      "12/12 [==============================] - 0s 5ms/step - loss: 1888460800.0000 - MSE: 1888460800.0000 - val_loss: 1961630720.0000 - val_MSE: 1961630720.0000\n",
      "Epoch 289/500\n",
      "12/12 [==============================] - 0s 4ms/step - loss: 1887500160.0000 - MSE: 1887500160.0000 - val_loss: 1960678784.0000 - val_MSE: 1960678784.0000\n",
      "Epoch 290/500\n",
      "12/12 [==============================] - 0s 4ms/step - loss: 1886539264.0000 - MSE: 1886539264.0000 - val_loss: 1959723392.0000 - val_MSE: 1959723392.0000\n",
      "Epoch 291/500\n"
     ]
    },
    {
     "name": "stdout",
     "output_type": "stream",
     "text": [
      "12/12 [==============================] - 0s 4ms/step - loss: 1885565184.0000 - MSE: 1885565184.0000 - val_loss: 1958774400.0000 - val_MSE: 1958774400.0000\n",
      "Epoch 292/500\n",
      "12/12 [==============================] - 0s 4ms/step - loss: 1884598912.0000 - MSE: 1884598912.0000 - val_loss: 1957822080.0000 - val_MSE: 1957822080.0000\n",
      "Epoch 293/500\n",
      "12/12 [==============================] - 0s 4ms/step - loss: 1883629184.0000 - MSE: 1883629184.0000 - val_loss: 1956865792.0000 - val_MSE: 1956865792.0000\n",
      "Epoch 294/500\n",
      "12/12 [==============================] - 0s 5ms/step - loss: 1882654848.0000 - MSE: 1882654848.0000 - val_loss: 1955897728.0000 - val_MSE: 1955897728.0000\n",
      "Epoch 295/500\n",
      "12/12 [==============================] - 0s 4ms/step - loss: 1881676032.0000 - MSE: 1881676032.0000 - val_loss: 1954926976.0000 - val_MSE: 1954926976.0000\n",
      "Epoch 296/500\n",
      "12/12 [==============================] - 0s 4ms/step - loss: 1880694784.0000 - MSE: 1880694784.0000 - val_loss: 1953964416.0000 - val_MSE: 1953964416.0000\n",
      "Epoch 297/500\n",
      "12/12 [==============================] - 0s 4ms/step - loss: 1879719808.0000 - MSE: 1879719808.0000 - val_loss: 1952990592.0000 - val_MSE: 1952990592.0000\n",
      "Epoch 298/500\n",
      "12/12 [==============================] - 0s 4ms/step - loss: 1878728832.0000 - MSE: 1878728832.0000 - val_loss: 1952028928.0000 - val_MSE: 1952028928.0000\n",
      "Epoch 299/500\n",
      "12/12 [==============================] - 0s 4ms/step - loss: 1877751808.0000 - MSE: 1877751808.0000 - val_loss: 1951052160.0000 - val_MSE: 1951052160.0000\n",
      "Epoch 300/500\n",
      "12/12 [==============================] - 0s 4ms/step - loss: 1876765952.0000 - MSE: 1876765952.0000 - val_loss: 1950076544.0000 - val_MSE: 1950076544.0000\n",
      "Epoch 301/500\n",
      "12/12 [==============================] - 0s 4ms/step - loss: 1875778176.0000 - MSE: 1875778176.0000 - val_loss: 1949089024.0000 - val_MSE: 1949089024.0000\n",
      "Epoch 302/500\n",
      "12/12 [==============================] - 0s 4ms/step - loss: 1874772352.0000 - MSE: 1874772352.0000 - val_loss: 1948116224.0000 - val_MSE: 1948116224.0000\n",
      "Epoch 303/500\n",
      "12/12 [==============================] - 0s 4ms/step - loss: 1873784704.0000 - MSE: 1873784704.0000 - val_loss: 1947123712.0000 - val_MSE: 1947123712.0000\n",
      "Epoch 304/500\n",
      "12/12 [==============================] - 0s 4ms/step - loss: 1872785536.0000 - MSE: 1872785536.0000 - val_loss: 1946131200.0000 - val_MSE: 1946131200.0000\n",
      "Epoch 305/500\n",
      "12/12 [==============================] - 0s 4ms/step - loss: 1871780096.0000 - MSE: 1871780096.0000 - val_loss: 1945136512.0000 - val_MSE: 1945136512.0000\n",
      "Epoch 306/500\n",
      "12/12 [==============================] - 0s 4ms/step - loss: 1870768128.0000 - MSE: 1870768128.0000 - val_loss: 1944148992.0000 - val_MSE: 1944148992.0000\n",
      "Epoch 307/500\n",
      "12/12 [==============================] - 0s 4ms/step - loss: 1869767168.0000 - MSE: 1869767168.0000 - val_loss: 1943152256.0000 - val_MSE: 1943152256.0000\n",
      "Epoch 308/500\n",
      "12/12 [==============================] - 0s 4ms/step - loss: 1868759168.0000 - MSE: 1868759168.0000 - val_loss: 1942141184.0000 - val_MSE: 1942141184.0000\n",
      "Epoch 309/500\n",
      "12/12 [==============================] - 0s 4ms/step - loss: 1867739648.0000 - MSE: 1867739648.0000 - val_loss: 1941152128.0000 - val_MSE: 1941152128.0000\n",
      "Epoch 310/500\n",
      "12/12 [==============================] - 0s 4ms/step - loss: 1866739072.0000 - MSE: 1866739072.0000 - val_loss: 1940162560.0000 - val_MSE: 1940162560.0000\n",
      "Epoch 311/500\n",
      "12/12 [==============================] - 0s 4ms/step - loss: 1865731584.0000 - MSE: 1865731584.0000 - val_loss: 1939157376.0000 - val_MSE: 1939157376.0000\n",
      "Epoch 312/500\n",
      "12/12 [==============================] - 0s 4ms/step - loss: 1864722048.0000 - MSE: 1864722048.0000 - val_loss: 1938160256.0000 - val_MSE: 1938160256.0000\n",
      "Epoch 313/500\n",
      "12/12 [==============================] - 0s 4ms/step - loss: 1863714944.0000 - MSE: 1863714944.0000 - val_loss: 1937157760.0000 - val_MSE: 1937157760.0000\n",
      "Epoch 314/500\n",
      "12/12 [==============================] - 0s 4ms/step - loss: 1862695168.0000 - MSE: 1862695168.0000 - val_loss: 1936157056.0000 - val_MSE: 1936157056.0000\n",
      "Epoch 315/500\n",
      "12/12 [==============================] - 0s 4ms/step - loss: 1861670272.0000 - MSE: 1861670272.0000 - val_loss: 1935147008.0000 - val_MSE: 1935147008.0000\n",
      "Epoch 316/500\n",
      "12/12 [==============================] - 0s 4ms/step - loss: 1860657024.0000 - MSE: 1860657024.0000 - val_loss: 1934137088.0000 - val_MSE: 1934137088.0000\n",
      "Epoch 317/500\n",
      "12/12 [==============================] - 0s 4ms/step - loss: 1859636224.0000 - MSE: 1859636224.0000 - val_loss: 1933125888.0000 - val_MSE: 1933125888.0000\n",
      "Epoch 318/500\n",
      "12/12 [==============================] - 0s 4ms/step - loss: 1858606848.0000 - MSE: 1858606848.0000 - val_loss: 1932112256.0000 - val_MSE: 1932112256.0000\n",
      "Epoch 319/500\n",
      "12/12 [==============================] - 0s 4ms/step - loss: 1857579520.0000 - MSE: 1857579520.0000 - val_loss: 1931096064.0000 - val_MSE: 1931096064.0000\n",
      "Epoch 320/500\n",
      "12/12 [==============================] - 0s 4ms/step - loss: 1856540800.0000 - MSE: 1856540800.0000 - val_loss: 1930069632.0000 - val_MSE: 1930069632.0000\n",
      "Epoch 321/500\n",
      "12/12 [==============================] - 0s 4ms/step - loss: 1855509248.0000 - MSE: 1855509248.0000 - val_loss: 1929049088.0000 - val_MSE: 1929049088.0000\n",
      "Epoch 322/500\n",
      "12/12 [==============================] - 0s 4ms/step - loss: 1854481664.0000 - MSE: 1854481664.0000 - val_loss: 1928024832.0000 - val_MSE: 1928024832.0000\n",
      "Epoch 323/500\n",
      "12/12 [==============================] - 0s 4ms/step - loss: 1853445248.0000 - MSE: 1853445248.0000 - val_loss: 1927001088.0000 - val_MSE: 1927001088.0000\n",
      "Epoch 324/500\n",
      "12/12 [==============================] - 0s 5ms/step - loss: 1852412928.0000 - MSE: 1852412928.0000 - val_loss: 1925988736.0000 - val_MSE: 1925988736.0000\n",
      "Epoch 325/500\n",
      "12/12 [==============================] - 0s 4ms/step - loss: 1851383808.0000 - MSE: 1851383808.0000 - val_loss: 1924955520.0000 - val_MSE: 1924955520.0000\n",
      "Epoch 326/500\n",
      "12/12 [==============================] - 0s 4ms/step - loss: 1850336512.0000 - MSE: 1850336512.0000 - val_loss: 1923931136.0000 - val_MSE: 1923931136.0000\n",
      "Epoch 327/500\n",
      "12/12 [==============================] - 0s 4ms/step - loss: 1849301888.0000 - MSE: 1849301888.0000 - val_loss: 1922906880.0000 - val_MSE: 1922906880.0000\n",
      "Epoch 328/500\n",
      "12/12 [==============================] - 0s 4ms/step - loss: 1848259328.0000 - MSE: 1848259328.0000 - val_loss: 1921878272.0000 - val_MSE: 1921878272.0000\n",
      "Epoch 329/500\n",
      "12/12 [==============================] - 0s 4ms/step - loss: 1847224576.0000 - MSE: 1847224576.0000 - val_loss: 1920845568.0000 - val_MSE: 1920845568.0000\n",
      "Epoch 330/500\n",
      "12/12 [==============================] - 0s 4ms/step - loss: 1846166016.0000 - MSE: 1846166016.0000 - val_loss: 1919818368.0000 - val_MSE: 1919818368.0000\n",
      "Epoch 331/500\n",
      "12/12 [==============================] - 0s 4ms/step - loss: 1845127680.0000 - MSE: 1845127680.0000 - val_loss: 1918773632.0000 - val_MSE: 1918773632.0000\n",
      "Epoch 332/500\n",
      "12/12 [==============================] - 0s 3ms/step - loss: 1844076928.0000 - MSE: 1844076928.0000 - val_loss: 1917732608.0000 - val_MSE: 1917732608.0000\n",
      "Epoch 333/500\n",
      "12/12 [==============================] - 0s 5ms/step - loss: 1843019264.0000 - MSE: 1843019264.0000 - val_loss: 1916694784.0000 - val_MSE: 1916694784.0000\n",
      "Epoch 334/500\n",
      "12/12 [==============================] - 0s 3ms/step - loss: 1841967360.0000 - MSE: 1841967360.0000 - val_loss: 1915653888.0000 - val_MSE: 1915653888.0000\n",
      "Epoch 335/500\n",
      "12/12 [==============================] - 0s 3ms/step - loss: 1840923008.0000 - MSE: 1840923008.0000 - val_loss: 1914614400.0000 - val_MSE: 1914614400.0000\n",
      "Epoch 336/500\n",
      "12/12 [==============================] - 0s 5ms/step - loss: 1839858560.0000 - MSE: 1839858560.0000 - val_loss: 1913584000.0000 - val_MSE: 1913584000.0000\n",
      "Epoch 337/500\n",
      "12/12 [==============================] - 0s 5ms/step - loss: 1838808320.0000 - MSE: 1838808320.0000 - val_loss: 1912536704.0000 - val_MSE: 1912536704.0000\n",
      "Epoch 338/500\n",
      "12/12 [==============================] - 0s 4ms/step - loss: 1837751552.0000 - MSE: 1837751552.0000 - val_loss: 1911484800.0000 - val_MSE: 1911484800.0000\n",
      "Epoch 339/500\n"
     ]
    },
    {
     "name": "stdout",
     "output_type": "stream",
     "text": [
      "12/12 [==============================] - 0s 5ms/step - loss: 1836681216.0000 - MSE: 1836681216.0000 - val_loss: 1910441600.0000 - val_MSE: 1910441600.0000\n",
      "Epoch 340/500\n",
      "12/12 [==============================] - 0s 5ms/step - loss: 1835631104.0000 - MSE: 1835631104.0000 - val_loss: 1909395456.0000 - val_MSE: 1909395456.0000\n",
      "Epoch 341/500\n",
      "12/12 [==============================] - 0s 5ms/step - loss: 1834578432.0000 - MSE: 1834578432.0000 - val_loss: 1908343808.0000 - val_MSE: 1908343808.0000\n",
      "Epoch 342/500\n",
      "12/12 [==============================] - 0s 5ms/step - loss: 1833508736.0000 - MSE: 1833508736.0000 - val_loss: 1907297920.0000 - val_MSE: 1907297920.0000\n",
      "Epoch 343/500\n",
      "12/12 [==============================] - 0s 5ms/step - loss: 1832447488.0000 - MSE: 1832447488.0000 - val_loss: 1906245248.0000 - val_MSE: 1906245248.0000\n",
      "Epoch 344/500\n",
      "12/12 [==============================] - 0s 3ms/step - loss: 1831371136.0000 - MSE: 1831371136.0000 - val_loss: 1905187840.0000 - val_MSE: 1905187840.0000\n",
      "Epoch 345/500\n",
      "12/12 [==============================] - 0s 3ms/step - loss: 1830301184.0000 - MSE: 1830301184.0000 - val_loss: 1904121856.0000 - val_MSE: 1904121856.0000\n",
      "Epoch 346/500\n",
      "12/12 [==============================] - 0s 5ms/step - loss: 1829219840.0000 - MSE: 1829219840.0000 - val_loss: 1903055616.0000 - val_MSE: 1903055616.0000\n",
      "Epoch 347/500\n",
      "12/12 [==============================] - 0s 5ms/step - loss: 1828139520.0000 - MSE: 1828139520.0000 - val_loss: 1901975808.0000 - val_MSE: 1901975808.0000\n",
      "Epoch 348/500\n",
      "12/12 [==============================] - 0s 5ms/step - loss: 1827054336.0000 - MSE: 1827054336.0000 - val_loss: 1900909568.0000 - val_MSE: 1900909568.0000\n",
      "Epoch 349/500\n",
      "12/12 [==============================] - 0s 5ms/step - loss: 1825976576.0000 - MSE: 1825976576.0000 - val_loss: 1899832576.0000 - val_MSE: 1899832576.0000\n",
      "Epoch 350/500\n",
      "12/12 [==============================] - 0s 5ms/step - loss: 1824883968.0000 - MSE: 1824883968.0000 - val_loss: 1898763904.0000 - val_MSE: 1898763904.0000\n",
      "Epoch 351/500\n",
      "12/12 [==============================] - 0s 5ms/step - loss: 1823804672.0000 - MSE: 1823804672.0000 - val_loss: 1897686016.0000 - val_MSE: 1897686016.0000\n",
      "Epoch 352/500\n",
      "12/12 [==============================] - 0s 5ms/step - loss: 1822716160.0000 - MSE: 1822716160.0000 - val_loss: 1896616704.0000 - val_MSE: 1896616704.0000\n",
      "Epoch 353/500\n",
      "12/12 [==============================] - 0s 5ms/step - loss: 1821636608.0000 - MSE: 1821636608.0000 - val_loss: 1895539456.0000 - val_MSE: 1895539456.0000\n",
      "Epoch 354/500\n",
      "12/12 [==============================] - 0s 5ms/step - loss: 1820551296.0000 - MSE: 1820551296.0000 - val_loss: 1894465792.0000 - val_MSE: 1894465792.0000\n",
      "Epoch 355/500\n",
      "12/12 [==============================] - 0s 3ms/step - loss: 1819463808.0000 - MSE: 1819463808.0000 - val_loss: 1893398144.0000 - val_MSE: 1893398144.0000\n",
      "Epoch 356/500\n",
      "12/12 [==============================] - 0s 4ms/step - loss: 1818379904.0000 - MSE: 1818379904.0000 - val_loss: 1892333568.0000 - val_MSE: 1892333568.0000\n",
      "Epoch 357/500\n",
      "12/12 [==============================] - 0s 5ms/step - loss: 1817293568.0000 - MSE: 1817293568.0000 - val_loss: 1891255296.0000 - val_MSE: 1891255296.0000\n",
      "Epoch 358/500\n",
      "12/12 [==============================] - 0s 5ms/step - loss: 1816194560.0000 - MSE: 1816194560.0000 - val_loss: 1890170624.0000 - val_MSE: 1890170624.0000\n",
      "Epoch 359/500\n",
      "12/12 [==============================] - 0s 5ms/step - loss: 1815107840.0000 - MSE: 1815107840.0000 - val_loss: 1889076864.0000 - val_MSE: 1889076864.0000\n",
      "Epoch 360/500\n",
      "12/12 [==============================] - 0s 5ms/step - loss: 1813998080.0000 - MSE: 1813998080.0000 - val_loss: 1888000768.0000 - val_MSE: 1888000768.0000\n",
      "Epoch 361/500\n",
      "12/12 [==============================] - 0s 5ms/step - loss: 1812911104.0000 - MSE: 1812911104.0000 - val_loss: 1886908416.0000 - val_MSE: 1886908416.0000\n",
      "Epoch 362/500\n",
      "12/12 [==============================] - 0s 5ms/step - loss: 1811805952.0000 - MSE: 1811805952.0000 - val_loss: 1885824256.0000 - val_MSE: 1885824256.0000\n",
      "Epoch 363/500\n",
      "12/12 [==============================] - 0s 6ms/step - loss: 1810702336.0000 - MSE: 1810702336.0000 - val_loss: 1884739968.0000 - val_MSE: 1884739968.0000\n",
      "Epoch 364/500\n",
      "12/12 [==============================] - 0s 5ms/step - loss: 1809599104.0000 - MSE: 1809599104.0000 - val_loss: 1883655808.0000 - val_MSE: 1883655808.0000\n",
      "Epoch 365/500\n",
      "12/12 [==============================] - 0s 5ms/step - loss: 1808504576.0000 - MSE: 1808504576.0000 - val_loss: 1882553088.0000 - val_MSE: 1882553088.0000\n",
      "Epoch 366/500\n",
      "12/12 [==============================] - 0s 5ms/step - loss: 1807386752.0000 - MSE: 1807386752.0000 - val_loss: 1881461760.0000 - val_MSE: 1881461760.0000\n",
      "Epoch 367/500\n",
      "12/12 [==============================] - 0s 5ms/step - loss: 1806288640.0000 - MSE: 1806288640.0000 - val_loss: 1880363776.0000 - val_MSE: 1880363776.0000\n",
      "Epoch 368/500\n",
      "12/12 [==============================] - 0s 5ms/step - loss: 1805171840.0000 - MSE: 1805171840.0000 - val_loss: 1879260928.0000 - val_MSE: 1879260928.0000\n",
      "Epoch 369/500\n",
      "12/12 [==============================] - 0s 5ms/step - loss: 1804048768.0000 - MSE: 1804048768.0000 - val_loss: 1878154496.0000 - val_MSE: 1878154496.0000\n",
      "Epoch 370/500\n",
      "12/12 [==============================] - 0s 5ms/step - loss: 1802929408.0000 - MSE: 1802929408.0000 - val_loss: 1877038720.0000 - val_MSE: 1877038720.0000\n",
      "Epoch 371/500\n",
      "12/12 [==============================] - 0s 6ms/step - loss: 1801803648.0000 - MSE: 1801803648.0000 - val_loss: 1875935232.0000 - val_MSE: 1875935232.0000\n",
      "Epoch 372/500\n",
      "12/12 [==============================] - 0s 5ms/step - loss: 1800677376.0000 - MSE: 1800677376.0000 - val_loss: 1874819072.0000 - val_MSE: 1874819072.0000\n",
      "Epoch 373/500\n",
      "12/12 [==============================] - 0s 5ms/step - loss: 1799548800.0000 - MSE: 1799548800.0000 - val_loss: 1873708416.0000 - val_MSE: 1873708416.0000\n",
      "Epoch 374/500\n",
      "12/12 [==============================] - 0s 5ms/step - loss: 1798430720.0000 - MSE: 1798430720.0000 - val_loss: 1872596224.0000 - val_MSE: 1872596224.0000\n",
      "Epoch 375/500\n",
      "12/12 [==============================] - 0s 5ms/step - loss: 1797312768.0000 - MSE: 1797312768.0000 - val_loss: 1871476736.0000 - val_MSE: 1871476736.0000\n",
      "Epoch 376/500\n",
      "12/12 [==============================] - 0s 5ms/step - loss: 1796173056.0000 - MSE: 1796173056.0000 - val_loss: 1870369024.0000 - val_MSE: 1870369024.0000\n",
      "Epoch 377/500\n",
      "12/12 [==============================] - 0s 4ms/step - loss: 1795047808.0000 - MSE: 1795047808.0000 - val_loss: 1869264256.0000 - val_MSE: 1869264256.0000\n",
      "Epoch 378/500\n",
      "12/12 [==============================] - 0s 6ms/step - loss: 1793928576.0000 - MSE: 1793928576.0000 - val_loss: 1868147968.0000 - val_MSE: 1868147968.0000\n",
      "Epoch 379/500\n",
      "12/12 [==============================] - 0s 5ms/step - loss: 1792796928.0000 - MSE: 1792796928.0000 - val_loss: 1867024000.0000 - val_MSE: 1867024000.0000\n",
      "Epoch 380/500\n",
      "12/12 [==============================] - 0s 5ms/step - loss: 1791674624.0000 - MSE: 1791674624.0000 - val_loss: 1865899392.0000 - val_MSE: 1865899392.0000\n",
      "Epoch 381/500\n",
      "12/12 [==============================] - 0s 5ms/step - loss: 1790537088.0000 - MSE: 1790537088.0000 - val_loss: 1864784256.0000 - val_MSE: 1864784256.0000\n",
      "Epoch 382/500\n",
      "12/12 [==============================] - 0s 5ms/step - loss: 1789404928.0000 - MSE: 1789404928.0000 - val_loss: 1863662976.0000 - val_MSE: 1863662976.0000\n",
      "Epoch 383/500\n",
      "12/12 [==============================] - 0s 6ms/step - loss: 1788274944.0000 - MSE: 1788274944.0000 - val_loss: 1862555648.0000 - val_MSE: 1862555648.0000\n",
      "Epoch 384/500\n",
      "12/12 [==============================] - 0s 5ms/step - loss: 1787154944.0000 - MSE: 1787154944.0000 - val_loss: 1861423104.0000 - val_MSE: 1861423104.0000\n",
      "Epoch 385/500\n",
      "12/12 [==============================] - 0s 6ms/step - loss: 1786006016.0000 - MSE: 1786006016.0000 - val_loss: 1860287744.0000 - val_MSE: 1860287744.0000\n",
      "Epoch 386/500\n",
      "12/12 [==============================] - 0s 5ms/step - loss: 1784860800.0000 - MSE: 1784860800.0000 - val_loss: 1859169664.0000 - val_MSE: 1859169664.0000\n",
      "Epoch 387/500\n"
     ]
    },
    {
     "name": "stdout",
     "output_type": "stream",
     "text": [
      "12/12 [==============================] - 0s 6ms/step - loss: 1783722624.0000 - MSE: 1783722624.0000 - val_loss: 1858046720.0000 - val_MSE: 1858046720.0000\n",
      "Epoch 388/500\n",
      "12/12 [==============================] - 0s 5ms/step - loss: 1782578432.0000 - MSE: 1782578432.0000 - val_loss: 1856910592.0000 - val_MSE: 1856910592.0000\n",
      "Epoch 389/500\n",
      "12/12 [==============================] - 0s 6ms/step - loss: 1781437184.0000 - MSE: 1781437184.0000 - val_loss: 1855774080.0000 - val_MSE: 1855774080.0000\n",
      "Epoch 390/500\n",
      "12/12 [==============================] - 0s 6ms/step - loss: 1780284032.0000 - MSE: 1780284032.0000 - val_loss: 1854633216.0000 - val_MSE: 1854633216.0000\n",
      "Epoch 391/500\n",
      "12/12 [==============================] - 0s 6ms/step - loss: 1779141504.0000 - MSE: 1779141504.0000 - val_loss: 1853489152.0000 - val_MSE: 1853489152.0000\n",
      "Epoch 392/500\n",
      "12/12 [==============================] - 0s 6ms/step - loss: 1777985536.0000 - MSE: 1777985536.0000 - val_loss: 1852350080.0000 - val_MSE: 1852350080.0000\n",
      "Epoch 393/500\n",
      "12/12 [==============================] - 0s 6ms/step - loss: 1776832384.0000 - MSE: 1776832384.0000 - val_loss: 1851212160.0000 - val_MSE: 1851212160.0000\n",
      "Epoch 394/500\n",
      "12/12 [==============================] - 0s 5ms/step - loss: 1775676928.0000 - MSE: 1775676928.0000 - val_loss: 1850066176.0000 - val_MSE: 1850066176.0000\n",
      "Epoch 395/500\n",
      "12/12 [==============================] - 0s 5ms/step - loss: 1774527360.0000 - MSE: 1774527360.0000 - val_loss: 1848929024.0000 - val_MSE: 1848929024.0000\n",
      "Epoch 396/500\n",
      "12/12 [==============================] - 0s 5ms/step - loss: 1773372672.0000 - MSE: 1773372672.0000 - val_loss: 1847799424.0000 - val_MSE: 1847799424.0000\n",
      "Epoch 397/500\n",
      "12/12 [==============================] - 0s 5ms/step - loss: 1772223232.0000 - MSE: 1772223232.0000 - val_loss: 1846648448.0000 - val_MSE: 1846648448.0000\n",
      "Epoch 398/500\n",
      "12/12 [==============================] - 0s 4ms/step - loss: 1771061120.0000 - MSE: 1771061120.0000 - val_loss: 1845495040.0000 - val_MSE: 1845495040.0000\n",
      "Epoch 399/500\n",
      "12/12 [==============================] - 0s 4ms/step - loss: 1769900032.0000 - MSE: 1769900032.0000 - val_loss: 1844346880.0000 - val_MSE: 1844346880.0000\n",
      "Epoch 400/500\n",
      "12/12 [==============================] - 0s 6ms/step - loss: 1768734592.0000 - MSE: 1768734592.0000 - val_loss: 1843203712.0000 - val_MSE: 1843203712.0000\n",
      "Epoch 401/500\n",
      "12/12 [==============================] - 0s 6ms/step - loss: 1767575296.0000 - MSE: 1767575296.0000 - val_loss: 1842055936.0000 - val_MSE: 1842055936.0000\n",
      "Epoch 402/500\n",
      "12/12 [==============================] - 0s 6ms/step - loss: 1766415232.0000 - MSE: 1766415232.0000 - val_loss: 1840899840.0000 - val_MSE: 1840899840.0000\n",
      "Epoch 403/500\n",
      "12/12 [==============================] - 0s 6ms/step - loss: 1765241856.0000 - MSE: 1765241856.0000 - val_loss: 1839741568.0000 - val_MSE: 1839741568.0000\n",
      "Epoch 404/500\n",
      "12/12 [==============================] - 0s 6ms/step - loss: 1764075520.0000 - MSE: 1764075520.0000 - val_loss: 1838571776.0000 - val_MSE: 1838571776.0000\n",
      "Epoch 405/500\n",
      "12/12 [==============================] - 0s 4ms/step - loss: 1762896512.0000 - MSE: 1762896512.0000 - val_loss: 1837418112.0000 - val_MSE: 1837418112.0000\n",
      "Epoch 406/500\n",
      "12/12 [==============================] - 0s 5ms/step - loss: 1761730560.0000 - MSE: 1761730560.0000 - val_loss: 1836253568.0000 - val_MSE: 1836253568.0000\n",
      "Epoch 407/500\n",
      "12/12 [==============================] - 0s 6ms/step - loss: 1760542720.0000 - MSE: 1760542720.0000 - val_loss: 1835088512.0000 - val_MSE: 1835088512.0000\n",
      "Epoch 408/500\n",
      "12/12 [==============================] - 0s 6ms/step - loss: 1759367040.0000 - MSE: 1759367040.0000 - val_loss: 1833918208.0000 - val_MSE: 1833918208.0000\n",
      "Epoch 409/500\n",
      "12/12 [==============================] - 0s 5ms/step - loss: 1758192128.0000 - MSE: 1758192128.0000 - val_loss: 1832762624.0000 - val_MSE: 1832762624.0000\n",
      "Epoch 410/500\n",
      "12/12 [==============================] - 0s 6ms/step - loss: 1757014272.0000 - MSE: 1757014272.0000 - val_loss: 1831591936.0000 - val_MSE: 1831591936.0000\n",
      "Epoch 411/500\n",
      "12/12 [==============================] - 0s 5ms/step - loss: 1755831168.0000 - MSE: 1755831168.0000 - val_loss: 1830418816.0000 - val_MSE: 1830418816.0000\n",
      "Epoch 412/500\n",
      "12/12 [==============================] - 0s 6ms/step - loss: 1754649344.0000 - MSE: 1754649344.0000 - val_loss: 1829253504.0000 - val_MSE: 1829253504.0000\n",
      "Epoch 413/500\n",
      "12/12 [==============================] - 0s 6ms/step - loss: 1753470464.0000 - MSE: 1753470464.0000 - val_loss: 1828088192.0000 - val_MSE: 1828088192.0000\n",
      "Epoch 414/500\n",
      "12/12 [==============================] - 0s 5ms/step - loss: 1752281600.0000 - MSE: 1752281600.0000 - val_loss: 1826921216.0000 - val_MSE: 1826921216.0000\n",
      "Epoch 415/500\n",
      "12/12 [==============================] - 0s 6ms/step - loss: 1751103744.0000 - MSE: 1751103744.0000 - val_loss: 1825731584.0000 - val_MSE: 1825731584.0000\n",
      "Epoch 416/500\n",
      "12/12 [==============================] - 0s 5ms/step - loss: 1749908736.0000 - MSE: 1749908736.0000 - val_loss: 1824549120.0000 - val_MSE: 1824549120.0000\n",
      "Epoch 417/500\n",
      "12/12 [==============================] - 0s 6ms/step - loss: 1748718720.0000 - MSE: 1748718720.0000 - val_loss: 1823381504.0000 - val_MSE: 1823381504.0000\n",
      "Epoch 418/500\n",
      "12/12 [==============================] - 0s 5ms/step - loss: 1747543808.0000 - MSE: 1747543808.0000 - val_loss: 1822199808.0000 - val_MSE: 1822199808.0000\n",
      "Epoch 419/500\n",
      "12/12 [==============================] - 0s 5ms/step - loss: 1746339840.0000 - MSE: 1746339840.0000 - val_loss: 1821031040.0000 - val_MSE: 1821031040.0000\n",
      "Epoch 420/500\n",
      "12/12 [==============================] - 0s 6ms/step - loss: 1745159552.0000 - MSE: 1745159552.0000 - val_loss: 1819850752.0000 - val_MSE: 1819850752.0000\n",
      "Epoch 421/500\n",
      "12/12 [==============================] - 0s 5ms/step - loss: 1743967744.0000 - MSE: 1743967744.0000 - val_loss: 1818669056.0000 - val_MSE: 1818669056.0000\n",
      "Epoch 422/500\n",
      "12/12 [==============================] - 0s 5ms/step - loss: 1742774656.0000 - MSE: 1742774656.0000 - val_loss: 1817497984.0000 - val_MSE: 1817497984.0000\n",
      "Epoch 423/500\n",
      "12/12 [==============================] - 0s 5ms/step - loss: 1741587584.0000 - MSE: 1741587584.0000 - val_loss: 1816309376.0000 - val_MSE: 1816309376.0000\n",
      "Epoch 424/500\n",
      "12/12 [==============================] - 0s 6ms/step - loss: 1740385152.0000 - MSE: 1740385152.0000 - val_loss: 1815129728.0000 - val_MSE: 1815129728.0000\n",
      "Epoch 425/500\n",
      "12/12 [==============================] - 0s 6ms/step - loss: 1739192064.0000 - MSE: 1739192064.0000 - val_loss: 1813939968.0000 - val_MSE: 1813939968.0000\n",
      "Epoch 426/500\n",
      "12/12 [==============================] - 0s 5ms/step - loss: 1737991808.0000 - MSE: 1737991808.0000 - val_loss: 1812742912.0000 - val_MSE: 1812742912.0000\n",
      "Epoch 427/500\n",
      "12/12 [==============================] - 0s 6ms/step - loss: 1736784512.0000 - MSE: 1736784512.0000 - val_loss: 1811555968.0000 - val_MSE: 1811555968.0000\n",
      "Epoch 428/500\n",
      "12/12 [==============================] - 0s 5ms/step - loss: 1735580416.0000 - MSE: 1735580416.0000 - val_loss: 1810367744.0000 - val_MSE: 1810367744.0000\n",
      "Epoch 429/500\n",
      "12/12 [==============================] - 0s 5ms/step - loss: 1734373632.0000 - MSE: 1734373632.0000 - val_loss: 1809169152.0000 - val_MSE: 1809169152.0000\n",
      "Epoch 430/500\n",
      "12/12 [==============================] - 0s 5ms/step - loss: 1733164160.0000 - MSE: 1733164160.0000 - val_loss: 1807970304.0000 - val_MSE: 1807970304.0000\n",
      "Epoch 431/500\n",
      "12/12 [==============================] - 0s 5ms/step - loss: 1731947008.0000 - MSE: 1731947008.0000 - val_loss: 1806767872.0000 - val_MSE: 1806767872.0000\n",
      "Epoch 432/500\n",
      "12/12 [==============================] - 0s 6ms/step - loss: 1730731136.0000 - MSE: 1730731136.0000 - val_loss: 1805561472.0000 - val_MSE: 1805561472.0000\n",
      "Epoch 433/500\n",
      "12/12 [==============================] - 0s 5ms/step - loss: 1729519232.0000 - MSE: 1729519232.0000 - val_loss: 1804353792.0000 - val_MSE: 1804353792.0000\n",
      "Epoch 434/500\n",
      "12/12 [==============================] - 0s 5ms/step - loss: 1728299392.0000 - MSE: 1728299392.0000 - val_loss: 1803141376.0000 - val_MSE: 1803141376.0000\n",
      "Epoch 435/500\n"
     ]
    },
    {
     "name": "stdout",
     "output_type": "stream",
     "text": [
      "12/12 [==============================] - 0s 5ms/step - loss: 1727070592.0000 - MSE: 1727070592.0000 - val_loss: 1801934080.0000 - val_MSE: 1801934080.0000\n",
      "Epoch 436/500\n",
      "12/12 [==============================] - 0s 5ms/step - loss: 1725857664.0000 - MSE: 1725857664.0000 - val_loss: 1800717568.0000 - val_MSE: 1800717568.0000\n",
      "Epoch 437/500\n",
      "12/12 [==============================] - 0s 6ms/step - loss: 1724623488.0000 - MSE: 1724623488.0000 - val_loss: 1799507200.0000 - val_MSE: 1799507200.0000\n",
      "Epoch 438/500\n",
      "12/12 [==============================] - 0s 5ms/step - loss: 1723416192.0000 - MSE: 1723416192.0000 - val_loss: 1798300672.0000 - val_MSE: 1798300672.0000\n",
      "Epoch 439/500\n",
      "12/12 [==============================] - 0s 4ms/step - loss: 1722198016.0000 - MSE: 1722198016.0000 - val_loss: 1797096704.0000 - val_MSE: 1797096704.0000\n",
      "Epoch 440/500\n",
      "12/12 [==============================] - 0s 5ms/step - loss: 1720978048.0000 - MSE: 1720978048.0000 - val_loss: 1795876224.0000 - val_MSE: 1795876224.0000\n",
      "Epoch 441/500\n",
      "12/12 [==============================] - 0s 5ms/step - loss: 1719750400.0000 - MSE: 1719750400.0000 - val_loss: 1794675072.0000 - val_MSE: 1794675072.0000\n",
      "Epoch 442/500\n",
      "12/12 [==============================] - 0s 5ms/step - loss: 1718541568.0000 - MSE: 1718541568.0000 - val_loss: 1793461248.0000 - val_MSE: 1793461248.0000\n",
      "Epoch 443/500\n",
      "12/12 [==============================] - 0s 5ms/step - loss: 1717318272.0000 - MSE: 1717318272.0000 - val_loss: 1792257408.0000 - val_MSE: 1792257408.0000\n",
      "Epoch 444/500\n",
      "12/12 [==============================] - 0s 5ms/step - loss: 1716089856.0000 - MSE: 1716089856.0000 - val_loss: 1791044352.0000 - val_MSE: 1791044352.0000\n",
      "Epoch 445/500\n",
      "12/12 [==============================] - 0s 5ms/step - loss: 1714865792.0000 - MSE: 1714865792.0000 - val_loss: 1789828736.0000 - val_MSE: 1789828736.0000\n",
      "Epoch 446/500\n",
      "12/12 [==============================] - 0s 6ms/step - loss: 1713637632.0000 - MSE: 1713637632.0000 - val_loss: 1788600320.0000 - val_MSE: 1788600320.0000\n",
      "Epoch 447/500\n",
      "12/12 [==============================] - 0s 6ms/step - loss: 1712396672.0000 - MSE: 1712396672.0000 - val_loss: 1787380480.0000 - val_MSE: 1787380480.0000\n",
      "Epoch 448/500\n",
      "12/12 [==============================] - 0s 5ms/step - loss: 1711171712.0000 - MSE: 1711171712.0000 - val_loss: 1786154752.0000 - val_MSE: 1786154752.0000\n",
      "Epoch 449/500\n",
      "12/12 [==============================] - 0s 6ms/step - loss: 1709934720.0000 - MSE: 1709934720.0000 - val_loss: 1784922496.0000 - val_MSE: 1784922496.0000\n",
      "Epoch 450/500\n",
      "12/12 [==============================] - 0s 5ms/step - loss: 1708683008.0000 - MSE: 1708683008.0000 - val_loss: 1783684352.0000 - val_MSE: 1783684352.0000\n",
      "Epoch 451/500\n",
      "12/12 [==============================] - 0s 5ms/step - loss: 1707436032.0000 - MSE: 1707436032.0000 - val_loss: 1782451200.0000 - val_MSE: 1782451200.0000\n",
      "Epoch 452/500\n",
      "12/12 [==============================] - 0s 6ms/step - loss: 1706191488.0000 - MSE: 1706191488.0000 - val_loss: 1781225472.0000 - val_MSE: 1781225472.0000\n",
      "Epoch 453/500\n",
      "12/12 [==============================] - 0s 5ms/step - loss: 1704943744.0000 - MSE: 1704943744.0000 - val_loss: 1779998464.0000 - val_MSE: 1779998464.0000\n",
      "Epoch 454/500\n",
      "12/12 [==============================] - 0s 5ms/step - loss: 1703707136.0000 - MSE: 1703707136.0000 - val_loss: 1778748800.0000 - val_MSE: 1778748800.0000\n",
      "Epoch 455/500\n",
      "12/12 [==============================] - 0s 6ms/step - loss: 1702448128.0000 - MSE: 1702448128.0000 - val_loss: 1777520896.0000 - val_MSE: 1777520896.0000\n",
      "Epoch 456/500\n",
      "12/12 [==============================] - 0s 5ms/step - loss: 1701214208.0000 - MSE: 1701214208.0000 - val_loss: 1776275072.0000 - val_MSE: 1776275072.0000\n",
      "Epoch 457/500\n",
      "12/12 [==============================] - 0s 5ms/step - loss: 1699958144.0000 - MSE: 1699958144.0000 - val_loss: 1775020416.0000 - val_MSE: 1775020416.0000\n",
      "Epoch 458/500\n",
      "12/12 [==============================] - 0s 6ms/step - loss: 1698708224.0000 - MSE: 1698708224.0000 - val_loss: 1773779328.0000 - val_MSE: 1773779328.0000\n",
      "Epoch 459/500\n",
      "12/12 [==============================] - 0s 5ms/step - loss: 1697455616.0000 - MSE: 1697455616.0000 - val_loss: 1772550912.0000 - val_MSE: 1772550912.0000\n",
      "Epoch 460/500\n",
      "12/12 [==============================] - 0s 5ms/step - loss: 1696215168.0000 - MSE: 1696215168.0000 - val_loss: 1771319040.0000 - val_MSE: 1771319040.0000\n",
      "Epoch 461/500\n",
      "12/12 [==============================] - 0s 5ms/step - loss: 1694971264.0000 - MSE: 1694971264.0000 - val_loss: 1770092544.0000 - val_MSE: 1770092544.0000\n",
      "Epoch 462/500\n",
      "12/12 [==============================] - 0s 5ms/step - loss: 1693720960.0000 - MSE: 1693720960.0000 - val_loss: 1768846336.0000 - val_MSE: 1768846336.0000\n",
      "Epoch 463/500\n",
      "12/12 [==============================] - 0s 5ms/step - loss: 1692465408.0000 - MSE: 1692465408.0000 - val_loss: 1767597056.0000 - val_MSE: 1767597056.0000\n",
      "Epoch 464/500\n",
      "12/12 [==============================] - 0s 6ms/step - loss: 1691203968.0000 - MSE: 1691203968.0000 - val_loss: 1766342400.0000 - val_MSE: 1766342400.0000\n",
      "Epoch 465/500\n",
      "12/12 [==============================] - 0s 5ms/step - loss: 1689938048.0000 - MSE: 1689938048.0000 - val_loss: 1765095168.0000 - val_MSE: 1765095168.0000\n",
      "Epoch 466/500\n",
      "12/12 [==============================] - 0s 5ms/step - loss: 1688678272.0000 - MSE: 1688678272.0000 - val_loss: 1763856768.0000 - val_MSE: 1763856768.0000\n",
      "Epoch 467/500\n",
      "12/12 [==============================] - 0s 3ms/step - loss: 1687419264.0000 - MSE: 1687419264.0000 - val_loss: 1762601984.0000 - val_MSE: 1762601984.0000\n",
      "Epoch 468/500\n",
      "12/12 [==============================] - 0s 4ms/step - loss: 1686155904.0000 - MSE: 1686155904.0000 - val_loss: 1761359872.0000 - val_MSE: 1761359872.0000\n",
      "Epoch 469/500\n",
      "12/12 [==============================] - 0s 5ms/step - loss: 1684899200.0000 - MSE: 1684899200.0000 - val_loss: 1760110336.0000 - val_MSE: 1760110336.0000\n",
      "Epoch 470/500\n",
      "12/12 [==============================] - 0s 5ms/step - loss: 1683639168.0000 - MSE: 1683639168.0000 - val_loss: 1758867840.0000 - val_MSE: 1758867840.0000\n",
      "Epoch 471/500\n",
      "12/12 [==============================] - 0s 5ms/step - loss: 1682380800.0000 - MSE: 1682380800.0000 - val_loss: 1757611264.0000 - val_MSE: 1757611264.0000\n",
      "Epoch 472/500\n",
      "12/12 [==============================] - 0s 5ms/step - loss: 1681124352.0000 - MSE: 1681124352.0000 - val_loss: 1756354304.0000 - val_MSE: 1756354304.0000\n",
      "Epoch 473/500\n",
      "12/12 [==============================] - 0s 5ms/step - loss: 1679854080.0000 - MSE: 1679854080.0000 - val_loss: 1755108992.0000 - val_MSE: 1755108992.0000\n",
      "Epoch 474/500\n",
      "12/12 [==============================] - 0s 5ms/step - loss: 1678589184.0000 - MSE: 1678589184.0000 - val_loss: 1753848192.0000 - val_MSE: 1753848192.0000\n",
      "Epoch 475/500\n",
      "12/12 [==============================] - 0s 5ms/step - loss: 1677318784.0000 - MSE: 1677318784.0000 - val_loss: 1752591744.0000 - val_MSE: 1752591744.0000\n",
      "Epoch 476/500\n",
      "12/12 [==============================] - 0s 5ms/step - loss: 1676062464.0000 - MSE: 1676062464.0000 - val_loss: 1751324416.0000 - val_MSE: 1751324416.0000\n",
      "Epoch 477/500\n",
      "12/12 [==============================] - 0s 3ms/step - loss: 1674778112.0000 - MSE: 1674778112.0000 - val_loss: 1750085248.0000 - val_MSE: 1750085248.0000\n",
      "Epoch 478/500\n",
      "12/12 [==============================] - 0s 4ms/step - loss: 1673516928.0000 - MSE: 1673516928.0000 - val_loss: 1748815488.0000 - val_MSE: 1748815488.0000\n",
      "Epoch 479/500\n",
      "12/12 [==============================] - 0s 5ms/step - loss: 1672235008.0000 - MSE: 1672235008.0000 - val_loss: 1747544448.0000 - val_MSE: 1747544448.0000\n",
      "Epoch 480/500\n",
      "12/12 [==============================] - 0s 5ms/step - loss: 1670955520.0000 - MSE: 1670955520.0000 - val_loss: 1746280064.0000 - val_MSE: 1746280064.0000\n",
      "Epoch 481/500\n",
      "12/12 [==============================] - 0s 5ms/step - loss: 1669674752.0000 - MSE: 1669674752.0000 - val_loss: 1745012480.0000 - val_MSE: 1745012480.0000\n",
      "Epoch 482/500\n",
      "12/12 [==============================] - 0s 5ms/step - loss: 1668389760.0000 - MSE: 1668389760.0000 - val_loss: 1743745792.0000 - val_MSE: 1743745792.0000\n",
      "Epoch 483/500\n"
     ]
    },
    {
     "name": "stdout",
     "output_type": "stream",
     "text": [
      "12/12 [==============================] - 0s 5ms/step - loss: 1667113856.0000 - MSE: 1667113856.0000 - val_loss: 1742473856.0000 - val_MSE: 1742473856.0000\n",
      "Epoch 484/500\n",
      "12/12 [==============================] - 0s 5ms/step - loss: 1665831552.0000 - MSE: 1665831552.0000 - val_loss: 1741201664.0000 - val_MSE: 1741201664.0000\n",
      "Epoch 485/500\n",
      "12/12 [==============================] - 0s 5ms/step - loss: 1664555776.0000 - MSE: 1664555776.0000 - val_loss: 1739939200.0000 - val_MSE: 1739939200.0000\n",
      "Epoch 486/500\n",
      "12/12 [==============================] - 0s 3ms/step - loss: 1663281152.0000 - MSE: 1663281152.0000 - val_loss: 1738667264.0000 - val_MSE: 1738667264.0000\n",
      "Epoch 487/500\n",
      "12/12 [==============================] - 0s 4ms/step - loss: 1661992064.0000 - MSE: 1661992064.0000 - val_loss: 1737405184.0000 - val_MSE: 1737405184.0000\n",
      "Epoch 488/500\n",
      "12/12 [==============================] - 0s 4ms/step - loss: 1660729216.0000 - MSE: 1660729216.0000 - val_loss: 1736130816.0000 - val_MSE: 1736130816.0000\n",
      "Epoch 489/500\n",
      "12/12 [==============================] - 0s 5ms/step - loss: 1659428992.0000 - MSE: 1659428992.0000 - val_loss: 1734855296.0000 - val_MSE: 1734855296.0000\n",
      "Epoch 490/500\n",
      "12/12 [==============================] - 0s 5ms/step - loss: 1658140928.0000 - MSE: 1658140928.0000 - val_loss: 1733570944.0000 - val_MSE: 1733570944.0000\n",
      "Epoch 491/500\n",
      "12/12 [==============================] - 0s 5ms/step - loss: 1656845824.0000 - MSE: 1656845824.0000 - val_loss: 1732278912.0000 - val_MSE: 1732278912.0000\n",
      "Epoch 492/500\n",
      "12/12 [==============================] - 0s 4ms/step - loss: 1655551104.0000 - MSE: 1655551104.0000 - val_loss: 1730983552.0000 - val_MSE: 1730983552.0000\n",
      "Epoch 493/500\n",
      "12/12 [==============================] - 0s 5ms/step - loss: 1654240256.0000 - MSE: 1654240256.0000 - val_loss: 1729694336.0000 - val_MSE: 1729694336.0000\n",
      "Epoch 494/500\n",
      "12/12 [==============================] - 0s 5ms/step - loss: 1652948480.0000 - MSE: 1652948480.0000 - val_loss: 1728406784.0000 - val_MSE: 1728406784.0000\n",
      "Epoch 495/500\n",
      "12/12 [==============================] - 0s 5ms/step - loss: 1651654144.0000 - MSE: 1651654144.0000 - val_loss: 1727126528.0000 - val_MSE: 1727126528.0000\n",
      "Epoch 496/500\n",
      "12/12 [==============================] - 0s 5ms/step - loss: 1650355200.0000 - MSE: 1650355200.0000 - val_loss: 1725837568.0000 - val_MSE: 1725837568.0000\n",
      "Epoch 497/500\n",
      "12/12 [==============================] - 0s 3ms/step - loss: 1649048832.0000 - MSE: 1649048832.0000 - val_loss: 1724548096.0000 - val_MSE: 1724548096.0000\n",
      "Epoch 498/500\n",
      "12/12 [==============================] - 0s 5ms/step - loss: 1647752320.0000 - MSE: 1647752320.0000 - val_loss: 1723239168.0000 - val_MSE: 1723239168.0000\n",
      "Epoch 499/500\n",
      "12/12 [==============================] - 0s 5ms/step - loss: 1646436352.0000 - MSE: 1646436352.0000 - val_loss: 1721949952.0000 - val_MSE: 1721949952.0000\n",
      "Epoch 500/500\n",
      "12/12 [==============================] - 0s 5ms/step - loss: 1645133056.0000 - MSE: 1645133056.0000 - val_loss: 1720647936.0000 - val_MSE: 1720647936.0000\n"
     ]
    }
   ],
   "source": [
    "s = time.time()\n",
    "model.fit(x_train, y_train, epochs=500, batch_size=32, validation_split=0.1)\n",
    "e = time.time()\n",
    "tt1 = e-s"
   ]
  },
  {
   "cell_type": "markdown",
   "id": "ef00d5d7",
   "metadata": {},
   "source": [
    "# Step 7: Evaluate the Model"
   ]
  },
  {
   "cell_type": "code",
   "execution_count": 49,
   "id": "15e3f605",
   "metadata": {},
   "outputs": [
    {
     "name": "stdout",
     "output_type": "stream",
     "text": [
      "4/4 [==============================] - 0s 6ms/step\n"
     ]
    }
   ],
   "source": [
    "from sklearn.metrics import mean_squared_error\n",
    "s = time.time()\n",
    "y_pred = model.predict(x_test)\n",
    "e = time.time()\n",
    "te1 = e-s\n",
    "p1 = mean_squared_error(y_pred,y_test)"
   ]
  },
  {
   "cell_type": "markdown",
   "id": "298936f8",
   "metadata": {},
   "source": [
    "# Step 8: Build the Deep Neural Network Model"
   ]
  },
  {
   "cell_type": "code",
   "execution_count": 50,
   "id": "7b040bf5",
   "metadata": {},
   "outputs": [],
   "source": [
    "model = Sequential()\n",
    "\n",
    "model.add(Dense(108, activation='relu', input_shape=(216,)))\n",
    "model.add(Dense(54, activation='relu'))\n",
    "model.add(Dense(27, activation='relu'))\n",
    "\n",
    "model.add(Dense(1, activation='linear'))\n",
    "\n",
    "model.compile(optimizer='adam', loss='mean_squared_error',metrics='MSE')"
   ]
  },
  {
   "cell_type": "markdown",
   "id": "d54d2910",
   "metadata": {},
   "source": [
    "### Clarify Your Deep Neural Network (DNN) Model, Optimization, and Loss Function Choices and justify "
   ]
  },
  {
   "cell_type": "markdown",
   "id": "5e94ee60",
   "metadata": {},
   "source": [
    "Write your anwser here"
   ]
  },
  {
   "cell_type": "markdown",
   "id": "fd026668",
   "metadata": {},
   "source": [
    "# Step 9: Train the Model"
   ]
  },
  {
   "cell_type": "code",
   "execution_count": 51,
   "id": "c3132af2",
   "metadata": {},
   "outputs": [
    {
     "name": "stdout",
     "output_type": "stream",
     "text": [
      "Epoch 1/500\n",
      "12/12 [==============================] - 1s 14ms/step - loss: 2051819520.0000 - MSE: 2051819520.0000 - val_loss: 2123265664.0000 - val_MSE: 2123265664.0000\n",
      "Epoch 2/500\n",
      "12/12 [==============================] - 0s 4ms/step - loss: 2051739008.0000 - MSE: 2051739008.0000 - val_loss: 2123139328.0000 - val_MSE: 2123139328.0000\n",
      "Epoch 3/500\n",
      "12/12 [==============================] - 0s 5ms/step - loss: 2051542016.0000 - MSE: 2051542016.0000 - val_loss: 2122829824.0000 - val_MSE: 2122829824.0000\n",
      "Epoch 4/500\n",
      "12/12 [==============================] - 0s 5ms/step - loss: 2051074560.0000 - MSE: 2051074560.0000 - val_loss: 2122104832.0000 - val_MSE: 2122104832.0000\n",
      "Epoch 5/500\n",
      "12/12 [==============================] - 0s 4ms/step - loss: 2050015104.0000 - MSE: 2050015104.0000 - val_loss: 2120561024.0000 - val_MSE: 2120561024.0000\n",
      "Epoch 6/500\n",
      "12/12 [==============================] - 0s 4ms/step - loss: 2047910656.0000 - MSE: 2047910656.0000 - val_loss: 2117587712.0000 - val_MSE: 2117587712.0000\n",
      "Epoch 7/500\n",
      "12/12 [==============================] - 0s 4ms/step - loss: 2044002304.0000 - MSE: 2044002304.0000 - val_loss: 2112373120.0000 - val_MSE: 2112373120.0000\n",
      "Epoch 8/500\n",
      "12/12 [==============================] - 0s 4ms/step - loss: 2037390208.0000 - MSE: 2037390208.0000 - val_loss: 2103831552.0000 - val_MSE: 2103831552.0000\n",
      "Epoch 9/500\n",
      "12/12 [==============================] - 0s 5ms/step - loss: 2026798208.0000 - MSE: 2026798208.0000 - val_loss: 2090626304.0000 - val_MSE: 2090626304.0000\n",
      "Epoch 10/500\n",
      "12/12 [==============================] - 0s 5ms/step - loss: 2010773888.0000 - MSE: 2010773888.0000 - val_loss: 2071316480.0000 - val_MSE: 2071316480.0000\n",
      "Epoch 11/500\n",
      "12/12 [==============================] - 0s 4ms/step - loss: 1987863424.0000 - MSE: 1987863424.0000 - val_loss: 2043708416.0000 - val_MSE: 2043708416.0000\n",
      "Epoch 12/500\n",
      "12/12 [==============================] - 0s 4ms/step - loss: 1955591296.0000 - MSE: 1955591296.0000 - val_loss: 2005854976.0000 - val_MSE: 2005854976.0000\n",
      "Epoch 13/500\n",
      "12/12 [==============================] - 0s 5ms/step - loss: 1912139520.0000 - MSE: 1912139520.0000 - val_loss: 1955844096.0000 - val_MSE: 1955844096.0000\n",
      "Epoch 14/500\n",
      "12/12 [==============================] - 0s 4ms/step - loss: 1855051264.0000 - MSE: 1855051264.0000 - val_loss: 1891576448.0000 - val_MSE: 1891576448.0000\n",
      "Epoch 15/500\n",
      "12/12 [==============================] - 0s 4ms/step - loss: 1784040448.0000 - MSE: 1784040448.0000 - val_loss: 1811293824.0000 - val_MSE: 1811293824.0000\n",
      "Epoch 16/500\n",
      "12/12 [==============================] - 0s 4ms/step - loss: 1695242496.0000 - MSE: 1695242496.0000 - val_loss: 1713865472.0000 - val_MSE: 1713865472.0000\n",
      "Epoch 17/500\n",
      "12/12 [==============================] - 0s 4ms/step - loss: 1588665856.0000 - MSE: 1588665856.0000 - val_loss: 1599123200.0000 - val_MSE: 1599123200.0000\n",
      "Epoch 18/500\n",
      "12/12 [==============================] - 0s 4ms/step - loss: 1466342400.0000 - MSE: 1466342400.0000 - val_loss: 1466255360.0000 - val_MSE: 1466255360.0000\n",
      "Epoch 19/500\n",
      "12/12 [==============================] - 0s 4ms/step - loss: 1325905792.0000 - MSE: 1325905792.0000 - val_loss: 1317367168.0000 - val_MSE: 1317367168.0000\n",
      "Epoch 20/500\n",
      "12/12 [==============================] - 0s 5ms/step - loss: 1170905088.0000 - MSE: 1170905088.0000 - val_loss: 1155315200.0000 - val_MSE: 1155315200.0000\n",
      "Epoch 21/500\n",
      "12/12 [==============================] - 0s 4ms/step - loss: 1005324352.0000 - MSE: 1005324352.0000 - val_loss: 987049792.0000 - val_MSE: 987049792.0000\n",
      "Epoch 22/500\n",
      "12/12 [==============================] - 0s 5ms/step - loss: 839681728.0000 - MSE: 839681728.0000 - val_loss: 817488704.0000 - val_MSE: 817488704.0000\n",
      "Epoch 23/500\n",
      "12/12 [==============================] - 0s 4ms/step - loss: 677302144.0000 - MSE: 677302144.0000 - val_loss: 653878464.0000 - val_MSE: 653878464.0000\n",
      "Epoch 24/500\n",
      "12/12 [==============================] - 0s 5ms/step - loss: 524870400.0000 - MSE: 524870400.0000 - val_loss: 504174144.0000 - val_MSE: 504174144.0000\n",
      "Epoch 25/500\n",
      "12/12 [==============================] - 0s 4ms/step - loss: 391101792.0000 - MSE: 391101792.0000 - val_loss: 377226720.0000 - val_MSE: 377226720.0000\n",
      "Epoch 26/500\n",
      "12/12 [==============================] - 0s 4ms/step - loss: 282447424.0000 - MSE: 282447424.0000 - val_loss: 275531808.0000 - val_MSE: 275531808.0000\n",
      "Epoch 27/500\n",
      "12/12 [==============================] - 0s 4ms/step - loss: 202578256.0000 - MSE: 202578256.0000 - val_loss: 202195328.0000 - val_MSE: 202195328.0000\n",
      "Epoch 28/500\n",
      "12/12 [==============================] - 0s 4ms/step - loss: 150470048.0000 - MSE: 150470048.0000 - val_loss: 151810544.0000 - val_MSE: 151810544.0000\n",
      "Epoch 29/500\n",
      "12/12 [==============================] - 0s 4ms/step - loss: 117945960.0000 - MSE: 117945960.0000 - val_loss: 122284520.0000 - val_MSE: 122284520.0000\n",
      "Epoch 30/500\n",
      "12/12 [==============================] - 0s 6ms/step - loss: 101596680.0000 - MSE: 101596680.0000 - val_loss: 106119016.0000 - val_MSE: 106119016.0000\n",
      "Epoch 31/500\n",
      "12/12 [==============================] - 0s 4ms/step - loss: 93708200.0000 - MSE: 93708200.0000 - val_loss: 96779288.0000 - val_MSE: 96779288.0000\n",
      "Epoch 32/500\n",
      "12/12 [==============================] - 0s 5ms/step - loss: 89296872.0000 - MSE: 89296872.0000 - val_loss: 92751792.0000 - val_MSE: 92751792.0000\n",
      "Epoch 33/500\n",
      "12/12 [==============================] - 0s 4ms/step - loss: 86928888.0000 - MSE: 86928888.0000 - val_loss: 89988336.0000 - val_MSE: 89988336.0000\n",
      "Epoch 34/500\n",
      "12/12 [==============================] - 0s 5ms/step - loss: 84771952.0000 - MSE: 84771952.0000 - val_loss: 87377992.0000 - val_MSE: 87377992.0000\n",
      "Epoch 35/500\n",
      "12/12 [==============================] - 0s 4ms/step - loss: 82723840.0000 - MSE: 82723840.0000 - val_loss: 85699872.0000 - val_MSE: 85699872.0000\n",
      "Epoch 36/500\n",
      "12/12 [==============================] - 0s 4ms/step - loss: 80823880.0000 - MSE: 80823880.0000 - val_loss: 84177264.0000 - val_MSE: 84177264.0000\n",
      "Epoch 37/500\n",
      "12/12 [==============================] - 0s 4ms/step - loss: 79094848.0000 - MSE: 79094848.0000 - val_loss: 82794536.0000 - val_MSE: 82794536.0000\n",
      "Epoch 38/500\n",
      "12/12 [==============================] - 0s 4ms/step - loss: 77251592.0000 - MSE: 77251592.0000 - val_loss: 81849808.0000 - val_MSE: 81849808.0000\n",
      "Epoch 39/500\n",
      "12/12 [==============================] - 0s 4ms/step - loss: 75603552.0000 - MSE: 75603552.0000 - val_loss: 80745232.0000 - val_MSE: 80745232.0000\n",
      "Epoch 40/500\n",
      "12/12 [==============================] - 0s 5ms/step - loss: 73934192.0000 - MSE: 73934192.0000 - val_loss: 79811808.0000 - val_MSE: 79811808.0000\n",
      "Epoch 41/500\n",
      "12/12 [==============================] - 0s 6ms/step - loss: 72302784.0000 - MSE: 72302784.0000 - val_loss: 79065624.0000 - val_MSE: 79065624.0000\n",
      "Epoch 42/500\n",
      "12/12 [==============================] - 0s 6ms/step - loss: 70720136.0000 - MSE: 70720136.0000 - val_loss: 78153136.0000 - val_MSE: 78153136.0000\n",
      "Epoch 43/500\n",
      "12/12 [==============================] - 0s 5ms/step - loss: 69239640.0000 - MSE: 69239640.0000 - val_loss: 77415616.0000 - val_MSE: 77415616.0000\n",
      "Epoch 44/500\n",
      "12/12 [==============================] - 0s 5ms/step - loss: 67666320.0000 - MSE: 67666320.0000 - val_loss: 76072016.0000 - val_MSE: 76072016.0000\n",
      "Epoch 45/500\n",
      "12/12 [==============================] - 0s 5ms/step - loss: 66294460.0000 - MSE: 66294460.0000 - val_loss: 74801912.0000 - val_MSE: 74801912.0000\n",
      "Epoch 46/500\n",
      "12/12 [==============================] - 0s 4ms/step - loss: 64787752.0000 - MSE: 64787752.0000 - val_loss: 74063984.0000 - val_MSE: 74063984.0000\n",
      "Epoch 47/500\n",
      "12/12 [==============================] - 0s 4ms/step - loss: 63445892.0000 - MSE: 63445892.0000 - val_loss: 73433200.0000 - val_MSE: 73433200.0000\n",
      "Epoch 48/500\n",
      "12/12 [==============================] - 0s 4ms/step - loss: 62154876.0000 - MSE: 62154876.0000 - val_loss: 72489832.0000 - val_MSE: 72489832.0000\n",
      "Epoch 49/500\n",
      "12/12 [==============================] - 0s 3ms/step - loss: 60819360.0000 - MSE: 60819360.0000 - val_loss: 72015832.0000 - val_MSE: 72015832.0000\n",
      "Epoch 50/500\n",
      "12/12 [==============================] - 0s 4ms/step - loss: 59615040.0000 - MSE: 59615040.0000 - val_loss: 71155536.0000 - val_MSE: 71155536.0000\n"
     ]
    },
    {
     "name": "stdout",
     "output_type": "stream",
     "text": [
      "Epoch 51/500\n",
      "12/12 [==============================] - 0s 4ms/step - loss: 58428224.0000 - MSE: 58428224.0000 - val_loss: 70392944.0000 - val_MSE: 70392944.0000\n",
      "Epoch 52/500\n",
      "12/12 [==============================] - 0s 5ms/step - loss: 57198440.0000 - MSE: 57198440.0000 - val_loss: 69217576.0000 - val_MSE: 69217576.0000\n",
      "Epoch 53/500\n",
      "12/12 [==============================] - 0s 6ms/step - loss: 56032960.0000 - MSE: 56032960.0000 - val_loss: 68091088.0000 - val_MSE: 68091088.0000\n",
      "Epoch 54/500\n",
      "12/12 [==============================] - 0s 6ms/step - loss: 54903136.0000 - MSE: 54903136.0000 - val_loss: 67596920.0000 - val_MSE: 67596920.0000\n",
      "Epoch 55/500\n",
      "12/12 [==============================] - 0s 5ms/step - loss: 53765488.0000 - MSE: 53765488.0000 - val_loss: 66548148.0000 - val_MSE: 66548148.0000\n",
      "Epoch 56/500\n",
      "12/12 [==============================] - 0s 5ms/step - loss: 52758784.0000 - MSE: 52758784.0000 - val_loss: 65396160.0000 - val_MSE: 65396160.0000\n",
      "Epoch 57/500\n",
      "12/12 [==============================] - 0s 5ms/step - loss: 51704604.0000 - MSE: 51704604.0000 - val_loss: 64653164.0000 - val_MSE: 64653164.0000\n",
      "Epoch 58/500\n",
      "12/12 [==============================] - 0s 6ms/step - loss: 50666056.0000 - MSE: 50666056.0000 - val_loss: 64134088.0000 - val_MSE: 64134088.0000\n",
      "Epoch 59/500\n",
      "12/12 [==============================] - 0s 8ms/step - loss: 49610668.0000 - MSE: 49610668.0000 - val_loss: 64058688.0000 - val_MSE: 64058688.0000\n",
      "Epoch 60/500\n",
      "12/12 [==============================] - 0s 6ms/step - loss: 48683168.0000 - MSE: 48683168.0000 - val_loss: 63410376.0000 - val_MSE: 63410376.0000\n",
      "Epoch 61/500\n",
      "12/12 [==============================] - 0s 7ms/step - loss: 47794972.0000 - MSE: 47794972.0000 - val_loss: 62388952.0000 - val_MSE: 62388952.0000\n",
      "Epoch 62/500\n",
      "12/12 [==============================] - 0s 5ms/step - loss: 46885900.0000 - MSE: 46885900.0000 - val_loss: 61760992.0000 - val_MSE: 61760992.0000\n",
      "Epoch 63/500\n",
      "12/12 [==============================] - 0s 5ms/step - loss: 46006128.0000 - MSE: 46006128.0000 - val_loss: 61367272.0000 - val_MSE: 61367272.0000\n",
      "Epoch 64/500\n",
      "12/12 [==============================] - 0s 5ms/step - loss: 45132344.0000 - MSE: 45132344.0000 - val_loss: 61224264.0000 - val_MSE: 61224264.0000\n",
      "Epoch 65/500\n",
      "12/12 [==============================] - 0s 5ms/step - loss: 44273756.0000 - MSE: 44273756.0000 - val_loss: 60779948.0000 - val_MSE: 60779948.0000\n",
      "Epoch 66/500\n",
      "12/12 [==============================] - 0s 5ms/step - loss: 43389368.0000 - MSE: 43389368.0000 - val_loss: 59928532.0000 - val_MSE: 59928532.0000\n",
      "Epoch 67/500\n",
      "12/12 [==============================] - 0s 5ms/step - loss: 42605368.0000 - MSE: 42605368.0000 - val_loss: 59317248.0000 - val_MSE: 59317248.0000\n",
      "Epoch 68/500\n",
      "12/12 [==============================] - 0s 4ms/step - loss: 41931000.0000 - MSE: 41931000.0000 - val_loss: 58574016.0000 - val_MSE: 58574016.0000\n",
      "Epoch 69/500\n",
      "12/12 [==============================] - 0s 5ms/step - loss: 41104104.0000 - MSE: 41104104.0000 - val_loss: 58659980.0000 - val_MSE: 58659980.0000\n",
      "Epoch 70/500\n",
      "12/12 [==============================] - 0s 5ms/step - loss: 40418348.0000 - MSE: 40418348.0000 - val_loss: 58036064.0000 - val_MSE: 58036064.0000\n",
      "Epoch 71/500\n",
      "12/12 [==============================] - 0s 5ms/step - loss: 39708136.0000 - MSE: 39708136.0000 - val_loss: 57800776.0000 - val_MSE: 57800776.0000\n",
      "Epoch 72/500\n",
      "12/12 [==============================] - 0s 5ms/step - loss: 39074652.0000 - MSE: 39074652.0000 - val_loss: 57666048.0000 - val_MSE: 57666048.0000\n",
      "Epoch 73/500\n",
      "12/12 [==============================] - 0s 5ms/step - loss: 38447464.0000 - MSE: 38447464.0000 - val_loss: 56657160.0000 - val_MSE: 56657160.0000\n",
      "Epoch 74/500\n",
      "12/12 [==============================] - 0s 6ms/step - loss: 37692124.0000 - MSE: 37692124.0000 - val_loss: 56338240.0000 - val_MSE: 56338240.0000\n",
      "Epoch 75/500\n",
      "12/12 [==============================] - 0s 6ms/step - loss: 37114296.0000 - MSE: 37114296.0000 - val_loss: 56025128.0000 - val_MSE: 56025128.0000\n",
      "Epoch 76/500\n",
      "12/12 [==============================] - 0s 6ms/step - loss: 36542244.0000 - MSE: 36542244.0000 - val_loss: 55039232.0000 - val_MSE: 55039232.0000\n",
      "Epoch 77/500\n",
      "12/12 [==============================] - 0s 8ms/step - loss: 35895204.0000 - MSE: 35895204.0000 - val_loss: 55030636.0000 - val_MSE: 55030636.0000\n",
      "Epoch 78/500\n",
      "12/12 [==============================] - 0s 5ms/step - loss: 35321732.0000 - MSE: 35321732.0000 - val_loss: 54788952.0000 - val_MSE: 54788952.0000\n",
      "Epoch 79/500\n",
      "12/12 [==============================] - 0s 5ms/step - loss: 34737528.0000 - MSE: 34737528.0000 - val_loss: 54009324.0000 - val_MSE: 54009324.0000\n",
      "Epoch 80/500\n",
      "12/12 [==============================] - 0s 5ms/step - loss: 34252104.0000 - MSE: 34252104.0000 - val_loss: 53299936.0000 - val_MSE: 53299936.0000\n",
      "Epoch 81/500\n",
      "12/12 [==============================] - 0s 4ms/step - loss: 33717380.0000 - MSE: 33717380.0000 - val_loss: 53445536.0000 - val_MSE: 53445536.0000\n",
      "Epoch 82/500\n",
      "12/12 [==============================] - 0s 5ms/step - loss: 33168524.0000 - MSE: 33168524.0000 - val_loss: 53042352.0000 - val_MSE: 53042352.0000\n",
      "Epoch 83/500\n",
      "12/12 [==============================] - 0s 5ms/step - loss: 32643840.0000 - MSE: 32643840.0000 - val_loss: 52932280.0000 - val_MSE: 52932280.0000\n",
      "Epoch 84/500\n",
      "12/12 [==============================] - 0s 5ms/step - loss: 32153730.0000 - MSE: 32153730.0000 - val_loss: 52845072.0000 - val_MSE: 52845072.0000\n",
      "Epoch 85/500\n",
      "12/12 [==============================] - 0s 5ms/step - loss: 31742382.0000 - MSE: 31742382.0000 - val_loss: 52476592.0000 - val_MSE: 52476592.0000\n",
      "Epoch 86/500\n",
      "12/12 [==============================] - 0s 5ms/step - loss: 31291682.0000 - MSE: 31291682.0000 - val_loss: 51789816.0000 - val_MSE: 51789816.0000\n",
      "Epoch 87/500\n",
      "12/12 [==============================] - 0s 5ms/step - loss: 30803536.0000 - MSE: 30803536.0000 - val_loss: 51490936.0000 - val_MSE: 51490936.0000\n",
      "Epoch 88/500\n",
      "12/12 [==============================] - 0s 5ms/step - loss: 30388782.0000 - MSE: 30388782.0000 - val_loss: 51336384.0000 - val_MSE: 51336384.0000\n",
      "Epoch 89/500\n",
      "12/12 [==============================] - 0s 5ms/step - loss: 29972862.0000 - MSE: 29972862.0000 - val_loss: 51086984.0000 - val_MSE: 51086984.0000\n",
      "Epoch 90/500\n",
      "12/12 [==============================] - 0s 5ms/step - loss: 29536930.0000 - MSE: 29536930.0000 - val_loss: 51057456.0000 - val_MSE: 51057456.0000\n",
      "Epoch 91/500\n",
      "12/12 [==============================] - 0s 5ms/step - loss: 29181300.0000 - MSE: 29181300.0000 - val_loss: 50912708.0000 - val_MSE: 50912708.0000\n",
      "Epoch 92/500\n",
      "12/12 [==============================] - 0s 5ms/step - loss: 28782106.0000 - MSE: 28782106.0000 - val_loss: 50565884.0000 - val_MSE: 50565884.0000\n",
      "Epoch 93/500\n",
      "12/12 [==============================] - 0s 5ms/step - loss: 28428704.0000 - MSE: 28428704.0000 - val_loss: 50015672.0000 - val_MSE: 50015672.0000\n",
      "Epoch 94/500\n",
      "12/12 [==============================] - 0s 4ms/step - loss: 28059494.0000 - MSE: 28059494.0000 - val_loss: 49894680.0000 - val_MSE: 49894680.0000\n",
      "Epoch 95/500\n",
      "12/12 [==============================] - 0s 6ms/step - loss: 27693802.0000 - MSE: 27693802.0000 - val_loss: 49559928.0000 - val_MSE: 49559928.0000\n",
      "Epoch 96/500\n",
      "12/12 [==============================] - 0s 6ms/step - loss: 27304052.0000 - MSE: 27304052.0000 - val_loss: 49831336.0000 - val_MSE: 49831336.0000\n",
      "Epoch 97/500\n",
      "12/12 [==============================] - 0s 6ms/step - loss: 27009380.0000 - MSE: 27009380.0000 - val_loss: 49723260.0000 - val_MSE: 49723260.0000\n",
      "Epoch 98/500\n",
      "12/12 [==============================] - 0s 6ms/step - loss: 26678314.0000 - MSE: 26678314.0000 - val_loss: 49266780.0000 - val_MSE: 49266780.0000\n",
      "Epoch 99/500\n",
      "12/12 [==============================] - 0s 6ms/step - loss: 26357188.0000 - MSE: 26357188.0000 - val_loss: 48402476.0000 - val_MSE: 48402476.0000\n",
      "Epoch 100/500\n",
      "12/12 [==============================] - 0s 5ms/step - loss: 26105982.0000 - MSE: 26105982.0000 - val_loss: 47981908.0000 - val_MSE: 47981908.0000\n",
      "Epoch 101/500\n",
      "12/12 [==============================] - 0s 8ms/step - loss: 25739154.0000 - MSE: 25739154.0000 - val_loss: 48300988.0000 - val_MSE: 48300988.0000\n",
      "Epoch 102/500\n"
     ]
    },
    {
     "name": "stdout",
     "output_type": "stream",
     "text": [
      "12/12 [==============================] - 0s 6ms/step - loss: 25461916.0000 - MSE: 25461916.0000 - val_loss: 48473788.0000 - val_MSE: 48473788.0000\n",
      "Epoch 103/500\n",
      "12/12 [==============================] - 0s 6ms/step - loss: 25165718.0000 - MSE: 25165718.0000 - val_loss: 48247916.0000 - val_MSE: 48247916.0000\n",
      "Epoch 104/500\n",
      "12/12 [==============================] - 0s 5ms/step - loss: 24873816.0000 - MSE: 24873816.0000 - val_loss: 47977704.0000 - val_MSE: 47977704.0000\n",
      "Epoch 105/500\n",
      "12/12 [==============================] - 0s 5ms/step - loss: 24658882.0000 - MSE: 24658882.0000 - val_loss: 47852296.0000 - val_MSE: 47852296.0000\n",
      "Epoch 106/500\n",
      "12/12 [==============================] - 0s 5ms/step - loss: 24398334.0000 - MSE: 24398334.0000 - val_loss: 47128360.0000 - val_MSE: 47128360.0000\n",
      "Epoch 107/500\n",
      "12/12 [==============================] - 0s 5ms/step - loss: 24093318.0000 - MSE: 24093318.0000 - val_loss: 47324268.0000 - val_MSE: 47324268.0000\n",
      "Epoch 108/500\n",
      "12/12 [==============================] - 0s 4ms/step - loss: 23829974.0000 - MSE: 23829974.0000 - val_loss: 47005868.0000 - val_MSE: 47005868.0000\n",
      "Epoch 109/500\n",
      "12/12 [==============================] - 0s 5ms/step - loss: 23620270.0000 - MSE: 23620270.0000 - val_loss: 46579128.0000 - val_MSE: 46579128.0000\n",
      "Epoch 110/500\n",
      "12/12 [==============================] - 0s 5ms/step - loss: 23364192.0000 - MSE: 23364192.0000 - val_loss: 46623448.0000 - val_MSE: 46623448.0000\n",
      "Epoch 111/500\n",
      "12/12 [==============================] - 0s 5ms/step - loss: 23133256.0000 - MSE: 23133256.0000 - val_loss: 46761240.0000 - val_MSE: 46761240.0000\n",
      "Epoch 112/500\n",
      "12/12 [==============================] - 0s 4ms/step - loss: 22872212.0000 - MSE: 22872212.0000 - val_loss: 46372816.0000 - val_MSE: 46372816.0000\n",
      "Epoch 113/500\n",
      "12/12 [==============================] - 0s 6ms/step - loss: 22676530.0000 - MSE: 22676530.0000 - val_loss: 46033528.0000 - val_MSE: 46033528.0000\n",
      "Epoch 114/500\n",
      "12/12 [==============================] - 0s 6ms/step - loss: 22461194.0000 - MSE: 22461194.0000 - val_loss: 46091016.0000 - val_MSE: 46091016.0000\n",
      "Epoch 115/500\n",
      "12/12 [==============================] - 0s 6ms/step - loss: 22247272.0000 - MSE: 22247272.0000 - val_loss: 45954392.0000 - val_MSE: 45954392.0000\n",
      "Epoch 116/500\n",
      "12/12 [==============================] - 0s 6ms/step - loss: 22055732.0000 - MSE: 22055732.0000 - val_loss: 45808588.0000 - val_MSE: 45808588.0000\n",
      "Epoch 117/500\n",
      "12/12 [==============================] - 0s 6ms/step - loss: 21824004.0000 - MSE: 21824004.0000 - val_loss: 45836596.0000 - val_MSE: 45836596.0000\n",
      "Epoch 118/500\n",
      "12/12 [==============================] - 0s 6ms/step - loss: 21629296.0000 - MSE: 21629296.0000 - val_loss: 45922088.0000 - val_MSE: 45922088.0000\n",
      "Epoch 119/500\n",
      "12/12 [==============================] - 0s 6ms/step - loss: 21533444.0000 - MSE: 21533444.0000 - val_loss: 46130100.0000 - val_MSE: 46130100.0000\n",
      "Epoch 120/500\n",
      "12/12 [==============================] - 0s 6ms/step - loss: 21267920.0000 - MSE: 21267920.0000 - val_loss: 45344908.0000 - val_MSE: 45344908.0000\n",
      "Epoch 121/500\n",
      "12/12 [==============================] - 0s 7ms/step - loss: 21074566.0000 - MSE: 21074566.0000 - val_loss: 44983980.0000 - val_MSE: 44983980.0000\n",
      "Epoch 122/500\n",
      "12/12 [==============================] - 0s 6ms/step - loss: 20909630.0000 - MSE: 20909630.0000 - val_loss: 44818220.0000 - val_MSE: 44818220.0000\n",
      "Epoch 123/500\n",
      "12/12 [==============================] - 0s 6ms/step - loss: 20724940.0000 - MSE: 20724940.0000 - val_loss: 44951220.0000 - val_MSE: 44951220.0000\n",
      "Epoch 124/500\n",
      "12/12 [==============================] - 0s 6ms/step - loss: 20631486.0000 - MSE: 20631486.0000 - val_loss: 45168312.0000 - val_MSE: 45168312.0000\n",
      "Epoch 125/500\n",
      "12/12 [==============================] - 0s 8ms/step - loss: 20388964.0000 - MSE: 20388964.0000 - val_loss: 44526296.0000 - val_MSE: 44526296.0000\n",
      "Epoch 126/500\n",
      "12/12 [==============================] - 0s 6ms/step - loss: 20243614.0000 - MSE: 20243614.0000 - val_loss: 44576088.0000 - val_MSE: 44576088.0000\n",
      "Epoch 127/500\n",
      "12/12 [==============================] - 0s 7ms/step - loss: 20051574.0000 - MSE: 20051574.0000 - val_loss: 44360624.0000 - val_MSE: 44360624.0000\n",
      "Epoch 128/500\n",
      "12/12 [==============================] - 0s 6ms/step - loss: 19896292.0000 - MSE: 19896292.0000 - val_loss: 44275432.0000 - val_MSE: 44275432.0000\n",
      "Epoch 129/500\n",
      "12/12 [==============================] - 0s 6ms/step - loss: 19754280.0000 - MSE: 19754280.0000 - val_loss: 44681588.0000 - val_MSE: 44681588.0000\n",
      "Epoch 130/500\n",
      "12/12 [==============================] - 0s 6ms/step - loss: 19627402.0000 - MSE: 19627402.0000 - val_loss: 44026220.0000 - val_MSE: 44026220.0000\n",
      "Epoch 131/500\n",
      "12/12 [==============================] - 0s 6ms/step - loss: 19421958.0000 - MSE: 19421958.0000 - val_loss: 43885568.0000 - val_MSE: 43885568.0000\n",
      "Epoch 132/500\n",
      "12/12 [==============================] - 0s 6ms/step - loss: 19277920.0000 - MSE: 19277920.0000 - val_loss: 43291036.0000 - val_MSE: 43291036.0000\n",
      "Epoch 133/500\n",
      "12/12 [==============================] - 0s 7ms/step - loss: 19137092.0000 - MSE: 19137092.0000 - val_loss: 43376496.0000 - val_MSE: 43376496.0000\n",
      "Epoch 134/500\n",
      "12/12 [==============================] - 0s 6ms/step - loss: 19033332.0000 - MSE: 19033332.0000 - val_loss: 43056320.0000 - val_MSE: 43056320.0000\n",
      "Epoch 135/500\n",
      "12/12 [==============================] - 0s 5ms/step - loss: 18841954.0000 - MSE: 18841954.0000 - val_loss: 43263928.0000 - val_MSE: 43263928.0000\n",
      "Epoch 136/500\n",
      "12/12 [==============================] - 0s 5ms/step - loss: 18716674.0000 - MSE: 18716674.0000 - val_loss: 43013576.0000 - val_MSE: 43013576.0000\n",
      "Epoch 137/500\n",
      "12/12 [==============================] - 0s 5ms/step - loss: 18575020.0000 - MSE: 18575020.0000 - val_loss: 42671708.0000 - val_MSE: 42671708.0000\n",
      "Epoch 138/500\n",
      "12/12 [==============================] - 0s 5ms/step - loss: 18456968.0000 - MSE: 18456968.0000 - val_loss: 42820852.0000 - val_MSE: 42820852.0000\n",
      "Epoch 139/500\n",
      "12/12 [==============================] - 0s 5ms/step - loss: 18296028.0000 - MSE: 18296028.0000 - val_loss: 42705236.0000 - val_MSE: 42705236.0000\n",
      "Epoch 140/500\n",
      "12/12 [==============================] - 0s 5ms/step - loss: 18194980.0000 - MSE: 18194980.0000 - val_loss: 42259224.0000 - val_MSE: 42259224.0000\n",
      "Epoch 141/500\n",
      "12/12 [==============================] - 0s 5ms/step - loss: 18068896.0000 - MSE: 18068896.0000 - val_loss: 42536936.0000 - val_MSE: 42536936.0000\n",
      "Epoch 142/500\n",
      "12/12 [==============================] - 0s 5ms/step - loss: 17992570.0000 - MSE: 17992570.0000 - val_loss: 42030648.0000 - val_MSE: 42030648.0000\n",
      "Epoch 143/500\n",
      "12/12 [==============================] - 0s 5ms/step - loss: 17815452.0000 - MSE: 17815452.0000 - val_loss: 42164516.0000 - val_MSE: 42164516.0000\n",
      "Epoch 144/500\n",
      "12/12 [==============================] - 0s 6ms/step - loss: 17687818.0000 - MSE: 17687818.0000 - val_loss: 41972104.0000 - val_MSE: 41972104.0000\n",
      "Epoch 145/500\n",
      "12/12 [==============================] - 0s 6ms/step - loss: 17575374.0000 - MSE: 17575374.0000 - val_loss: 41810048.0000 - val_MSE: 41810048.0000\n",
      "Epoch 146/500\n",
      "12/12 [==============================] - 0s 6ms/step - loss: 17456086.0000 - MSE: 17456086.0000 - val_loss: 41998528.0000 - val_MSE: 41998528.0000\n",
      "Epoch 147/500\n",
      "12/12 [==============================] - 0s 6ms/step - loss: 17351842.0000 - MSE: 17351842.0000 - val_loss: 41701472.0000 - val_MSE: 41701472.0000\n",
      "Epoch 148/500\n",
      "12/12 [==============================] - 0s 6ms/step - loss: 17240362.0000 - MSE: 17240362.0000 - val_loss: 41348392.0000 - val_MSE: 41348392.0000\n",
      "Epoch 149/500\n",
      "12/12 [==============================] - 0s 6ms/step - loss: 17194016.0000 - MSE: 17194016.0000 - val_loss: 41657208.0000 - val_MSE: 41657208.0000\n",
      "Epoch 150/500\n",
      "12/12 [==============================] - 0s 5ms/step - loss: 17025608.0000 - MSE: 17025608.0000 - val_loss: 41672816.0000 - val_MSE: 41672816.0000\n",
      "Epoch 151/500\n",
      "12/12 [==============================] - 0s 5ms/step - loss: 16896620.0000 - MSE: 16896620.0000 - val_loss: 41695048.0000 - val_MSE: 41695048.0000\n",
      "Epoch 152/500\n",
      "12/12 [==============================] - 0s 4ms/step - loss: 16790488.0000 - MSE: 16790488.0000 - val_loss: 41175136.0000 - val_MSE: 41175136.0000\n"
     ]
    },
    {
     "name": "stdout",
     "output_type": "stream",
     "text": [
      "Epoch 153/500\n",
      "12/12 [==============================] - 0s 6ms/step - loss: 16679232.0000 - MSE: 16679232.0000 - val_loss: 41115304.0000 - val_MSE: 41115304.0000\n",
      "Epoch 154/500\n",
      "12/12 [==============================] - 0s 6ms/step - loss: 16616560.0000 - MSE: 16616560.0000 - val_loss: 41367576.0000 - val_MSE: 41367576.0000\n",
      "Epoch 155/500\n",
      "12/12 [==============================] - 0s 6ms/step - loss: 16472168.0000 - MSE: 16472168.0000 - val_loss: 41101936.0000 - val_MSE: 41101936.0000\n",
      "Epoch 156/500\n",
      "12/12 [==============================] - 0s 6ms/step - loss: 16367124.0000 - MSE: 16367124.0000 - val_loss: 41156244.0000 - val_MSE: 41156244.0000\n",
      "Epoch 157/500\n",
      "12/12 [==============================] - 0s 6ms/step - loss: 16281691.0000 - MSE: 16281691.0000 - val_loss: 40824044.0000 - val_MSE: 40824044.0000\n",
      "Epoch 158/500\n",
      "12/12 [==============================] - 0s 6ms/step - loss: 16191775.0000 - MSE: 16191775.0000 - val_loss: 40790008.0000 - val_MSE: 40790008.0000\n",
      "Epoch 159/500\n",
      "12/12 [==============================] - 0s 5ms/step - loss: 16073553.0000 - MSE: 16073553.0000 - val_loss: 40427572.0000 - val_MSE: 40427572.0000\n",
      "Epoch 160/500\n",
      "12/12 [==============================] - 0s 5ms/step - loss: 15973047.0000 - MSE: 15973047.0000 - val_loss: 40211576.0000 - val_MSE: 40211576.0000\n",
      "Epoch 161/500\n",
      "12/12 [==============================] - 0s 5ms/step - loss: 15895482.0000 - MSE: 15895482.0000 - val_loss: 40285756.0000 - val_MSE: 40285756.0000\n",
      "Epoch 162/500\n",
      "12/12 [==============================] - 0s 5ms/step - loss: 15820503.0000 - MSE: 15820503.0000 - val_loss: 40048688.0000 - val_MSE: 40048688.0000\n",
      "Epoch 163/500\n",
      "12/12 [==============================] - 0s 6ms/step - loss: 15702508.0000 - MSE: 15702508.0000 - val_loss: 40162208.0000 - val_MSE: 40162208.0000\n",
      "Epoch 164/500\n",
      "12/12 [==============================] - 0s 4ms/step - loss: 15626991.0000 - MSE: 15626991.0000 - val_loss: 40053428.0000 - val_MSE: 40053428.0000\n",
      "Epoch 165/500\n",
      "12/12 [==============================] - 0s 4ms/step - loss: 15502719.0000 - MSE: 15502719.0000 - val_loss: 39592492.0000 - val_MSE: 39592492.0000\n",
      "Epoch 166/500\n",
      "12/12 [==============================] - 0s 5ms/step - loss: 15436150.0000 - MSE: 15436150.0000 - val_loss: 39427272.0000 - val_MSE: 39427272.0000\n",
      "Epoch 167/500\n",
      "12/12 [==============================] - 0s 5ms/step - loss: 15353425.0000 - MSE: 15353425.0000 - val_loss: 39371244.0000 - val_MSE: 39371244.0000\n",
      "Epoch 168/500\n",
      "12/12 [==============================] - 0s 5ms/step - loss: 15270054.0000 - MSE: 15270054.0000 - val_loss: 39458616.0000 - val_MSE: 39458616.0000\n",
      "Epoch 169/500\n",
      "12/12 [==============================] - 0s 5ms/step - loss: 15165525.0000 - MSE: 15165525.0000 - val_loss: 39342924.0000 - val_MSE: 39342924.0000\n",
      "Epoch 170/500\n",
      "12/12 [==============================] - 0s 4ms/step - loss: 15078054.0000 - MSE: 15078054.0000 - val_loss: 39299220.0000 - val_MSE: 39299220.0000\n",
      "Epoch 171/500\n",
      "12/12 [==============================] - 0s 4ms/step - loss: 14991851.0000 - MSE: 14991851.0000 - val_loss: 38960404.0000 - val_MSE: 38960404.0000\n",
      "Epoch 172/500\n",
      "12/12 [==============================] - 0s 4ms/step - loss: 15037286.0000 - MSE: 15037286.0000 - val_loss: 38650624.0000 - val_MSE: 38650624.0000\n",
      "Epoch 173/500\n",
      "12/12 [==============================] - 0s 4ms/step - loss: 14802379.0000 - MSE: 14802379.0000 - val_loss: 39070812.0000 - val_MSE: 39070812.0000\n",
      "Epoch 174/500\n",
      "12/12 [==============================] - 0s 4ms/step - loss: 14728690.0000 - MSE: 14728690.0000 - val_loss: 39264536.0000 - val_MSE: 39264536.0000\n",
      "Epoch 175/500\n",
      "12/12 [==============================] - 0s 5ms/step - loss: 14680503.0000 - MSE: 14680503.0000 - val_loss: 38905996.0000 - val_MSE: 38905996.0000\n",
      "Epoch 176/500\n",
      "12/12 [==============================] - 0s 5ms/step - loss: 14579541.0000 - MSE: 14579541.0000 - val_loss: 38839520.0000 - val_MSE: 38839520.0000\n",
      "Epoch 177/500\n",
      "12/12 [==============================] - 0s 5ms/step - loss: 14500241.0000 - MSE: 14500241.0000 - val_loss: 38896752.0000 - val_MSE: 38896752.0000\n",
      "Epoch 178/500\n",
      "12/12 [==============================] - 0s 5ms/step - loss: 14424750.0000 - MSE: 14424750.0000 - val_loss: 38647064.0000 - val_MSE: 38647064.0000\n",
      "Epoch 179/500\n",
      "12/12 [==============================] - 0s 5ms/step - loss: 14334788.0000 - MSE: 14334788.0000 - val_loss: 38200328.0000 - val_MSE: 38200328.0000\n",
      "Epoch 180/500\n",
      "12/12 [==============================] - 0s 5ms/step - loss: 14278290.0000 - MSE: 14278290.0000 - val_loss: 38191368.0000 - val_MSE: 38191368.0000\n",
      "Epoch 181/500\n",
      "12/12 [==============================] - 0s 5ms/step - loss: 14197966.0000 - MSE: 14197966.0000 - val_loss: 38133048.0000 - val_MSE: 38133048.0000\n",
      "Epoch 182/500\n",
      "12/12 [==============================] - 0s 5ms/step - loss: 14112176.0000 - MSE: 14112176.0000 - val_loss: 38246148.0000 - val_MSE: 38246148.0000\n",
      "Epoch 183/500\n",
      "12/12 [==============================] - 0s 5ms/step - loss: 14046686.0000 - MSE: 14046686.0000 - val_loss: 38332432.0000 - val_MSE: 38332432.0000\n",
      "Epoch 184/500\n",
      "12/12 [==============================] - 0s 5ms/step - loss: 13971617.0000 - MSE: 13971617.0000 - val_loss: 38097092.0000 - val_MSE: 38097092.0000\n",
      "Epoch 185/500\n",
      "12/12 [==============================] - 0s 5ms/step - loss: 13876348.0000 - MSE: 13876348.0000 - val_loss: 37696280.0000 - val_MSE: 37696280.0000\n",
      "Epoch 186/500\n",
      "12/12 [==============================] - 0s 5ms/step - loss: 13844592.0000 - MSE: 13844592.0000 - val_loss: 37655568.0000 - val_MSE: 37655568.0000\n",
      "Epoch 187/500\n",
      "12/12 [==============================] - 0s 5ms/step - loss: 13742928.0000 - MSE: 13742928.0000 - val_loss: 37897268.0000 - val_MSE: 37897268.0000\n",
      "Epoch 188/500\n",
      "12/12 [==============================] - 0s 5ms/step - loss: 13663851.0000 - MSE: 13663851.0000 - val_loss: 37565172.0000 - val_MSE: 37565172.0000\n",
      "Epoch 189/500\n",
      "12/12 [==============================] - 0s 5ms/step - loss: 13599393.0000 - MSE: 13599393.0000 - val_loss: 37283232.0000 - val_MSE: 37283232.0000\n",
      "Epoch 190/500\n",
      "12/12 [==============================] - 0s 5ms/step - loss: 13562214.0000 - MSE: 13562214.0000 - val_loss: 37267608.0000 - val_MSE: 37267608.0000\n",
      "Epoch 191/500\n",
      "12/12 [==============================] - 0s 5ms/step - loss: 13494839.0000 - MSE: 13494839.0000 - val_loss: 37720224.0000 - val_MSE: 37720224.0000\n",
      "Epoch 192/500\n",
      "12/12 [==============================] - 0s 5ms/step - loss: 13392213.0000 - MSE: 13392213.0000 - val_loss: 37565064.0000 - val_MSE: 37565064.0000\n",
      "Epoch 193/500\n",
      "12/12 [==============================] - 0s 5ms/step - loss: 13303367.0000 - MSE: 13303367.0000 - val_loss: 37049592.0000 - val_MSE: 37049592.0000\n",
      "Epoch 194/500\n",
      "12/12 [==============================] - 0s 5ms/step - loss: 13254143.0000 - MSE: 13254143.0000 - val_loss: 36999876.0000 - val_MSE: 36999876.0000\n",
      "Epoch 195/500\n",
      "12/12 [==============================] - 0s 5ms/step - loss: 13176700.0000 - MSE: 13176700.0000 - val_loss: 36814384.0000 - val_MSE: 36814384.0000\n",
      "Epoch 196/500\n",
      "12/12 [==============================] - 0s 5ms/step - loss: 13125400.0000 - MSE: 13125400.0000 - val_loss: 36720868.0000 - val_MSE: 36720868.0000\n",
      "Epoch 197/500\n",
      "12/12 [==============================] - 0s 5ms/step - loss: 13044826.0000 - MSE: 13044826.0000 - val_loss: 36645488.0000 - val_MSE: 36645488.0000\n",
      "Epoch 198/500\n",
      "12/12 [==============================] - 0s 5ms/step - loss: 12977118.0000 - MSE: 12977118.0000 - val_loss: 36623992.0000 - val_MSE: 36623992.0000\n",
      "Epoch 199/500\n",
      "12/12 [==============================] - 0s 5ms/step - loss: 12918667.0000 - MSE: 12918667.0000 - val_loss: 36231420.0000 - val_MSE: 36231420.0000\n",
      "Epoch 200/500\n",
      "12/12 [==============================] - 0s 5ms/step - loss: 12850634.0000 - MSE: 12850634.0000 - val_loss: 36094228.0000 - val_MSE: 36094228.0000\n",
      "Epoch 201/500\n",
      "12/12 [==============================] - 0s 6ms/step - loss: 12781658.0000 - MSE: 12781658.0000 - val_loss: 36159284.0000 - val_MSE: 36159284.0000\n",
      "Epoch 202/500\n",
      "12/12 [==============================] - 0s 6ms/step - loss: 12762396.0000 - MSE: 12762396.0000 - val_loss: 36669500.0000 - val_MSE: 36669500.0000\n",
      "Epoch 203/500\n",
      "12/12 [==============================] - 0s 6ms/step - loss: 12684407.0000 - MSE: 12684407.0000 - val_loss: 35981816.0000 - val_MSE: 35981816.0000\n"
     ]
    },
    {
     "name": "stdout",
     "output_type": "stream",
     "text": [
      "Epoch 204/500\n",
      "12/12 [==============================] - 0s 6ms/step - loss: 12591851.0000 - MSE: 12591851.0000 - val_loss: 35850352.0000 - val_MSE: 35850352.0000\n",
      "Epoch 205/500\n",
      "12/12 [==============================] - 0s 5ms/step - loss: 12522900.0000 - MSE: 12522900.0000 - val_loss: 35572604.0000 - val_MSE: 35572604.0000\n",
      "Epoch 206/500\n",
      "12/12 [==============================] - 0s 6ms/step - loss: 12453010.0000 - MSE: 12453010.0000 - val_loss: 35440944.0000 - val_MSE: 35440944.0000\n",
      "Epoch 207/500\n",
      "12/12 [==============================] - 0s 6ms/step - loss: 12400907.0000 - MSE: 12400907.0000 - val_loss: 35126904.0000 - val_MSE: 35126904.0000\n",
      "Epoch 208/500\n",
      "12/12 [==============================] - 0s 6ms/step - loss: 12312687.0000 - MSE: 12312687.0000 - val_loss: 35254424.0000 - val_MSE: 35254424.0000\n",
      "Epoch 209/500\n",
      "12/12 [==============================] - 0s 6ms/step - loss: 12274000.0000 - MSE: 12274000.0000 - val_loss: 35195908.0000 - val_MSE: 35195908.0000\n",
      "Epoch 210/500\n",
      "12/12 [==============================] - 0s 6ms/step - loss: 12241270.0000 - MSE: 12241270.0000 - val_loss: 34664104.0000 - val_MSE: 34664104.0000\n",
      "Epoch 211/500\n",
      "12/12 [==============================] - 0s 7ms/step - loss: 12164369.0000 - MSE: 12164369.0000 - val_loss: 34825096.0000 - val_MSE: 34825096.0000\n",
      "Epoch 212/500\n",
      "12/12 [==============================] - 0s 5ms/step - loss: 12068723.0000 - MSE: 12068723.0000 - val_loss: 34770380.0000 - val_MSE: 34770380.0000\n",
      "Epoch 213/500\n",
      "12/12 [==============================] - 0s 5ms/step - loss: 12023892.0000 - MSE: 12023892.0000 - val_loss: 34253284.0000 - val_MSE: 34253284.0000\n",
      "Epoch 214/500\n",
      "12/12 [==============================] - 0s 5ms/step - loss: 11936292.0000 - MSE: 11936292.0000 - val_loss: 34493192.0000 - val_MSE: 34493192.0000\n",
      "Epoch 215/500\n",
      "12/12 [==============================] - 0s 5ms/step - loss: 11891692.0000 - MSE: 11891692.0000 - val_loss: 34011472.0000 - val_MSE: 34011472.0000\n",
      "Epoch 216/500\n",
      "12/12 [==============================] - 0s 5ms/step - loss: 11833499.0000 - MSE: 11833499.0000 - val_loss: 34153144.0000 - val_MSE: 34153144.0000\n",
      "Epoch 217/500\n",
      "12/12 [==============================] - 0s 5ms/step - loss: 11751906.0000 - MSE: 11751906.0000 - val_loss: 33805140.0000 - val_MSE: 33805140.0000\n",
      "Epoch 218/500\n",
      "12/12 [==============================] - 0s 5ms/step - loss: 11680816.0000 - MSE: 11680816.0000 - val_loss: 33767288.0000 - val_MSE: 33767288.0000\n",
      "Epoch 219/500\n",
      "12/12 [==============================] - 0s 5ms/step - loss: 11620570.0000 - MSE: 11620570.0000 - val_loss: 33881784.0000 - val_MSE: 33881784.0000\n",
      "Epoch 220/500\n",
      "12/12 [==============================] - 0s 5ms/step - loss: 11564444.0000 - MSE: 11564444.0000 - val_loss: 33198218.0000 - val_MSE: 33198218.0000\n",
      "Epoch 221/500\n",
      "12/12 [==============================] - 0s 4ms/step - loss: 11531770.0000 - MSE: 11531770.0000 - val_loss: 33239238.0000 - val_MSE: 33239238.0000\n",
      "Epoch 222/500\n",
      "12/12 [==============================] - 0s 5ms/step - loss: 11451971.0000 - MSE: 11451971.0000 - val_loss: 33388246.0000 - val_MSE: 33388246.0000\n",
      "Epoch 223/500\n",
      "12/12 [==============================] - 0s 5ms/step - loss: 11383716.0000 - MSE: 11383716.0000 - val_loss: 33284442.0000 - val_MSE: 33284442.0000\n",
      "Epoch 224/500\n",
      "12/12 [==============================] - 0s 5ms/step - loss: 11353815.0000 - MSE: 11353815.0000 - val_loss: 33567276.0000 - val_MSE: 33567276.0000\n",
      "Epoch 225/500\n",
      "12/12 [==============================] - 0s 6ms/step - loss: 11262285.0000 - MSE: 11262285.0000 - val_loss: 32992756.0000 - val_MSE: 32992756.0000\n",
      "Epoch 226/500\n",
      "12/12 [==============================] - 0s 5ms/step - loss: 11204102.0000 - MSE: 11204102.0000 - val_loss: 32911478.0000 - val_MSE: 32911478.0000\n",
      "Epoch 227/500\n",
      "12/12 [==============================] - 0s 6ms/step - loss: 11140642.0000 - MSE: 11140642.0000 - val_loss: 32756052.0000 - val_MSE: 32756052.0000\n",
      "Epoch 228/500\n",
      "12/12 [==============================] - 0s 6ms/step - loss: 11098636.0000 - MSE: 11098636.0000 - val_loss: 32496548.0000 - val_MSE: 32496548.0000\n",
      "Epoch 229/500\n",
      "12/12 [==============================] - 0s 6ms/step - loss: 11033676.0000 - MSE: 11033676.0000 - val_loss: 32485184.0000 - val_MSE: 32485184.0000\n",
      "Epoch 230/500\n",
      "12/12 [==============================] - 0s 6ms/step - loss: 10968468.0000 - MSE: 10968468.0000 - val_loss: 32023328.0000 - val_MSE: 32023328.0000\n",
      "Epoch 231/500\n",
      "12/12 [==============================] - 0s 6ms/step - loss: 10931090.0000 - MSE: 10931090.0000 - val_loss: 32357984.0000 - val_MSE: 32357984.0000\n",
      "Epoch 232/500\n",
      "12/12 [==============================] - 0s 5ms/step - loss: 10877115.0000 - MSE: 10877115.0000 - val_loss: 31909642.0000 - val_MSE: 31909642.0000\n",
      "Epoch 233/500\n",
      "12/12 [==============================] - 0s 5ms/step - loss: 10825608.0000 - MSE: 10825608.0000 - val_loss: 32227508.0000 - val_MSE: 32227508.0000\n",
      "Epoch 234/500\n",
      "12/12 [==============================] - 0s 5ms/step - loss: 10736243.0000 - MSE: 10736243.0000 - val_loss: 31670426.0000 - val_MSE: 31670426.0000\n",
      "Epoch 235/500\n",
      "12/12 [==============================] - 0s 5ms/step - loss: 10682920.0000 - MSE: 10682920.0000 - val_loss: 31594064.0000 - val_MSE: 31594064.0000\n",
      "Epoch 236/500\n",
      "12/12 [==============================] - 0s 6ms/step - loss: 10620852.0000 - MSE: 10620852.0000 - val_loss: 31815066.0000 - val_MSE: 31815066.0000\n",
      "Epoch 237/500\n",
      "12/12 [==============================] - 0s 5ms/step - loss: 10588052.0000 - MSE: 10588052.0000 - val_loss: 31457772.0000 - val_MSE: 31457772.0000\n",
      "Epoch 238/500\n",
      "12/12 [==============================] - 0s 5ms/step - loss: 10509702.0000 - MSE: 10509702.0000 - val_loss: 31397674.0000 - val_MSE: 31397674.0000\n",
      "Epoch 239/500\n",
      "12/12 [==============================] - 0s 5ms/step - loss: 10480860.0000 - MSE: 10480860.0000 - val_loss: 31127130.0000 - val_MSE: 31127130.0000\n",
      "Epoch 240/500\n",
      "12/12 [==============================] - 0s 5ms/step - loss: 10406503.0000 - MSE: 10406503.0000 - val_loss: 31299770.0000 - val_MSE: 31299770.0000\n",
      "Epoch 241/500\n",
      "12/12 [==============================] - 0s 5ms/step - loss: 10350205.0000 - MSE: 10350205.0000 - val_loss: 30940832.0000 - val_MSE: 30940832.0000\n",
      "Epoch 242/500\n",
      "12/12 [==============================] - 0s 5ms/step - loss: 10288649.0000 - MSE: 10288649.0000 - val_loss: 30801028.0000 - val_MSE: 30801028.0000\n",
      "Epoch 243/500\n",
      "12/12 [==============================] - 0s 5ms/step - loss: 10249930.0000 - MSE: 10249930.0000 - val_loss: 30675828.0000 - val_MSE: 30675828.0000\n",
      "Epoch 244/500\n",
      "12/12 [==============================] - 0s 5ms/step - loss: 10168230.0000 - MSE: 10168230.0000 - val_loss: 30845860.0000 - val_MSE: 30845860.0000\n",
      "Epoch 245/500\n",
      "12/12 [==============================] - 0s 5ms/step - loss: 10123762.0000 - MSE: 10123762.0000 - val_loss: 30906180.0000 - val_MSE: 30906180.0000\n",
      "Epoch 246/500\n",
      "12/12 [==============================] - 0s 5ms/step - loss: 10056929.0000 - MSE: 10056929.0000 - val_loss: 30372028.0000 - val_MSE: 30372028.0000\n",
      "Epoch 247/500\n",
      "12/12 [==============================] - 0s 5ms/step - loss: 10095600.0000 - MSE: 10095600.0000 - val_loss: 29762492.0000 - val_MSE: 29762492.0000\n",
      "Epoch 248/500\n",
      "12/12 [==============================] - 0s 5ms/step - loss: 9946516.0000 - MSE: 9946516.0000 - val_loss: 30555914.0000 - val_MSE: 30555914.0000\n",
      "Epoch 249/500\n",
      "12/12 [==============================] - 0s 5ms/step - loss: 9972739.0000 - MSE: 9972739.0000 - val_loss: 30366156.0000 - val_MSE: 30366156.0000\n",
      "Epoch 250/500\n",
      "12/12 [==============================] - 0s 5ms/step - loss: 9848383.0000 - MSE: 9848383.0000 - val_loss: 30026410.0000 - val_MSE: 30026410.0000\n",
      "Epoch 251/500\n",
      "12/12 [==============================] - 0s 5ms/step - loss: 9789631.0000 - MSE: 9789631.0000 - val_loss: 29807008.0000 - val_MSE: 29807008.0000\n",
      "Epoch 252/500\n",
      "12/12 [==============================] - 0s 5ms/step - loss: 9729907.0000 - MSE: 9729907.0000 - val_loss: 29945786.0000 - val_MSE: 29945786.0000\n",
      "Epoch 253/500\n",
      "12/12 [==============================] - 0s 5ms/step - loss: 9667906.0000 - MSE: 9667906.0000 - val_loss: 29740720.0000 - val_MSE: 29740720.0000\n",
      "Epoch 254/500\n",
      "12/12 [==============================] - 0s 5ms/step - loss: 9620422.0000 - MSE: 9620422.0000 - val_loss: 29423994.0000 - val_MSE: 29423994.0000\n"
     ]
    },
    {
     "name": "stdout",
     "output_type": "stream",
     "text": [
      "Epoch 255/500\n",
      "12/12 [==============================] - 0s 5ms/step - loss: 9556459.0000 - MSE: 9556459.0000 - val_loss: 29739034.0000 - val_MSE: 29739034.0000\n",
      "Epoch 256/500\n",
      "12/12 [==============================] - 0s 5ms/step - loss: 9524538.0000 - MSE: 9524538.0000 - val_loss: 29368724.0000 - val_MSE: 29368724.0000\n",
      "Epoch 257/500\n",
      "12/12 [==============================] - 0s 5ms/step - loss: 9448566.0000 - MSE: 9448566.0000 - val_loss: 29487882.0000 - val_MSE: 29487882.0000\n",
      "Epoch 258/500\n",
      "12/12 [==============================] - 0s 5ms/step - loss: 9410874.0000 - MSE: 9410874.0000 - val_loss: 29053520.0000 - val_MSE: 29053520.0000\n",
      "Epoch 259/500\n",
      "12/12 [==============================] - 0s 4ms/step - loss: 9354101.0000 - MSE: 9354101.0000 - val_loss: 28935212.0000 - val_MSE: 28935212.0000\n",
      "Epoch 260/500\n",
      "12/12 [==============================] - 0s 5ms/step - loss: 9313357.0000 - MSE: 9313357.0000 - val_loss: 28934358.0000 - val_MSE: 28934358.0000\n",
      "Epoch 261/500\n",
      "12/12 [==============================] - 0s 5ms/step - loss: 9236264.0000 - MSE: 9236264.0000 - val_loss: 28533196.0000 - val_MSE: 28533196.0000\n",
      "Epoch 262/500\n",
      "12/12 [==============================] - 0s 5ms/step - loss: 9194781.0000 - MSE: 9194781.0000 - val_loss: 28417622.0000 - val_MSE: 28417622.0000\n",
      "Epoch 263/500\n",
      "12/12 [==============================] - 0s 5ms/step - loss: 9177820.0000 - MSE: 9177820.0000 - val_loss: 28356788.0000 - val_MSE: 28356788.0000\n",
      "Epoch 264/500\n",
      "12/12 [==============================] - 0s 5ms/step - loss: 9080614.0000 - MSE: 9080614.0000 - val_loss: 28493236.0000 - val_MSE: 28493236.0000\n",
      "Epoch 265/500\n",
      "12/12 [==============================] - 0s 5ms/step - loss: 9040901.0000 - MSE: 9040901.0000 - val_loss: 28198054.0000 - val_MSE: 28198054.0000\n",
      "Epoch 266/500\n",
      "12/12 [==============================] - 0s 5ms/step - loss: 9012898.0000 - MSE: 9012898.0000 - val_loss: 28258868.0000 - val_MSE: 28258868.0000\n",
      "Epoch 267/500\n",
      "12/12 [==============================] - 0s 5ms/step - loss: 8963025.0000 - MSE: 8963025.0000 - val_loss: 27660532.0000 - val_MSE: 27660532.0000\n",
      "Epoch 268/500\n",
      "12/12 [==============================] - 0s 5ms/step - loss: 8860018.0000 - MSE: 8860018.0000 - val_loss: 28091044.0000 - val_MSE: 28091044.0000\n",
      "Epoch 269/500\n",
      "12/12 [==============================] - 0s 5ms/step - loss: 8828555.0000 - MSE: 8828555.0000 - val_loss: 28086246.0000 - val_MSE: 28086246.0000\n",
      "Epoch 270/500\n",
      "12/12 [==============================] - 0s 5ms/step - loss: 8796695.0000 - MSE: 8796695.0000 - val_loss: 27850592.0000 - val_MSE: 27850592.0000\n",
      "Epoch 271/500\n",
      "12/12 [==============================] - 0s 5ms/step - loss: 8712873.0000 - MSE: 8712873.0000 - val_loss: 27320244.0000 - val_MSE: 27320244.0000\n",
      "Epoch 272/500\n",
      "12/12 [==============================] - 0s 5ms/step - loss: 8692707.0000 - MSE: 8692707.0000 - val_loss: 27199372.0000 - val_MSE: 27199372.0000\n",
      "Epoch 273/500\n",
      "12/12 [==============================] - 0s 5ms/step - loss: 8638207.0000 - MSE: 8638207.0000 - val_loss: 27119196.0000 - val_MSE: 27119196.0000\n",
      "Epoch 274/500\n",
      "12/12 [==============================] - 0s 5ms/step - loss: 8587260.0000 - MSE: 8587260.0000 - val_loss: 27439482.0000 - val_MSE: 27439482.0000\n",
      "Epoch 275/500\n",
      "12/12 [==============================] - 0s 5ms/step - loss: 8530002.0000 - MSE: 8530002.0000 - val_loss: 26940198.0000 - val_MSE: 26940198.0000\n",
      "Epoch 276/500\n",
      "12/12 [==============================] - 0s 4ms/step - loss: 8476117.0000 - MSE: 8476117.0000 - val_loss: 26916522.0000 - val_MSE: 26916522.0000\n",
      "Epoch 277/500\n",
      "12/12 [==============================] - 0s 5ms/step - loss: 8420537.0000 - MSE: 8420537.0000 - val_loss: 26986524.0000 - val_MSE: 26986524.0000\n",
      "Epoch 278/500\n",
      "12/12 [==============================] - 0s 5ms/step - loss: 8355422.5000 - MSE: 8355422.5000 - val_loss: 26763210.0000 - val_MSE: 26763210.0000\n",
      "Epoch 279/500\n",
      "12/12 [==============================] - 0s 5ms/step - loss: 8308188.5000 - MSE: 8308188.5000 - val_loss: 26578834.0000 - val_MSE: 26578834.0000\n",
      "Epoch 280/500\n",
      "12/12 [==============================] - 0s 5ms/step - loss: 8260345.5000 - MSE: 8260345.5000 - val_loss: 26368124.0000 - val_MSE: 26368124.0000\n",
      "Epoch 281/500\n",
      "12/12 [==============================] - 0s 5ms/step - loss: 8220132.5000 - MSE: 8220132.5000 - val_loss: 26432132.0000 - val_MSE: 26432132.0000\n",
      "Epoch 282/500\n",
      "12/12 [==============================] - 0s 5ms/step - loss: 8162752.5000 - MSE: 8162752.5000 - val_loss: 26101108.0000 - val_MSE: 26101108.0000\n",
      "Epoch 283/500\n",
      "12/12 [==============================] - 0s 5ms/step - loss: 8140485.5000 - MSE: 8140485.5000 - val_loss: 25761124.0000 - val_MSE: 25761124.0000\n",
      "Epoch 284/500\n",
      "12/12 [==============================] - 0s 5ms/step - loss: 8068676.5000 - MSE: 8068676.5000 - val_loss: 26159760.0000 - val_MSE: 26159760.0000\n",
      "Epoch 285/500\n",
      "12/12 [==============================] - 0s 5ms/step - loss: 8051484.5000 - MSE: 8051484.5000 - val_loss: 25751618.0000 - val_MSE: 25751618.0000\n",
      "Epoch 286/500\n",
      "12/12 [==============================] - 0s 5ms/step - loss: 7955653.5000 - MSE: 7955653.5000 - val_loss: 25976072.0000 - val_MSE: 25976072.0000\n",
      "Epoch 287/500\n",
      "12/12 [==============================] - 0s 5ms/step - loss: 7927555.0000 - MSE: 7927555.0000 - val_loss: 25831818.0000 - val_MSE: 25831818.0000\n",
      "Epoch 288/500\n",
      "12/12 [==============================] - 0s 5ms/step - loss: 7876428.0000 - MSE: 7876428.0000 - val_loss: 26030150.0000 - val_MSE: 26030150.0000\n",
      "Epoch 289/500\n",
      "12/12 [==============================] - 0s 5ms/step - loss: 7851601.0000 - MSE: 7851601.0000 - val_loss: 25045672.0000 - val_MSE: 25045672.0000\n",
      "Epoch 290/500\n",
      "12/12 [==============================] - 0s 5ms/step - loss: 7780854.0000 - MSE: 7780854.0000 - val_loss: 25375710.0000 - val_MSE: 25375710.0000\n",
      "Epoch 291/500\n",
      "12/12 [==============================] - 0s 6ms/step - loss: 7713335.0000 - MSE: 7713335.0000 - val_loss: 25485760.0000 - val_MSE: 25485760.0000\n",
      "Epoch 292/500\n",
      "12/12 [==============================] - 0s 5ms/step - loss: 7673222.5000 - MSE: 7673222.5000 - val_loss: 25116950.0000 - val_MSE: 25116950.0000\n",
      "Epoch 293/500\n",
      "12/12 [==============================] - 0s 4ms/step - loss: 7597470.5000 - MSE: 7597470.5000 - val_loss: 24619876.0000 - val_MSE: 24619876.0000\n",
      "Epoch 294/500\n",
      "12/12 [==============================] - 0s 5ms/step - loss: 7596649.0000 - MSE: 7596649.0000 - val_loss: 24534650.0000 - val_MSE: 24534650.0000\n",
      "Epoch 295/500\n",
      "12/12 [==============================] - 0s 5ms/step - loss: 7604965.0000 - MSE: 7604965.0000 - val_loss: 25127652.0000 - val_MSE: 25127652.0000\n",
      "Epoch 296/500\n",
      "12/12 [==============================] - 0s 5ms/step - loss: 7532396.0000 - MSE: 7532396.0000 - val_loss: 24765372.0000 - val_MSE: 24765372.0000\n",
      "Epoch 297/500\n",
      "12/12 [==============================] - 0s 5ms/step - loss: 7402983.0000 - MSE: 7402983.0000 - val_loss: 24173132.0000 - val_MSE: 24173132.0000\n",
      "Epoch 298/500\n",
      "12/12 [==============================] - 0s 5ms/step - loss: 7382596.5000 - MSE: 7382596.5000 - val_loss: 24272478.0000 - val_MSE: 24272478.0000\n",
      "Epoch 299/500\n",
      "12/12 [==============================] - 0s 5ms/step - loss: 7334187.5000 - MSE: 7334187.5000 - val_loss: 24549620.0000 - val_MSE: 24549620.0000\n",
      "Epoch 300/500\n",
      "12/12 [==============================] - 0s 5ms/step - loss: 7303124.0000 - MSE: 7303124.0000 - val_loss: 23954780.0000 - val_MSE: 23954780.0000\n",
      "Epoch 301/500\n",
      "12/12 [==============================] - 0s 5ms/step - loss: 7234618.5000 - MSE: 7234618.5000 - val_loss: 24107020.0000 - val_MSE: 24107020.0000\n",
      "Epoch 302/500\n",
      "12/12 [==============================] - 0s 5ms/step - loss: 7175655.0000 - MSE: 7175655.0000 - val_loss: 24143574.0000 - val_MSE: 24143574.0000\n",
      "Epoch 303/500\n",
      "12/12 [==============================] - 0s 5ms/step - loss: 7139588.5000 - MSE: 7139588.5000 - val_loss: 23956380.0000 - val_MSE: 23956380.0000\n",
      "Epoch 304/500\n",
      "12/12 [==============================] - 0s 5ms/step - loss: 7080126.0000 - MSE: 7080126.0000 - val_loss: 23686924.0000 - val_MSE: 23686924.0000\n",
      "Epoch 305/500\n",
      "12/12 [==============================] - 0s 5ms/step - loss: 7050794.0000 - MSE: 7050794.0000 - val_loss: 23610946.0000 - val_MSE: 23610946.0000\n",
      "Epoch 306/500\n"
     ]
    },
    {
     "name": "stdout",
     "output_type": "stream",
     "text": [
      "12/12 [==============================] - 0s 5ms/step - loss: 7101520.5000 - MSE: 7101520.5000 - val_loss: 22887156.0000 - val_MSE: 22887156.0000\n",
      "Epoch 307/500\n",
      "12/12 [==============================] - 0s 5ms/step - loss: 6969482.5000 - MSE: 6969482.5000 - val_loss: 23759814.0000 - val_MSE: 23759814.0000\n",
      "Epoch 308/500\n",
      "12/12 [==============================] - 0s 3ms/step - loss: 6917701.5000 - MSE: 6917701.5000 - val_loss: 23438620.0000 - val_MSE: 23438620.0000\n",
      "Epoch 309/500\n",
      "12/12 [==============================] - 0s 4ms/step - loss: 6885409.5000 - MSE: 6885409.5000 - val_loss: 23160548.0000 - val_MSE: 23160548.0000\n",
      "Epoch 310/500\n",
      "12/12 [==============================] - 0s 5ms/step - loss: 6805028.5000 - MSE: 6805028.5000 - val_loss: 22698524.0000 - val_MSE: 22698524.0000\n",
      "Epoch 311/500\n",
      "12/12 [==============================] - 0s 5ms/step - loss: 6741632.0000 - MSE: 6741632.0000 - val_loss: 23159168.0000 - val_MSE: 23159168.0000\n",
      "Epoch 312/500\n",
      "12/12 [==============================] - 0s 5ms/step - loss: 6737979.0000 - MSE: 6737979.0000 - val_loss: 22841868.0000 - val_MSE: 22841868.0000\n",
      "Epoch 313/500\n",
      "12/12 [==============================] - 0s 5ms/step - loss: 6646741.5000 - MSE: 6646741.5000 - val_loss: 22359986.0000 - val_MSE: 22359986.0000\n",
      "Epoch 314/500\n",
      "12/12 [==============================] - 0s 5ms/step - loss: 6641685.5000 - MSE: 6641685.5000 - val_loss: 22517542.0000 - val_MSE: 22517542.0000\n",
      "Epoch 315/500\n",
      "12/12 [==============================] - 0s 5ms/step - loss: 6725248.5000 - MSE: 6725248.5000 - val_loss: 21700440.0000 - val_MSE: 21700440.0000\n",
      "Epoch 316/500\n",
      "12/12 [==============================] - 0s 5ms/step - loss: 6510171.0000 - MSE: 6510171.0000 - val_loss: 22754164.0000 - val_MSE: 22754164.0000\n",
      "Epoch 317/500\n",
      "12/12 [==============================] - 0s 5ms/step - loss: 6518833.0000 - MSE: 6518833.0000 - val_loss: 22167792.0000 - val_MSE: 22167792.0000\n",
      "Epoch 318/500\n",
      "12/12 [==============================] - 0s 5ms/step - loss: 6442363.5000 - MSE: 6442363.5000 - val_loss: 21648404.0000 - val_MSE: 21648404.0000\n",
      "Epoch 319/500\n",
      "12/12 [==============================] - 0s 5ms/step - loss: 6387085.5000 - MSE: 6387085.5000 - val_loss: 21834122.0000 - val_MSE: 21834122.0000\n",
      "Epoch 320/500\n",
      "12/12 [==============================] - 0s 5ms/step - loss: 6349854.0000 - MSE: 6349854.0000 - val_loss: 21550118.0000 - val_MSE: 21550118.0000\n",
      "Epoch 321/500\n",
      "12/12 [==============================] - 0s 6ms/step - loss: 6278253.5000 - MSE: 6278253.5000 - val_loss: 21840016.0000 - val_MSE: 21840016.0000\n",
      "Epoch 322/500\n",
      "12/12 [==============================] - 0s 5ms/step - loss: 6243779.0000 - MSE: 6243779.0000 - val_loss: 21555260.0000 - val_MSE: 21555260.0000\n",
      "Epoch 323/500\n",
      "12/12 [==============================] - 0s 4ms/step - loss: 6213391.0000 - MSE: 6213391.0000 - val_loss: 21356148.0000 - val_MSE: 21356148.0000\n",
      "Epoch 324/500\n",
      "12/12 [==============================] - 0s 5ms/step - loss: 6154235.5000 - MSE: 6154235.5000 - val_loss: 21494560.0000 - val_MSE: 21494560.0000\n",
      "Epoch 325/500\n",
      "12/12 [==============================] - 0s 5ms/step - loss: 6113078.0000 - MSE: 6113078.0000 - val_loss: 20988418.0000 - val_MSE: 20988418.0000\n",
      "Epoch 326/500\n",
      "12/12 [==============================] - 0s 5ms/step - loss: 6076805.5000 - MSE: 6076805.5000 - val_loss: 20851232.0000 - val_MSE: 20851232.0000\n",
      "Epoch 327/500\n",
      "12/12 [==============================] - 0s 5ms/step - loss: 6046466.0000 - MSE: 6046466.0000 - val_loss: 21133702.0000 - val_MSE: 21133702.0000\n",
      "Epoch 328/500\n",
      "12/12 [==============================] - 0s 5ms/step - loss: 5997113.0000 - MSE: 5997113.0000 - val_loss: 20589478.0000 - val_MSE: 20589478.0000\n",
      "Epoch 329/500\n",
      "12/12 [==============================] - 0s 4ms/step - loss: 5932818.0000 - MSE: 5932818.0000 - val_loss: 20461346.0000 - val_MSE: 20461346.0000\n",
      "Epoch 330/500\n",
      "12/12 [==============================] - 0s 5ms/step - loss: 5890959.0000 - MSE: 5890959.0000 - val_loss: 20522946.0000 - val_MSE: 20522946.0000\n",
      "Epoch 331/500\n",
      "12/12 [==============================] - 0s 5ms/step - loss: 5847499.0000 - MSE: 5847499.0000 - val_loss: 20319858.0000 - val_MSE: 20319858.0000\n",
      "Epoch 332/500\n",
      "12/12 [==============================] - 0s 6ms/step - loss: 5798766.5000 - MSE: 5798766.5000 - val_loss: 20262298.0000 - val_MSE: 20262298.0000\n",
      "Epoch 333/500\n",
      "12/12 [==============================] - 0s 5ms/step - loss: 5756985.0000 - MSE: 5756985.0000 - val_loss: 20206170.0000 - val_MSE: 20206170.0000\n",
      "Epoch 334/500\n",
      "12/12 [==============================] - 0s 5ms/step - loss: 5692802.0000 - MSE: 5692802.0000 - val_loss: 19784612.0000 - val_MSE: 19784612.0000\n",
      "Epoch 335/500\n",
      "12/12 [==============================] - 0s 5ms/step - loss: 5678536.0000 - MSE: 5678536.0000 - val_loss: 19794062.0000 - val_MSE: 19794062.0000\n",
      "Epoch 336/500\n",
      "12/12 [==============================] - 0s 5ms/step - loss: 5632340.5000 - MSE: 5632340.5000 - val_loss: 19728028.0000 - val_MSE: 19728028.0000\n",
      "Epoch 337/500\n",
      "12/12 [==============================] - 0s 6ms/step - loss: 5572143.5000 - MSE: 5572143.5000 - val_loss: 19770526.0000 - val_MSE: 19770526.0000\n",
      "Epoch 338/500\n",
      "12/12 [==============================] - 0s 5ms/step - loss: 5523429.5000 - MSE: 5523429.5000 - val_loss: 19338186.0000 - val_MSE: 19338186.0000\n",
      "Epoch 339/500\n",
      "12/12 [==============================] - 0s 5ms/step - loss: 5480560.5000 - MSE: 5480560.5000 - val_loss: 19267794.0000 - val_MSE: 19267794.0000\n",
      "Epoch 340/500\n",
      "12/12 [==============================] - 0s 5ms/step - loss: 5446617.0000 - MSE: 5446617.0000 - val_loss: 19453052.0000 - val_MSE: 19453052.0000\n",
      "Epoch 341/500\n",
      "12/12 [==============================] - 0s 5ms/step - loss: 5452898.0000 - MSE: 5452898.0000 - val_loss: 19160432.0000 - val_MSE: 19160432.0000\n",
      "Epoch 342/500\n",
      "12/12 [==============================] - 0s 4ms/step - loss: 5383416.0000 - MSE: 5383416.0000 - val_loss: 19211814.0000 - val_MSE: 19211814.0000\n",
      "Epoch 343/500\n",
      "12/12 [==============================] - 0s 4ms/step - loss: 5314733.0000 - MSE: 5314733.0000 - val_loss: 18544370.0000 - val_MSE: 18544370.0000\n",
      "Epoch 344/500\n",
      "12/12 [==============================] - 0s 5ms/step - loss: 5298060.0000 - MSE: 5298060.0000 - val_loss: 18818948.0000 - val_MSE: 18818948.0000\n",
      "Epoch 345/500\n",
      "12/12 [==============================] - 0s 5ms/step - loss: 5240586.0000 - MSE: 5240586.0000 - val_loss: 18683364.0000 - val_MSE: 18683364.0000\n",
      "Epoch 346/500\n",
      "12/12 [==============================] - 0s 5ms/step - loss: 5204750.0000 - MSE: 5204750.0000 - val_loss: 18277346.0000 - val_MSE: 18277346.0000\n",
      "Epoch 347/500\n",
      "12/12 [==============================] - 0s 4ms/step - loss: 5215281.0000 - MSE: 5215281.0000 - val_loss: 18768420.0000 - val_MSE: 18768420.0000\n",
      "Epoch 348/500\n",
      "12/12 [==============================] - 0s 5ms/step - loss: 5121957.5000 - MSE: 5121957.5000 - val_loss: 17990238.0000 - val_MSE: 17990238.0000\n",
      "Epoch 349/500\n",
      "12/12 [==============================] - 0s 5ms/step - loss: 5072412.5000 - MSE: 5072412.5000 - val_loss: 18149050.0000 - val_MSE: 18149050.0000\n",
      "Epoch 350/500\n",
      "12/12 [==============================] - 0s 4ms/step - loss: 5063710.0000 - MSE: 5063710.0000 - val_loss: 17856188.0000 - val_MSE: 17856188.0000\n",
      "Epoch 351/500\n",
      "12/12 [==============================] - 0s 5ms/step - loss: 5005627.0000 - MSE: 5005627.0000 - val_loss: 17905748.0000 - val_MSE: 17905748.0000\n",
      "Epoch 352/500\n",
      "12/12 [==============================] - 0s 5ms/step - loss: 5047833.0000 - MSE: 5047833.0000 - val_loss: 17273564.0000 - val_MSE: 17273564.0000\n",
      "Epoch 353/500\n",
      "12/12 [==============================] - 0s 5ms/step - loss: 4893472.5000 - MSE: 4893472.5000 - val_loss: 18014460.0000 - val_MSE: 18014460.0000\n",
      "Epoch 354/500\n",
      "12/12 [==============================] - 0s 5ms/step - loss: 4887255.0000 - MSE: 4887255.0000 - val_loss: 17726916.0000 - val_MSE: 17726916.0000\n",
      "Epoch 355/500\n",
      "12/12 [==============================] - 0s 6ms/step - loss: 4847315.0000 - MSE: 4847315.0000 - val_loss: 17261786.0000 - val_MSE: 17261786.0000\n",
      "Epoch 356/500\n",
      "12/12 [==============================] - 0s 6ms/step - loss: 4786714.5000 - MSE: 4786714.5000 - val_loss: 17400878.0000 - val_MSE: 17400878.0000\n",
      "Epoch 357/500\n"
     ]
    },
    {
     "name": "stdout",
     "output_type": "stream",
     "text": [
      "12/12 [==============================] - 0s 6ms/step - loss: 4746607.5000 - MSE: 4746607.5000 - val_loss: 17095478.0000 - val_MSE: 17095478.0000\n",
      "Epoch 358/500\n",
      "12/12 [==============================] - 0s 5ms/step - loss: 4732601.0000 - MSE: 4732601.0000 - val_loss: 17299716.0000 - val_MSE: 17299716.0000\n",
      "Epoch 359/500\n",
      "12/12 [==============================] - 0s 5ms/step - loss: 4684272.5000 - MSE: 4684272.5000 - val_loss: 17232876.0000 - val_MSE: 17232876.0000\n",
      "Epoch 360/500\n",
      "12/12 [==============================] - 0s 5ms/step - loss: 4616655.0000 - MSE: 4616655.0000 - val_loss: 16766803.0000 - val_MSE: 16766803.0000\n",
      "Epoch 361/500\n",
      "12/12 [==============================] - 0s 5ms/step - loss: 4588766.0000 - MSE: 4588766.0000 - val_loss: 16732883.0000 - val_MSE: 16732883.0000\n",
      "Epoch 362/500\n",
      "12/12 [==============================] - 0s 6ms/step - loss: 4561366.0000 - MSE: 4561366.0000 - val_loss: 16744459.0000 - val_MSE: 16744459.0000\n",
      "Epoch 363/500\n",
      "12/12 [==============================] - 0s 6ms/step - loss: 4516902.5000 - MSE: 4516902.5000 - val_loss: 16516034.0000 - val_MSE: 16516034.0000\n",
      "Epoch 364/500\n",
      "12/12 [==============================] - 0s 6ms/step - loss: 4456493.5000 - MSE: 4456493.5000 - val_loss: 16585754.0000 - val_MSE: 16585754.0000\n",
      "Epoch 365/500\n",
      "12/12 [==============================] - 0s 5ms/step - loss: 4425912.0000 - MSE: 4425912.0000 - val_loss: 16331466.0000 - val_MSE: 16331466.0000\n",
      "Epoch 366/500\n",
      "12/12 [==============================] - 0s 5ms/step - loss: 4405013.5000 - MSE: 4405013.5000 - val_loss: 16387752.0000 - val_MSE: 16387752.0000\n",
      "Epoch 367/500\n",
      "12/12 [==============================] - 0s 5ms/step - loss: 4340639.5000 - MSE: 4340639.5000 - val_loss: 15928053.0000 - val_MSE: 15928053.0000\n",
      "Epoch 368/500\n",
      "12/12 [==============================] - 0s 6ms/step - loss: 4337696.5000 - MSE: 4337696.5000 - val_loss: 15956950.0000 - val_MSE: 15956950.0000\n",
      "Epoch 369/500\n",
      "12/12 [==============================] - 0s 6ms/step - loss: 4264440.0000 - MSE: 4264440.0000 - val_loss: 16138790.0000 - val_MSE: 16138790.0000\n",
      "Epoch 370/500\n",
      "12/12 [==============================] - 0s 5ms/step - loss: 4242650.5000 - MSE: 4242650.5000 - val_loss: 15706446.0000 - val_MSE: 15706446.0000\n",
      "Epoch 371/500\n",
      "12/12 [==============================] - 0s 6ms/step - loss: 4289532.5000 - MSE: 4289532.5000 - val_loss: 15314784.0000 - val_MSE: 15314784.0000\n",
      "Epoch 372/500\n",
      "12/12 [==============================] - 0s 6ms/step - loss: 4143715.5000 - MSE: 4143715.5000 - val_loss: 15847109.0000 - val_MSE: 15847109.0000\n",
      "Epoch 373/500\n",
      "12/12 [==============================] - 0s 6ms/step - loss: 4124304.0000 - MSE: 4124304.0000 - val_loss: 15131603.0000 - val_MSE: 15131603.0000\n",
      "Epoch 374/500\n",
      "12/12 [==============================] - 0s 5ms/step - loss: 4083022.2500 - MSE: 4083022.2500 - val_loss: 15370155.0000 - val_MSE: 15370155.0000\n",
      "Epoch 375/500\n",
      "12/12 [==============================] - 0s 5ms/step - loss: 4046738.2500 - MSE: 4046738.2500 - val_loss: 15110467.0000 - val_MSE: 15110467.0000\n",
      "Epoch 376/500\n",
      "12/12 [==============================] - 0s 5ms/step - loss: 4032225.5000 - MSE: 4032225.5000 - val_loss: 14918931.0000 - val_MSE: 14918931.0000\n",
      "Epoch 377/500\n",
      "12/12 [==============================] - 0s 5ms/step - loss: 3967647.7500 - MSE: 3967647.7500 - val_loss: 14905374.0000 - val_MSE: 14905374.0000\n",
      "Epoch 378/500\n",
      "12/12 [==============================] - 0s 5ms/step - loss: 3905369.2500 - MSE: 3905369.2500 - val_loss: 15080437.0000 - val_MSE: 15080437.0000\n",
      "Epoch 379/500\n",
      "12/12 [==============================] - 0s 4ms/step - loss: 3891804.7500 - MSE: 3891804.7500 - val_loss: 14768894.0000 - val_MSE: 14768894.0000\n",
      "Epoch 380/500\n",
      "12/12 [==============================] - 0s 5ms/step - loss: 3847042.2500 - MSE: 3847042.2500 - val_loss: 14676771.0000 - val_MSE: 14676771.0000\n",
      "Epoch 381/500\n",
      "12/12 [==============================] - 0s 6ms/step - loss: 3811762.2500 - MSE: 3811762.2500 - val_loss: 14486234.0000 - val_MSE: 14486234.0000\n",
      "Epoch 382/500\n",
      "12/12 [==============================] - 0s 6ms/step - loss: 3781200.2500 - MSE: 3781200.2500 - val_loss: 14443266.0000 - val_MSE: 14443266.0000\n",
      "Epoch 383/500\n",
      "12/12 [==============================] - 0s 6ms/step - loss: 3734218.2500 - MSE: 3734218.2500 - val_loss: 14354413.0000 - val_MSE: 14354413.0000\n",
      "Epoch 384/500\n",
      "12/12 [==============================] - 0s 6ms/step - loss: 3706820.0000 - MSE: 3706820.0000 - val_loss: 14226525.0000 - val_MSE: 14226525.0000\n",
      "Epoch 385/500\n",
      "12/12 [==============================] - 0s 6ms/step - loss: 3665364.2500 - MSE: 3665364.2500 - val_loss: 14210744.0000 - val_MSE: 14210744.0000\n",
      "Epoch 386/500\n",
      "12/12 [==============================] - 0s 6ms/step - loss: 3640109.7500 - MSE: 3640109.7500 - val_loss: 14072330.0000 - val_MSE: 14072330.0000\n",
      "Epoch 387/500\n",
      "12/12 [==============================] - 0s 6ms/step - loss: 3596259.2500 - MSE: 3596259.2500 - val_loss: 13584238.0000 - val_MSE: 13584238.0000\n",
      "Epoch 388/500\n",
      "12/12 [==============================] - 0s 5ms/step - loss: 3599436.0000 - MSE: 3599436.0000 - val_loss: 13844635.0000 - val_MSE: 13844635.0000\n",
      "Epoch 389/500\n",
      "12/12 [==============================] - 0s 6ms/step - loss: 3540064.0000 - MSE: 3540064.0000 - val_loss: 13543595.0000 - val_MSE: 13543595.0000\n",
      "Epoch 390/500\n",
      "12/12 [==============================] - 0s 6ms/step - loss: 3499929.2500 - MSE: 3499929.2500 - val_loss: 13614099.0000 - val_MSE: 13614099.0000\n",
      "Epoch 391/500\n",
      "12/12 [==============================] - 0s 6ms/step - loss: 3461684.2500 - MSE: 3461684.2500 - val_loss: 13510064.0000 - val_MSE: 13510064.0000\n",
      "Epoch 392/500\n",
      "12/12 [==============================] - 0s 7ms/step - loss: 3431970.2500 - MSE: 3431970.2500 - val_loss: 13158572.0000 - val_MSE: 13158572.0000\n",
      "Epoch 393/500\n",
      "12/12 [==============================] - 0s 6ms/step - loss: 3426293.2500 - MSE: 3426293.2500 - val_loss: 13156256.0000 - val_MSE: 13156256.0000\n",
      "Epoch 394/500\n",
      "12/12 [==============================] - 0s 6ms/step - loss: 3356731.5000 - MSE: 3356731.5000 - val_loss: 13106286.0000 - val_MSE: 13106286.0000\n",
      "Epoch 395/500\n",
      "12/12 [==============================] - 0s 6ms/step - loss: 3371552.2500 - MSE: 3371552.2500 - val_loss: 12884777.0000 - val_MSE: 12884777.0000\n",
      "Epoch 396/500\n",
      "12/12 [==============================] - 0s 6ms/step - loss: 3280715.0000 - MSE: 3280715.0000 - val_loss: 13067034.0000 - val_MSE: 13067034.0000\n",
      "Epoch 397/500\n",
      "12/12 [==============================] - 0s 6ms/step - loss: 3255070.2500 - MSE: 3255070.2500 - val_loss: 12663639.0000 - val_MSE: 12663639.0000\n",
      "Epoch 398/500\n",
      "12/12 [==============================] - 0s 6ms/step - loss: 3223753.5000 - MSE: 3223753.5000 - val_loss: 12665402.0000 - val_MSE: 12665402.0000\n",
      "Epoch 399/500\n",
      "12/12 [==============================] - 0s 6ms/step - loss: 3182110.2500 - MSE: 3182110.2500 - val_loss: 12432717.0000 - val_MSE: 12432717.0000\n",
      "Epoch 400/500\n",
      "12/12 [==============================] - 0s 8ms/step - loss: 3164262.7500 - MSE: 3164262.7500 - val_loss: 12431722.0000 - val_MSE: 12431722.0000\n",
      "Epoch 401/500\n",
      "12/12 [==============================] - 0s 6ms/step - loss: 3133687.7500 - MSE: 3133687.7500 - val_loss: 12396311.0000 - val_MSE: 12396311.0000\n",
      "Epoch 402/500\n",
      "12/12 [==============================] - 0s 6ms/step - loss: 3084002.5000 - MSE: 3084002.5000 - val_loss: 12121068.0000 - val_MSE: 12121068.0000\n",
      "Epoch 403/500\n",
      "12/12 [==============================] - 0s 6ms/step - loss: 3052079.0000 - MSE: 3052079.0000 - val_loss: 12216609.0000 - val_MSE: 12216609.0000\n",
      "Epoch 404/500\n",
      "12/12 [==============================] - 0s 6ms/step - loss: 3025817.2500 - MSE: 3025817.2500 - val_loss: 12072881.0000 - val_MSE: 12072881.0000\n",
      "Epoch 405/500\n",
      "12/12 [==============================] - 0s 6ms/step - loss: 3013283.5000 - MSE: 3013283.5000 - val_loss: 11915718.0000 - val_MSE: 11915718.0000\n",
      "Epoch 406/500\n",
      "12/12 [==============================] - 0s 6ms/step - loss: 2964933.7500 - MSE: 2964933.7500 - val_loss: 12077050.0000 - val_MSE: 12077050.0000\n",
      "Epoch 407/500\n",
      "12/12 [==============================] - 0s 6ms/step - loss: 2931052.2500 - MSE: 2931052.2500 - val_loss: 11656808.0000 - val_MSE: 11656808.0000\n",
      "Epoch 408/500\n"
     ]
    },
    {
     "name": "stdout",
     "output_type": "stream",
     "text": [
      "12/12 [==============================] - 0s 6ms/step - loss: 2884412.5000 - MSE: 2884412.5000 - val_loss: 11785202.0000 - val_MSE: 11785202.0000\n",
      "Epoch 409/500\n",
      "12/12 [==============================] - 0s 6ms/step - loss: 2862427.7500 - MSE: 2862427.7500 - val_loss: 11764057.0000 - val_MSE: 11764057.0000\n",
      "Epoch 410/500\n",
      "12/12 [==============================] - 0s 6ms/step - loss: 2860971.2500 - MSE: 2860971.2500 - val_loss: 11414779.0000 - val_MSE: 11414779.0000\n",
      "Epoch 411/500\n",
      "12/12 [==============================] - 0s 8ms/step - loss: 2862923.5000 - MSE: 2862923.5000 - val_loss: 11453907.0000 - val_MSE: 11453907.0000\n",
      "Epoch 412/500\n",
      "12/12 [==============================] - 0s 6ms/step - loss: 2818984.7500 - MSE: 2818984.7500 - val_loss: 11039283.0000 - val_MSE: 11039283.0000\n",
      "Epoch 413/500\n",
      "12/12 [==============================] - 0s 6ms/step - loss: 2756216.5000 - MSE: 2756216.5000 - val_loss: 11324467.0000 - val_MSE: 11324467.0000\n",
      "Epoch 414/500\n",
      "12/12 [==============================] - 0s 6ms/step - loss: 2728751.0000 - MSE: 2728751.0000 - val_loss: 10871919.0000 - val_MSE: 10871919.0000\n",
      "Epoch 415/500\n",
      "12/12 [==============================] - 0s 7ms/step - loss: 2687415.0000 - MSE: 2687415.0000 - val_loss: 11102853.0000 - val_MSE: 11102853.0000\n",
      "Epoch 416/500\n",
      "12/12 [==============================] - 0s 6ms/step - loss: 2657922.5000 - MSE: 2657922.5000 - val_loss: 10732670.0000 - val_MSE: 10732670.0000\n",
      "Epoch 417/500\n",
      "12/12 [==============================] - 0s 6ms/step - loss: 2637089.5000 - MSE: 2637089.5000 - val_loss: 10625084.0000 - val_MSE: 10625084.0000\n",
      "Epoch 418/500\n",
      "12/12 [==============================] - 0s 6ms/step - loss: 2593498.2500 - MSE: 2593498.2500 - val_loss: 10798396.0000 - val_MSE: 10798396.0000\n",
      "Epoch 419/500\n",
      "12/12 [==============================] - 0s 6ms/step - loss: 2559844.0000 - MSE: 2559844.0000 - val_loss: 10380502.0000 - val_MSE: 10380502.0000\n",
      "Epoch 420/500\n",
      "12/12 [==============================] - 0s 6ms/step - loss: 2541388.7500 - MSE: 2541388.7500 - val_loss: 10425357.0000 - val_MSE: 10425357.0000\n",
      "Epoch 421/500\n",
      "12/12 [==============================] - 0s 6ms/step - loss: 2497641.2500 - MSE: 2497641.2500 - val_loss: 10279262.0000 - val_MSE: 10279262.0000\n",
      "Epoch 422/500\n",
      "12/12 [==============================] - 0s 6ms/step - loss: 2466749.7500 - MSE: 2466749.7500 - val_loss: 10362297.0000 - val_MSE: 10362297.0000\n",
      "Epoch 423/500\n",
      "12/12 [==============================] - 0s 6ms/step - loss: 2438167.7500 - MSE: 2438167.7500 - val_loss: 10189975.0000 - val_MSE: 10189975.0000\n",
      "Epoch 424/500\n",
      "12/12 [==============================] - 0s 6ms/step - loss: 2414744.5000 - MSE: 2414744.5000 - val_loss: 10036811.0000 - val_MSE: 10036811.0000\n",
      "Epoch 425/500\n",
      "12/12 [==============================] - 0s 5ms/step - loss: 2377577.2500 - MSE: 2377577.2500 - val_loss: 9882648.0000 - val_MSE: 9882648.0000\n",
      "Epoch 426/500\n",
      "12/12 [==============================] - 0s 6ms/step - loss: 2353694.0000 - MSE: 2353694.0000 - val_loss: 9685989.0000 - val_MSE: 9685989.0000\n",
      "Epoch 427/500\n",
      "12/12 [==============================] - 0s 6ms/step - loss: 2337847.7500 - MSE: 2337847.7500 - val_loss: 9784976.0000 - val_MSE: 9784976.0000\n",
      "Epoch 428/500\n",
      "12/12 [==============================] - 0s 6ms/step - loss: 2296621.7500 - MSE: 2296621.7500 - val_loss: 9749920.0000 - val_MSE: 9749920.0000\n",
      "Epoch 429/500\n",
      "12/12 [==============================] - 0s 6ms/step - loss: 2287520.7500 - MSE: 2287520.7500 - val_loss: 9544338.0000 - val_MSE: 9544338.0000\n",
      "Epoch 430/500\n",
      "12/12 [==============================] - 0s 7ms/step - loss: 2239915.0000 - MSE: 2239915.0000 - val_loss: 9474479.0000 - val_MSE: 9474479.0000\n",
      "Epoch 431/500\n",
      "12/12 [==============================] - 0s 6ms/step - loss: 2208404.0000 - MSE: 2208404.0000 - val_loss: 9419642.0000 - val_MSE: 9419642.0000\n",
      "Epoch 432/500\n",
      "12/12 [==============================] - 0s 6ms/step - loss: 2192376.5000 - MSE: 2192376.5000 - val_loss: 9252893.0000 - val_MSE: 9252893.0000\n",
      "Epoch 433/500\n",
      "12/12 [==============================] - 0s 6ms/step - loss: 2156255.0000 - MSE: 2156255.0000 - val_loss: 9280587.0000 - val_MSE: 9280587.0000\n",
      "Epoch 434/500\n",
      "12/12 [==============================] - 0s 6ms/step - loss: 2150348.0000 - MSE: 2150348.0000 - val_loss: 9072215.0000 - val_MSE: 9072215.0000\n",
      "Epoch 435/500\n",
      "12/12 [==============================] - 0s 6ms/step - loss: 2099913.2500 - MSE: 2099913.2500 - val_loss: 9159765.0000 - val_MSE: 9159765.0000\n",
      "Epoch 436/500\n",
      "12/12 [==============================] - 0s 6ms/step - loss: 2076199.8750 - MSE: 2076199.8750 - val_loss: 8836634.0000 - val_MSE: 8836634.0000\n",
      "Epoch 437/500\n",
      "12/12 [==============================] - 0s 6ms/step - loss: 2076910.0000 - MSE: 2076910.0000 - val_loss: 8915865.0000 - val_MSE: 8915865.0000\n",
      "Epoch 438/500\n",
      "12/12 [==============================] - 0s 6ms/step - loss: 2029445.5000 - MSE: 2029445.5000 - val_loss: 8828259.0000 - val_MSE: 8828259.0000\n",
      "Epoch 439/500\n",
      "12/12 [==============================] - 0s 5ms/step - loss: 2000797.0000 - MSE: 2000797.0000 - val_loss: 8724773.0000 - val_MSE: 8724773.0000\n",
      "Epoch 440/500\n",
      "12/12 [==============================] - 0s 5ms/step - loss: 1987071.5000 - MSE: 1987071.5000 - val_loss: 8495773.0000 - val_MSE: 8495773.0000\n",
      "Epoch 441/500\n",
      "12/12 [==============================] - 0s 5ms/step - loss: 1945691.8750 - MSE: 1945691.8750 - val_loss: 8641102.0000 - val_MSE: 8641102.0000\n",
      "Epoch 442/500\n",
      "12/12 [==============================] - 0s 5ms/step - loss: 1943880.5000 - MSE: 1943880.5000 - val_loss: 8529569.0000 - val_MSE: 8529569.0000\n",
      "Epoch 443/500\n",
      "12/12 [==============================] - 0s 5ms/step - loss: 1913725.1250 - MSE: 1913725.1250 - val_loss: 8463840.0000 - val_MSE: 8463840.0000\n",
      "Epoch 444/500\n",
      "12/12 [==============================] - 0s 5ms/step - loss: 1878459.7500 - MSE: 1878459.7500 - val_loss: 8244045.5000 - val_MSE: 8244045.5000\n",
      "Epoch 445/500\n",
      "12/12 [==============================] - 0s 6ms/step - loss: 1842798.8750 - MSE: 1842798.8750 - val_loss: 8158431.0000 - val_MSE: 8158431.0000\n",
      "Epoch 446/500\n",
      "12/12 [==============================] - 0s 6ms/step - loss: 1827665.3750 - MSE: 1827665.3750 - val_loss: 8056100.0000 - val_MSE: 8056100.0000\n",
      "Epoch 447/500\n",
      "12/12 [==============================] - 0s 5ms/step - loss: 1794478.8750 - MSE: 1794478.8750 - val_loss: 7927300.0000 - val_MSE: 7927300.0000\n",
      "Epoch 448/500\n",
      "12/12 [==============================] - 0s 5ms/step - loss: 1769783.1250 - MSE: 1769783.1250 - val_loss: 7937561.0000 - val_MSE: 7937561.0000\n",
      "Epoch 449/500\n",
      "12/12 [==============================] - 0s 6ms/step - loss: 1750386.6250 - MSE: 1750386.6250 - val_loss: 7812718.5000 - val_MSE: 7812718.5000\n",
      "Epoch 450/500\n",
      "12/12 [==============================] - 0s 6ms/step - loss: 1745620.2500 - MSE: 1745620.2500 - val_loss: 7726068.0000 - val_MSE: 7726068.0000\n",
      "Epoch 451/500\n",
      "12/12 [==============================] - 0s 5ms/step - loss: 1710722.6250 - MSE: 1710722.6250 - val_loss: 7682218.5000 - val_MSE: 7682218.5000\n",
      "Epoch 452/500\n",
      "12/12 [==============================] - 0s 5ms/step - loss: 1669319.5000 - MSE: 1669319.5000 - val_loss: 7519049.0000 - val_MSE: 7519049.0000\n",
      "Epoch 453/500\n",
      "12/12 [==============================] - 0s 6ms/step - loss: 1659328.3750 - MSE: 1659328.3750 - val_loss: 7508748.0000 - val_MSE: 7508748.0000\n",
      "Epoch 454/500\n",
      "12/12 [==============================] - 0s 6ms/step - loss: 1635956.2500 - MSE: 1635956.2500 - val_loss: 7389069.5000 - val_MSE: 7389069.5000\n",
      "Epoch 455/500\n",
      "12/12 [==============================] - 0s 6ms/step - loss: 1613618.0000 - MSE: 1613618.0000 - val_loss: 7365032.0000 - val_MSE: 7365032.0000\n",
      "Epoch 456/500\n",
      "12/12 [==============================] - 0s 5ms/step - loss: 1602172.6250 - MSE: 1602172.6250 - val_loss: 7139453.0000 - val_MSE: 7139453.0000\n",
      "Epoch 457/500\n",
      "12/12 [==============================] - 0s 4ms/step - loss: 1566851.0000 - MSE: 1566851.0000 - val_loss: 7152054.5000 - val_MSE: 7152054.5000\n",
      "Epoch 458/500\n",
      "12/12 [==============================] - 0s 6ms/step - loss: 1534527.6250 - MSE: 1534527.6250 - val_loss: 7050229.5000 - val_MSE: 7050229.5000\n",
      "Epoch 459/500\n",
      "12/12 [==============================] - 0s 6ms/step - loss: 1515616.3750 - MSE: 1515616.3750 - val_loss: 7092114.5000 - val_MSE: 7092114.5000\n",
      "Epoch 460/500\n"
     ]
    },
    {
     "name": "stdout",
     "output_type": "stream",
     "text": [
      "12/12 [==============================] - 0s 6ms/step - loss: 1494314.5000 - MSE: 1494314.5000 - val_loss: 6922043.0000 - val_MSE: 6922043.0000\n",
      "Epoch 461/500\n",
      "12/12 [==============================] - 0s 5ms/step - loss: 1466591.5000 - MSE: 1466591.5000 - val_loss: 6824376.0000 - val_MSE: 6824376.0000\n",
      "Epoch 462/500\n",
      "12/12 [==============================] - 0s 5ms/step - loss: 1448138.0000 - MSE: 1448138.0000 - val_loss: 6823460.0000 - val_MSE: 6823460.0000\n",
      "Epoch 463/500\n",
      "12/12 [==============================] - 0s 6ms/step - loss: 1424844.1250 - MSE: 1424844.1250 - val_loss: 6659607.0000 - val_MSE: 6659607.0000\n",
      "Epoch 464/500\n",
      "12/12 [==============================] - 0s 6ms/step - loss: 1414909.1250 - MSE: 1414909.1250 - val_loss: 6587872.0000 - val_MSE: 6587872.0000\n",
      "Epoch 465/500\n",
      "12/12 [==============================] - 0s 5ms/step - loss: 1381814.6250 - MSE: 1381814.6250 - val_loss: 6598758.5000 - val_MSE: 6598758.5000\n",
      "Epoch 466/500\n",
      "12/12 [==============================] - 0s 5ms/step - loss: 1368607.3750 - MSE: 1368607.3750 - val_loss: 6525218.0000 - val_MSE: 6525218.0000\n",
      "Epoch 467/500\n",
      "12/12 [==============================] - 0s 6ms/step - loss: 1341646.7500 - MSE: 1341646.7500 - val_loss: 6403593.5000 - val_MSE: 6403593.5000\n",
      "Epoch 468/500\n",
      "12/12 [==============================] - 0s 6ms/step - loss: 1313879.8750 - MSE: 1313879.8750 - val_loss: 6281456.0000 - val_MSE: 6281456.0000\n",
      "Epoch 469/500\n",
      "12/12 [==============================] - 0s 6ms/step - loss: 1294418.6250 - MSE: 1294418.6250 - val_loss: 6245919.0000 - val_MSE: 6245919.0000\n",
      "Epoch 470/500\n",
      "12/12 [==============================] - 0s 5ms/step - loss: 1273172.5000 - MSE: 1273172.5000 - val_loss: 6218178.0000 - val_MSE: 6218178.0000\n",
      "Epoch 471/500\n",
      "12/12 [==============================] - 0s 5ms/step - loss: 1258306.8750 - MSE: 1258306.8750 - val_loss: 6101714.5000 - val_MSE: 6101714.5000\n",
      "Epoch 472/500\n",
      "12/12 [==============================] - 0s 6ms/step - loss: 1238153.1250 - MSE: 1238153.1250 - val_loss: 6066920.0000 - val_MSE: 6066920.0000\n",
      "Epoch 473/500\n",
      "12/12 [==============================] - 0s 6ms/step - loss: 1214029.1250 - MSE: 1214029.1250 - val_loss: 5894907.0000 - val_MSE: 5894907.0000\n",
      "Epoch 474/500\n",
      "12/12 [==============================] - 0s 6ms/step - loss: 1193964.5000 - MSE: 1193964.5000 - val_loss: 6045245.0000 - val_MSE: 6045245.0000\n",
      "Epoch 475/500\n",
      "12/12 [==============================] - 0s 5ms/step - loss: 1197348.2500 - MSE: 1197348.2500 - val_loss: 5885877.0000 - val_MSE: 5885877.0000\n",
      "Epoch 476/500\n",
      "12/12 [==============================] - 0s 5ms/step - loss: 1153426.5000 - MSE: 1153426.5000 - val_loss: 5678468.0000 - val_MSE: 5678468.0000\n",
      "Epoch 477/500\n",
      "12/12 [==============================] - 0s 5ms/step - loss: 1145148.7500 - MSE: 1145148.7500 - val_loss: 5689077.0000 - val_MSE: 5689077.0000\n",
      "Epoch 478/500\n",
      "12/12 [==============================] - 0s 5ms/step - loss: 1143093.2500 - MSE: 1143093.2500 - val_loss: 5617090.5000 - val_MSE: 5617090.5000\n",
      "Epoch 479/500\n",
      "12/12 [==============================] - 0s 6ms/step - loss: 1104546.8750 - MSE: 1104546.8750 - val_loss: 5520826.5000 - val_MSE: 5520826.5000\n",
      "Epoch 480/500\n",
      "12/12 [==============================] - 0s 5ms/step - loss: 1094557.7500 - MSE: 1094557.7500 - val_loss: 5378946.0000 - val_MSE: 5378946.0000\n",
      "Epoch 481/500\n",
      "12/12 [==============================] - 0s 6ms/step - loss: 1086350.3750 - MSE: 1086350.3750 - val_loss: 5355546.0000 - val_MSE: 5355546.0000\n",
      "Epoch 482/500\n",
      "12/12 [==============================] - 0s 6ms/step - loss: 1052936.3750 - MSE: 1052936.3750 - val_loss: 5247509.0000 - val_MSE: 5247509.0000\n",
      "Epoch 483/500\n",
      "12/12 [==============================] - 0s 6ms/step - loss: 1025281.4375 - MSE: 1025281.4375 - val_loss: 5304131.5000 - val_MSE: 5304131.5000\n",
      "Epoch 484/500\n",
      "12/12 [==============================] - 0s 6ms/step - loss: 1019270.6875 - MSE: 1019270.6875 - val_loss: 5177731.0000 - val_MSE: 5177731.0000\n",
      "Epoch 485/500\n",
      "12/12 [==============================] - 0s 5ms/step - loss: 997153.6250 - MSE: 997153.6250 - val_loss: 5034139.5000 - val_MSE: 5034139.5000\n",
      "Epoch 486/500\n",
      "12/12 [==============================] - 0s 5ms/step - loss: 979267.7500 - MSE: 979267.7500 - val_loss: 5050931.0000 - val_MSE: 5050931.0000\n",
      "Epoch 487/500\n",
      "12/12 [==============================] - 0s 4ms/step - loss: 959569.6875 - MSE: 959569.6875 - val_loss: 4905918.5000 - val_MSE: 4905918.5000\n",
      "Epoch 488/500\n",
      "12/12 [==============================] - 0s 6ms/step - loss: 944042.5625 - MSE: 944042.5625 - val_loss: 4950893.0000 - val_MSE: 4950893.0000\n",
      "Epoch 489/500\n",
      "12/12 [==============================] - 0s 6ms/step - loss: 926713.7500 - MSE: 926713.7500 - val_loss: 4824703.0000 - val_MSE: 4824703.0000\n",
      "Epoch 490/500\n",
      "12/12 [==============================] - 0s 6ms/step - loss: 908505.0625 - MSE: 908505.0625 - val_loss: 4777241.0000 - val_MSE: 4777241.0000\n",
      "Epoch 491/500\n",
      "12/12 [==============================] - 0s 5ms/step - loss: 892431.3125 - MSE: 892431.3125 - val_loss: 4650473.0000 - val_MSE: 4650473.0000\n",
      "Epoch 492/500\n",
      "12/12 [==============================] - 0s 4ms/step - loss: 877951.5625 - MSE: 877951.5625 - val_loss: 4693714.5000 - val_MSE: 4693714.5000\n",
      "Epoch 493/500\n",
      "12/12 [==============================] - 0s 6ms/step - loss: 867650.9375 - MSE: 867650.9375 - val_loss: 4552434.5000 - val_MSE: 4552434.5000\n",
      "Epoch 494/500\n",
      "12/12 [==============================] - 0s 6ms/step - loss: 846343.1250 - MSE: 846343.1250 - val_loss: 4507975.0000 - val_MSE: 4507975.0000\n",
      "Epoch 495/500\n",
      "12/12 [==============================] - 0s 6ms/step - loss: 834097.0625 - MSE: 834097.0625 - val_loss: 4440609.0000 - val_MSE: 4440609.0000\n",
      "Epoch 496/500\n",
      "12/12 [==============================] - 0s 6ms/step - loss: 813710.5625 - MSE: 813710.5625 - val_loss: 4351664.5000 - val_MSE: 4351664.5000\n",
      "Epoch 497/500\n",
      "12/12 [==============================] - 0s 6ms/step - loss: 795822.5625 - MSE: 795822.5625 - val_loss: 4315551.0000 - val_MSE: 4315551.0000\n",
      "Epoch 498/500\n",
      "12/12 [==============================] - 0s 5ms/step - loss: 780433.1250 - MSE: 780433.1250 - val_loss: 4308129.0000 - val_MSE: 4308129.0000\n",
      "Epoch 499/500\n",
      "12/12 [==============================] - 0s 5ms/step - loss: 768929.0000 - MSE: 768929.0000 - val_loss: 4139484.0000 - val_MSE: 4139484.0000\n",
      "Epoch 500/500\n",
      "12/12 [==============================] - 0s 4ms/step - loss: 756755.5625 - MSE: 756755.5625 - val_loss: 4152387.5000 - val_MSE: 4152387.5000\n"
     ]
    }
   ],
   "source": [
    "s = time.time()\n",
    "model.fit(x_train, y_train, epochs=500, batch_size=32, validation_split=0.1)\n",
    "e = time.time()\n",
    "tt2 = e-s"
   ]
  },
  {
   "cell_type": "markdown",
   "id": "2c47aa76",
   "metadata": {},
   "source": [
    "# Step 10: Evaluate the Model"
   ]
  },
  {
   "cell_type": "code",
   "execution_count": 52,
   "id": "ff9d5311",
   "metadata": {},
   "outputs": [
    {
     "name": "stdout",
     "output_type": "stream",
     "text": [
      "4/4 [==============================] - 0s 5ms/step\n"
     ]
    }
   ],
   "source": [
    "s = time.time()\n",
    "y_pred = model.predict(x_test)\n",
    "e = time.time()\n",
    "te2 = e-s\n",
    "p2 = mean_squared_error(y_pred,y_test)"
   ]
  },
  {
   "cell_type": "markdown",
   "id": "118a14bd",
   "metadata": {},
   "source": [
    "# Step 11: Evaluate and Compare Scores, Training Time, and Prediction Time of ANN/DNN Models"
   ]
  },
  {
   "cell_type": "code",
   "execution_count": 66,
   "id": "25f5e17b",
   "metadata": {},
   "outputs": [],
   "source": [
    "models = ['ANN', 'DNN']\n",
    "te = [te1,te2]\n",
    "tt = [tt1,tt2]\n",
    "p = [p1,p2]"
   ]
  },
  {
   "cell_type": "code",
   "execution_count": 55,
   "id": "522e22a9",
   "metadata": {},
   "outputs": [
    {
     "data": {
      "text/plain": [
       "17.180423806587363"
      ]
     },
     "execution_count": 55,
     "metadata": {},
     "output_type": "execute_result"
    }
   ],
   "source": [
    "import plotly.express as px"
   ]
  },
  {
   "cell_type": "code",
   "execution_count": 67,
   "id": "726de32b",
   "metadata": {},
   "outputs": [
    {
     "data": {
      "application/vnd.plotly.v1+json": {
       "config": {
        "plotlyServerURL": "https://plot.ly"
       },
       "data": [
        {
         "alignmentgroup": "True",
         "hovertemplate": "models=%{x}<br>training time=%{y}<extra></extra>",
         "legendgroup": "",
         "marker": {
          "color": "#636efa",
          "pattern": {
           "shape": ""
          }
         },
         "name": "",
         "offsetgroup": "",
         "orientation": "v",
         "showlegend": false,
         "textposition": "auto",
         "type": "bar",
         "x": [
          "ANN",
          "DNN"
         ],
         "xaxis": "x",
         "y": [
          27.216537714004517,
          31.507652044296265
         ],
         "yaxis": "y"
        }
       ],
       "layout": {
        "barmode": "relative",
        "legend": {
         "tracegroupgap": 0
        },
        "margin": {
         "t": 60
        },
        "template": {
         "data": {
          "bar": [
           {
            "error_x": {
             "color": "#2a3f5f"
            },
            "error_y": {
             "color": "#2a3f5f"
            },
            "marker": {
             "line": {
              "color": "#E5ECF6",
              "width": 0.5
             },
             "pattern": {
              "fillmode": "overlay",
              "size": 10,
              "solidity": 0.2
             }
            },
            "type": "bar"
           }
          ],
          "barpolar": [
           {
            "marker": {
             "line": {
              "color": "#E5ECF6",
              "width": 0.5
             },
             "pattern": {
              "fillmode": "overlay",
              "size": 10,
              "solidity": 0.2
             }
            },
            "type": "barpolar"
           }
          ],
          "carpet": [
           {
            "aaxis": {
             "endlinecolor": "#2a3f5f",
             "gridcolor": "white",
             "linecolor": "white",
             "minorgridcolor": "white",
             "startlinecolor": "#2a3f5f"
            },
            "baxis": {
             "endlinecolor": "#2a3f5f",
             "gridcolor": "white",
             "linecolor": "white",
             "minorgridcolor": "white",
             "startlinecolor": "#2a3f5f"
            },
            "type": "carpet"
           }
          ],
          "choropleth": [
           {
            "colorbar": {
             "outlinewidth": 0,
             "ticks": ""
            },
            "type": "choropleth"
           }
          ],
          "contour": [
           {
            "colorbar": {
             "outlinewidth": 0,
             "ticks": ""
            },
            "colorscale": [
             [
              0,
              "#0d0887"
             ],
             [
              0.1111111111111111,
              "#46039f"
             ],
             [
              0.2222222222222222,
              "#7201a8"
             ],
             [
              0.3333333333333333,
              "#9c179e"
             ],
             [
              0.4444444444444444,
              "#bd3786"
             ],
             [
              0.5555555555555556,
              "#d8576b"
             ],
             [
              0.6666666666666666,
              "#ed7953"
             ],
             [
              0.7777777777777778,
              "#fb9f3a"
             ],
             [
              0.8888888888888888,
              "#fdca26"
             ],
             [
              1,
              "#f0f921"
             ]
            ],
            "type": "contour"
           }
          ],
          "contourcarpet": [
           {
            "colorbar": {
             "outlinewidth": 0,
             "ticks": ""
            },
            "type": "contourcarpet"
           }
          ],
          "heatmap": [
           {
            "colorbar": {
             "outlinewidth": 0,
             "ticks": ""
            },
            "colorscale": [
             [
              0,
              "#0d0887"
             ],
             [
              0.1111111111111111,
              "#46039f"
             ],
             [
              0.2222222222222222,
              "#7201a8"
             ],
             [
              0.3333333333333333,
              "#9c179e"
             ],
             [
              0.4444444444444444,
              "#bd3786"
             ],
             [
              0.5555555555555556,
              "#d8576b"
             ],
             [
              0.6666666666666666,
              "#ed7953"
             ],
             [
              0.7777777777777778,
              "#fb9f3a"
             ],
             [
              0.8888888888888888,
              "#fdca26"
             ],
             [
              1,
              "#f0f921"
             ]
            ],
            "type": "heatmap"
           }
          ],
          "heatmapgl": [
           {
            "colorbar": {
             "outlinewidth": 0,
             "ticks": ""
            },
            "colorscale": [
             [
              0,
              "#0d0887"
             ],
             [
              0.1111111111111111,
              "#46039f"
             ],
             [
              0.2222222222222222,
              "#7201a8"
             ],
             [
              0.3333333333333333,
              "#9c179e"
             ],
             [
              0.4444444444444444,
              "#bd3786"
             ],
             [
              0.5555555555555556,
              "#d8576b"
             ],
             [
              0.6666666666666666,
              "#ed7953"
             ],
             [
              0.7777777777777778,
              "#fb9f3a"
             ],
             [
              0.8888888888888888,
              "#fdca26"
             ],
             [
              1,
              "#f0f921"
             ]
            ],
            "type": "heatmapgl"
           }
          ],
          "histogram": [
           {
            "marker": {
             "pattern": {
              "fillmode": "overlay",
              "size": 10,
              "solidity": 0.2
             }
            },
            "type": "histogram"
           }
          ],
          "histogram2d": [
           {
            "colorbar": {
             "outlinewidth": 0,
             "ticks": ""
            },
            "colorscale": [
             [
              0,
              "#0d0887"
             ],
             [
              0.1111111111111111,
              "#46039f"
             ],
             [
              0.2222222222222222,
              "#7201a8"
             ],
             [
              0.3333333333333333,
              "#9c179e"
             ],
             [
              0.4444444444444444,
              "#bd3786"
             ],
             [
              0.5555555555555556,
              "#d8576b"
             ],
             [
              0.6666666666666666,
              "#ed7953"
             ],
             [
              0.7777777777777778,
              "#fb9f3a"
             ],
             [
              0.8888888888888888,
              "#fdca26"
             ],
             [
              1,
              "#f0f921"
             ]
            ],
            "type": "histogram2d"
           }
          ],
          "histogram2dcontour": [
           {
            "colorbar": {
             "outlinewidth": 0,
             "ticks": ""
            },
            "colorscale": [
             [
              0,
              "#0d0887"
             ],
             [
              0.1111111111111111,
              "#46039f"
             ],
             [
              0.2222222222222222,
              "#7201a8"
             ],
             [
              0.3333333333333333,
              "#9c179e"
             ],
             [
              0.4444444444444444,
              "#bd3786"
             ],
             [
              0.5555555555555556,
              "#d8576b"
             ],
             [
              0.6666666666666666,
              "#ed7953"
             ],
             [
              0.7777777777777778,
              "#fb9f3a"
             ],
             [
              0.8888888888888888,
              "#fdca26"
             ],
             [
              1,
              "#f0f921"
             ]
            ],
            "type": "histogram2dcontour"
           }
          ],
          "mesh3d": [
           {
            "colorbar": {
             "outlinewidth": 0,
             "ticks": ""
            },
            "type": "mesh3d"
           }
          ],
          "parcoords": [
           {
            "line": {
             "colorbar": {
              "outlinewidth": 0,
              "ticks": ""
             }
            },
            "type": "parcoords"
           }
          ],
          "pie": [
           {
            "automargin": true,
            "type": "pie"
           }
          ],
          "scatter": [
           {
            "marker": {
             "colorbar": {
              "outlinewidth": 0,
              "ticks": ""
             }
            },
            "type": "scatter"
           }
          ],
          "scatter3d": [
           {
            "line": {
             "colorbar": {
              "outlinewidth": 0,
              "ticks": ""
             }
            },
            "marker": {
             "colorbar": {
              "outlinewidth": 0,
              "ticks": ""
             }
            },
            "type": "scatter3d"
           }
          ],
          "scattercarpet": [
           {
            "marker": {
             "colorbar": {
              "outlinewidth": 0,
              "ticks": ""
             }
            },
            "type": "scattercarpet"
           }
          ],
          "scattergeo": [
           {
            "marker": {
             "colorbar": {
              "outlinewidth": 0,
              "ticks": ""
             }
            },
            "type": "scattergeo"
           }
          ],
          "scattergl": [
           {
            "marker": {
             "colorbar": {
              "outlinewidth": 0,
              "ticks": ""
             }
            },
            "type": "scattergl"
           }
          ],
          "scattermapbox": [
           {
            "marker": {
             "colorbar": {
              "outlinewidth": 0,
              "ticks": ""
             }
            },
            "type": "scattermapbox"
           }
          ],
          "scatterpolar": [
           {
            "marker": {
             "colorbar": {
              "outlinewidth": 0,
              "ticks": ""
             }
            },
            "type": "scatterpolar"
           }
          ],
          "scatterpolargl": [
           {
            "marker": {
             "colorbar": {
              "outlinewidth": 0,
              "ticks": ""
             }
            },
            "type": "scatterpolargl"
           }
          ],
          "scatterternary": [
           {
            "marker": {
             "colorbar": {
              "outlinewidth": 0,
              "ticks": ""
             }
            },
            "type": "scatterternary"
           }
          ],
          "surface": [
           {
            "colorbar": {
             "outlinewidth": 0,
             "ticks": ""
            },
            "colorscale": [
             [
              0,
              "#0d0887"
             ],
             [
              0.1111111111111111,
              "#46039f"
             ],
             [
              0.2222222222222222,
              "#7201a8"
             ],
             [
              0.3333333333333333,
              "#9c179e"
             ],
             [
              0.4444444444444444,
              "#bd3786"
             ],
             [
              0.5555555555555556,
              "#d8576b"
             ],
             [
              0.6666666666666666,
              "#ed7953"
             ],
             [
              0.7777777777777778,
              "#fb9f3a"
             ],
             [
              0.8888888888888888,
              "#fdca26"
             ],
             [
              1,
              "#f0f921"
             ]
            ],
            "type": "surface"
           }
          ],
          "table": [
           {
            "cells": {
             "fill": {
              "color": "#EBF0F8"
             },
             "line": {
              "color": "white"
             }
            },
            "header": {
             "fill": {
              "color": "#C8D4E3"
             },
             "line": {
              "color": "white"
             }
            },
            "type": "table"
           }
          ]
         },
         "layout": {
          "annotationdefaults": {
           "arrowcolor": "#2a3f5f",
           "arrowhead": 0,
           "arrowwidth": 1
          },
          "autotypenumbers": "strict",
          "coloraxis": {
           "colorbar": {
            "outlinewidth": 0,
            "ticks": ""
           }
          },
          "colorscale": {
           "diverging": [
            [
             0,
             "#8e0152"
            ],
            [
             0.1,
             "#c51b7d"
            ],
            [
             0.2,
             "#de77ae"
            ],
            [
             0.3,
             "#f1b6da"
            ],
            [
             0.4,
             "#fde0ef"
            ],
            [
             0.5,
             "#f7f7f7"
            ],
            [
             0.6,
             "#e6f5d0"
            ],
            [
             0.7,
             "#b8e186"
            ],
            [
             0.8,
             "#7fbc41"
            ],
            [
             0.9,
             "#4d9221"
            ],
            [
             1,
             "#276419"
            ]
           ],
           "sequential": [
            [
             0,
             "#0d0887"
            ],
            [
             0.1111111111111111,
             "#46039f"
            ],
            [
             0.2222222222222222,
             "#7201a8"
            ],
            [
             0.3333333333333333,
             "#9c179e"
            ],
            [
             0.4444444444444444,
             "#bd3786"
            ],
            [
             0.5555555555555556,
             "#d8576b"
            ],
            [
             0.6666666666666666,
             "#ed7953"
            ],
            [
             0.7777777777777778,
             "#fb9f3a"
            ],
            [
             0.8888888888888888,
             "#fdca26"
            ],
            [
             1,
             "#f0f921"
            ]
           ],
           "sequentialminus": [
            [
             0,
             "#0d0887"
            ],
            [
             0.1111111111111111,
             "#46039f"
            ],
            [
             0.2222222222222222,
             "#7201a8"
            ],
            [
             0.3333333333333333,
             "#9c179e"
            ],
            [
             0.4444444444444444,
             "#bd3786"
            ],
            [
             0.5555555555555556,
             "#d8576b"
            ],
            [
             0.6666666666666666,
             "#ed7953"
            ],
            [
             0.7777777777777778,
             "#fb9f3a"
            ],
            [
             0.8888888888888888,
             "#fdca26"
            ],
            [
             1,
             "#f0f921"
            ]
           ]
          },
          "colorway": [
           "#636efa",
           "#EF553B",
           "#00cc96",
           "#ab63fa",
           "#FFA15A",
           "#19d3f3",
           "#FF6692",
           "#B6E880",
           "#FF97FF",
           "#FECB52"
          ],
          "font": {
           "color": "#2a3f5f"
          },
          "geo": {
           "bgcolor": "white",
           "lakecolor": "white",
           "landcolor": "#E5ECF6",
           "showlakes": true,
           "showland": true,
           "subunitcolor": "white"
          },
          "hoverlabel": {
           "align": "left"
          },
          "hovermode": "closest",
          "mapbox": {
           "style": "light"
          },
          "paper_bgcolor": "white",
          "plot_bgcolor": "#E5ECF6",
          "polar": {
           "angularaxis": {
            "gridcolor": "white",
            "linecolor": "white",
            "ticks": ""
           },
           "bgcolor": "#E5ECF6",
           "radialaxis": {
            "gridcolor": "white",
            "linecolor": "white",
            "ticks": ""
           }
          },
          "scene": {
           "xaxis": {
            "backgroundcolor": "#E5ECF6",
            "gridcolor": "white",
            "gridwidth": 2,
            "linecolor": "white",
            "showbackground": true,
            "ticks": "",
            "zerolinecolor": "white"
           },
           "yaxis": {
            "backgroundcolor": "#E5ECF6",
            "gridcolor": "white",
            "gridwidth": 2,
            "linecolor": "white",
            "showbackground": true,
            "ticks": "",
            "zerolinecolor": "white"
           },
           "zaxis": {
            "backgroundcolor": "#E5ECF6",
            "gridcolor": "white",
            "gridwidth": 2,
            "linecolor": "white",
            "showbackground": true,
            "ticks": "",
            "zerolinecolor": "white"
           }
          },
          "shapedefaults": {
           "line": {
            "color": "#2a3f5f"
           }
          },
          "ternary": {
           "aaxis": {
            "gridcolor": "white",
            "linecolor": "white",
            "ticks": ""
           },
           "baxis": {
            "gridcolor": "white",
            "linecolor": "white",
            "ticks": ""
           },
           "bgcolor": "#E5ECF6",
           "caxis": {
            "gridcolor": "white",
            "linecolor": "white",
            "ticks": ""
           }
          },
          "title": {
           "x": 0.05
          },
          "xaxis": {
           "automargin": true,
           "gridcolor": "white",
           "linecolor": "white",
           "ticks": "",
           "title": {
            "standoff": 15
           },
           "zerolinecolor": "white",
           "zerolinewidth": 2
          },
          "yaxis": {
           "automargin": true,
           "gridcolor": "white",
           "linecolor": "white",
           "ticks": "",
           "title": {
            "standoff": 15
           },
           "zerolinecolor": "white",
           "zerolinewidth": 2
          }
         }
        },
        "xaxis": {
         "anchor": "y",
         "domain": [
          0,
          1
         ],
         "title": {
          "text": "models"
         }
        },
        "yaxis": {
         "anchor": "x",
         "domain": [
          0,
          1
         ],
         "title": {
          "text": "training time"
         }
        }
       }
      },
      "text/html": [
       "<div>                            <div id=\"df8e41ba-7886-4d87-913f-f3ebae1536f5\" class=\"plotly-graph-div\" style=\"height:525px; width:100%;\"></div>            <script type=\"text/javascript\">                require([\"plotly\"], function(Plotly) {                    window.PLOTLYENV=window.PLOTLYENV || {};                                    if (document.getElementById(\"df8e41ba-7886-4d87-913f-f3ebae1536f5\")) {                    Plotly.newPlot(                        \"df8e41ba-7886-4d87-913f-f3ebae1536f5\",                        [{\"alignmentgroup\":\"True\",\"hovertemplate\":\"models=%{x}<br>training time=%{y}<extra></extra>\",\"legendgroup\":\"\",\"marker\":{\"color\":\"#636efa\",\"pattern\":{\"shape\":\"\"}},\"name\":\"\",\"offsetgroup\":\"\",\"orientation\":\"v\",\"showlegend\":false,\"textposition\":\"auto\",\"x\":[\"ANN\",\"DNN\"],\"xaxis\":\"x\",\"y\":[27.216537714004517,31.507652044296265],\"yaxis\":\"y\",\"type\":\"bar\"}],                        {\"template\":{\"data\":{\"bar\":[{\"error_x\":{\"color\":\"#2a3f5f\"},\"error_y\":{\"color\":\"#2a3f5f\"},\"marker\":{\"line\":{\"color\":\"#E5ECF6\",\"width\":0.5},\"pattern\":{\"fillmode\":\"overlay\",\"size\":10,\"solidity\":0.2}},\"type\":\"bar\"}],\"barpolar\":[{\"marker\":{\"line\":{\"color\":\"#E5ECF6\",\"width\":0.5},\"pattern\":{\"fillmode\":\"overlay\",\"size\":10,\"solidity\":0.2}},\"type\":\"barpolar\"}],\"carpet\":[{\"aaxis\":{\"endlinecolor\":\"#2a3f5f\",\"gridcolor\":\"white\",\"linecolor\":\"white\",\"minorgridcolor\":\"white\",\"startlinecolor\":\"#2a3f5f\"},\"baxis\":{\"endlinecolor\":\"#2a3f5f\",\"gridcolor\":\"white\",\"linecolor\":\"white\",\"minorgridcolor\":\"white\",\"startlinecolor\":\"#2a3f5f\"},\"type\":\"carpet\"}],\"choropleth\":[{\"colorbar\":{\"outlinewidth\":0,\"ticks\":\"\"},\"type\":\"choropleth\"}],\"contour\":[{\"colorbar\":{\"outlinewidth\":0,\"ticks\":\"\"},\"colorscale\":[[0.0,\"#0d0887\"],[0.1111111111111111,\"#46039f\"],[0.2222222222222222,\"#7201a8\"],[0.3333333333333333,\"#9c179e\"],[0.4444444444444444,\"#bd3786\"],[0.5555555555555556,\"#d8576b\"],[0.6666666666666666,\"#ed7953\"],[0.7777777777777778,\"#fb9f3a\"],[0.8888888888888888,\"#fdca26\"],[1.0,\"#f0f921\"]],\"type\":\"contour\"}],\"contourcarpet\":[{\"colorbar\":{\"outlinewidth\":0,\"ticks\":\"\"},\"type\":\"contourcarpet\"}],\"heatmap\":[{\"colorbar\":{\"outlinewidth\":0,\"ticks\":\"\"},\"colorscale\":[[0.0,\"#0d0887\"],[0.1111111111111111,\"#46039f\"],[0.2222222222222222,\"#7201a8\"],[0.3333333333333333,\"#9c179e\"],[0.4444444444444444,\"#bd3786\"],[0.5555555555555556,\"#d8576b\"],[0.6666666666666666,\"#ed7953\"],[0.7777777777777778,\"#fb9f3a\"],[0.8888888888888888,\"#fdca26\"],[1.0,\"#f0f921\"]],\"type\":\"heatmap\"}],\"heatmapgl\":[{\"colorbar\":{\"outlinewidth\":0,\"ticks\":\"\"},\"colorscale\":[[0.0,\"#0d0887\"],[0.1111111111111111,\"#46039f\"],[0.2222222222222222,\"#7201a8\"],[0.3333333333333333,\"#9c179e\"],[0.4444444444444444,\"#bd3786\"],[0.5555555555555556,\"#d8576b\"],[0.6666666666666666,\"#ed7953\"],[0.7777777777777778,\"#fb9f3a\"],[0.8888888888888888,\"#fdca26\"],[1.0,\"#f0f921\"]],\"type\":\"heatmapgl\"}],\"histogram\":[{\"marker\":{\"pattern\":{\"fillmode\":\"overlay\",\"size\":10,\"solidity\":0.2}},\"type\":\"histogram\"}],\"histogram2d\":[{\"colorbar\":{\"outlinewidth\":0,\"ticks\":\"\"},\"colorscale\":[[0.0,\"#0d0887\"],[0.1111111111111111,\"#46039f\"],[0.2222222222222222,\"#7201a8\"],[0.3333333333333333,\"#9c179e\"],[0.4444444444444444,\"#bd3786\"],[0.5555555555555556,\"#d8576b\"],[0.6666666666666666,\"#ed7953\"],[0.7777777777777778,\"#fb9f3a\"],[0.8888888888888888,\"#fdca26\"],[1.0,\"#f0f921\"]],\"type\":\"histogram2d\"}],\"histogram2dcontour\":[{\"colorbar\":{\"outlinewidth\":0,\"ticks\":\"\"},\"colorscale\":[[0.0,\"#0d0887\"],[0.1111111111111111,\"#46039f\"],[0.2222222222222222,\"#7201a8\"],[0.3333333333333333,\"#9c179e\"],[0.4444444444444444,\"#bd3786\"],[0.5555555555555556,\"#d8576b\"],[0.6666666666666666,\"#ed7953\"],[0.7777777777777778,\"#fb9f3a\"],[0.8888888888888888,\"#fdca26\"],[1.0,\"#f0f921\"]],\"type\":\"histogram2dcontour\"}],\"mesh3d\":[{\"colorbar\":{\"outlinewidth\":0,\"ticks\":\"\"},\"type\":\"mesh3d\"}],\"parcoords\":[{\"line\":{\"colorbar\":{\"outlinewidth\":0,\"ticks\":\"\"}},\"type\":\"parcoords\"}],\"pie\":[{\"automargin\":true,\"type\":\"pie\"}],\"scatter\":[{\"marker\":{\"colorbar\":{\"outlinewidth\":0,\"ticks\":\"\"}},\"type\":\"scatter\"}],\"scatter3d\":[{\"line\":{\"colorbar\":{\"outlinewidth\":0,\"ticks\":\"\"}},\"marker\":{\"colorbar\":{\"outlinewidth\":0,\"ticks\":\"\"}},\"type\":\"scatter3d\"}],\"scattercarpet\":[{\"marker\":{\"colorbar\":{\"outlinewidth\":0,\"ticks\":\"\"}},\"type\":\"scattercarpet\"}],\"scattergeo\":[{\"marker\":{\"colorbar\":{\"outlinewidth\":0,\"ticks\":\"\"}},\"type\":\"scattergeo\"}],\"scattergl\":[{\"marker\":{\"colorbar\":{\"outlinewidth\":0,\"ticks\":\"\"}},\"type\":\"scattergl\"}],\"scattermapbox\":[{\"marker\":{\"colorbar\":{\"outlinewidth\":0,\"ticks\":\"\"}},\"type\":\"scattermapbox\"}],\"scatterpolar\":[{\"marker\":{\"colorbar\":{\"outlinewidth\":0,\"ticks\":\"\"}},\"type\":\"scatterpolar\"}],\"scatterpolargl\":[{\"marker\":{\"colorbar\":{\"outlinewidth\":0,\"ticks\":\"\"}},\"type\":\"scatterpolargl\"}],\"scatterternary\":[{\"marker\":{\"colorbar\":{\"outlinewidth\":0,\"ticks\":\"\"}},\"type\":\"scatterternary\"}],\"surface\":[{\"colorbar\":{\"outlinewidth\":0,\"ticks\":\"\"},\"colorscale\":[[0.0,\"#0d0887\"],[0.1111111111111111,\"#46039f\"],[0.2222222222222222,\"#7201a8\"],[0.3333333333333333,\"#9c179e\"],[0.4444444444444444,\"#bd3786\"],[0.5555555555555556,\"#d8576b\"],[0.6666666666666666,\"#ed7953\"],[0.7777777777777778,\"#fb9f3a\"],[0.8888888888888888,\"#fdca26\"],[1.0,\"#f0f921\"]],\"type\":\"surface\"}],\"table\":[{\"cells\":{\"fill\":{\"color\":\"#EBF0F8\"},\"line\":{\"color\":\"white\"}},\"header\":{\"fill\":{\"color\":\"#C8D4E3\"},\"line\":{\"color\":\"white\"}},\"type\":\"table\"}]},\"layout\":{\"annotationdefaults\":{\"arrowcolor\":\"#2a3f5f\",\"arrowhead\":0,\"arrowwidth\":1},\"autotypenumbers\":\"strict\",\"coloraxis\":{\"colorbar\":{\"outlinewidth\":0,\"ticks\":\"\"}},\"colorscale\":{\"diverging\":[[0,\"#8e0152\"],[0.1,\"#c51b7d\"],[0.2,\"#de77ae\"],[0.3,\"#f1b6da\"],[0.4,\"#fde0ef\"],[0.5,\"#f7f7f7\"],[0.6,\"#e6f5d0\"],[0.7,\"#b8e186\"],[0.8,\"#7fbc41\"],[0.9,\"#4d9221\"],[1,\"#276419\"]],\"sequential\":[[0.0,\"#0d0887\"],[0.1111111111111111,\"#46039f\"],[0.2222222222222222,\"#7201a8\"],[0.3333333333333333,\"#9c179e\"],[0.4444444444444444,\"#bd3786\"],[0.5555555555555556,\"#d8576b\"],[0.6666666666666666,\"#ed7953\"],[0.7777777777777778,\"#fb9f3a\"],[0.8888888888888888,\"#fdca26\"],[1.0,\"#f0f921\"]],\"sequentialminus\":[[0.0,\"#0d0887\"],[0.1111111111111111,\"#46039f\"],[0.2222222222222222,\"#7201a8\"],[0.3333333333333333,\"#9c179e\"],[0.4444444444444444,\"#bd3786\"],[0.5555555555555556,\"#d8576b\"],[0.6666666666666666,\"#ed7953\"],[0.7777777777777778,\"#fb9f3a\"],[0.8888888888888888,\"#fdca26\"],[1.0,\"#f0f921\"]]},\"colorway\":[\"#636efa\",\"#EF553B\",\"#00cc96\",\"#ab63fa\",\"#FFA15A\",\"#19d3f3\",\"#FF6692\",\"#B6E880\",\"#FF97FF\",\"#FECB52\"],\"font\":{\"color\":\"#2a3f5f\"},\"geo\":{\"bgcolor\":\"white\",\"lakecolor\":\"white\",\"landcolor\":\"#E5ECF6\",\"showlakes\":true,\"showland\":true,\"subunitcolor\":\"white\"},\"hoverlabel\":{\"align\":\"left\"},\"hovermode\":\"closest\",\"mapbox\":{\"style\":\"light\"},\"paper_bgcolor\":\"white\",\"plot_bgcolor\":\"#E5ECF6\",\"polar\":{\"angularaxis\":{\"gridcolor\":\"white\",\"linecolor\":\"white\",\"ticks\":\"\"},\"bgcolor\":\"#E5ECF6\",\"radialaxis\":{\"gridcolor\":\"white\",\"linecolor\":\"white\",\"ticks\":\"\"}},\"scene\":{\"xaxis\":{\"backgroundcolor\":\"#E5ECF6\",\"gridcolor\":\"white\",\"gridwidth\":2,\"linecolor\":\"white\",\"showbackground\":true,\"ticks\":\"\",\"zerolinecolor\":\"white\"},\"yaxis\":{\"backgroundcolor\":\"#E5ECF6\",\"gridcolor\":\"white\",\"gridwidth\":2,\"linecolor\":\"white\",\"showbackground\":true,\"ticks\":\"\",\"zerolinecolor\":\"white\"},\"zaxis\":{\"backgroundcolor\":\"#E5ECF6\",\"gridcolor\":\"white\",\"gridwidth\":2,\"linecolor\":\"white\",\"showbackground\":true,\"ticks\":\"\",\"zerolinecolor\":\"white\"}},\"shapedefaults\":{\"line\":{\"color\":\"#2a3f5f\"}},\"ternary\":{\"aaxis\":{\"gridcolor\":\"white\",\"linecolor\":\"white\",\"ticks\":\"\"},\"baxis\":{\"gridcolor\":\"white\",\"linecolor\":\"white\",\"ticks\":\"\"},\"bgcolor\":\"#E5ECF6\",\"caxis\":{\"gridcolor\":\"white\",\"linecolor\":\"white\",\"ticks\":\"\"}},\"title\":{\"x\":0.05},\"xaxis\":{\"automargin\":true,\"gridcolor\":\"white\",\"linecolor\":\"white\",\"ticks\":\"\",\"title\":{\"standoff\":15},\"zerolinecolor\":\"white\",\"zerolinewidth\":2},\"yaxis\":{\"automargin\":true,\"gridcolor\":\"white\",\"linecolor\":\"white\",\"ticks\":\"\",\"title\":{\"standoff\":15},\"zerolinecolor\":\"white\",\"zerolinewidth\":2}}},\"xaxis\":{\"anchor\":\"y\",\"domain\":[0.0,1.0],\"title\":{\"text\":\"models\"}},\"yaxis\":{\"anchor\":\"x\",\"domain\":[0.0,1.0],\"title\":{\"text\":\"training time\"}},\"legend\":{\"tracegroupgap\":0},\"margin\":{\"t\":60},\"barmode\":\"relative\"},                        {\"responsive\": true}                    ).then(function(){\n",
       "                            \n",
       "var gd = document.getElementById('df8e41ba-7886-4d87-913f-f3ebae1536f5');\n",
       "var x = new MutationObserver(function (mutations, observer) {{\n",
       "        var display = window.getComputedStyle(gd).display;\n",
       "        if (!display || display === 'none') {{\n",
       "            console.log([gd, 'removed!']);\n",
       "            Plotly.purge(gd);\n",
       "            observer.disconnect();\n",
       "        }}\n",
       "}});\n",
       "\n",
       "// Listen for the removal of the full notebook cells\n",
       "var notebookContainer = gd.closest('#notebook-container');\n",
       "if (notebookContainer) {{\n",
       "    x.observe(notebookContainer, {childList: true});\n",
       "}}\n",
       "\n",
       "// Listen for the clearing of the current output cell\n",
       "var outputEl = gd.closest('.output');\n",
       "if (outputEl) {{\n",
       "    x.observe(outputEl, {childList: true});\n",
       "}}\n",
       "\n",
       "                        })                };                });            </script>        </div>"
      ]
     },
     "metadata": {},
     "output_type": "display_data"
    }
   ],
   "source": [
    "px.bar(x=models,y=tt,labels={\n",
    "    'y':'training time',\n",
    "    'x':'models'\n",
    "})"
   ]
  },
  {
   "cell_type": "code",
   "execution_count": 69,
   "id": "340d4b20",
   "metadata": {},
   "outputs": [
    {
     "data": {
      "application/vnd.plotly.v1+json": {
       "config": {
        "plotlyServerURL": "https://plot.ly"
       },
       "data": [
        {
         "alignmentgroup": "True",
         "hovertemplate": "models=%{x}<br>prediction time=%{y}<extra></extra>",
         "legendgroup": "",
         "marker": {
          "color": "#636efa",
          "pattern": {
           "shape": ""
          }
         },
         "name": "",
         "offsetgroup": "",
         "orientation": "v",
         "showlegend": false,
         "textposition": "auto",
         "type": "bar",
         "x": [
          "ANN",
          "DNN"
         ],
         "xaxis": "x",
         "y": [
          0.09690332412719727,
          0.13408684730529785
         ],
         "yaxis": "y"
        }
       ],
       "layout": {
        "barmode": "relative",
        "legend": {
         "tracegroupgap": 0
        },
        "margin": {
         "t": 60
        },
        "template": {
         "data": {
          "bar": [
           {
            "error_x": {
             "color": "#2a3f5f"
            },
            "error_y": {
             "color": "#2a3f5f"
            },
            "marker": {
             "line": {
              "color": "#E5ECF6",
              "width": 0.5
             },
             "pattern": {
              "fillmode": "overlay",
              "size": 10,
              "solidity": 0.2
             }
            },
            "type": "bar"
           }
          ],
          "barpolar": [
           {
            "marker": {
             "line": {
              "color": "#E5ECF6",
              "width": 0.5
             },
             "pattern": {
              "fillmode": "overlay",
              "size": 10,
              "solidity": 0.2
             }
            },
            "type": "barpolar"
           }
          ],
          "carpet": [
           {
            "aaxis": {
             "endlinecolor": "#2a3f5f",
             "gridcolor": "white",
             "linecolor": "white",
             "minorgridcolor": "white",
             "startlinecolor": "#2a3f5f"
            },
            "baxis": {
             "endlinecolor": "#2a3f5f",
             "gridcolor": "white",
             "linecolor": "white",
             "minorgridcolor": "white",
             "startlinecolor": "#2a3f5f"
            },
            "type": "carpet"
           }
          ],
          "choropleth": [
           {
            "colorbar": {
             "outlinewidth": 0,
             "ticks": ""
            },
            "type": "choropleth"
           }
          ],
          "contour": [
           {
            "colorbar": {
             "outlinewidth": 0,
             "ticks": ""
            },
            "colorscale": [
             [
              0,
              "#0d0887"
             ],
             [
              0.1111111111111111,
              "#46039f"
             ],
             [
              0.2222222222222222,
              "#7201a8"
             ],
             [
              0.3333333333333333,
              "#9c179e"
             ],
             [
              0.4444444444444444,
              "#bd3786"
             ],
             [
              0.5555555555555556,
              "#d8576b"
             ],
             [
              0.6666666666666666,
              "#ed7953"
             ],
             [
              0.7777777777777778,
              "#fb9f3a"
             ],
             [
              0.8888888888888888,
              "#fdca26"
             ],
             [
              1,
              "#f0f921"
             ]
            ],
            "type": "contour"
           }
          ],
          "contourcarpet": [
           {
            "colorbar": {
             "outlinewidth": 0,
             "ticks": ""
            },
            "type": "contourcarpet"
           }
          ],
          "heatmap": [
           {
            "colorbar": {
             "outlinewidth": 0,
             "ticks": ""
            },
            "colorscale": [
             [
              0,
              "#0d0887"
             ],
             [
              0.1111111111111111,
              "#46039f"
             ],
             [
              0.2222222222222222,
              "#7201a8"
             ],
             [
              0.3333333333333333,
              "#9c179e"
             ],
             [
              0.4444444444444444,
              "#bd3786"
             ],
             [
              0.5555555555555556,
              "#d8576b"
             ],
             [
              0.6666666666666666,
              "#ed7953"
             ],
             [
              0.7777777777777778,
              "#fb9f3a"
             ],
             [
              0.8888888888888888,
              "#fdca26"
             ],
             [
              1,
              "#f0f921"
             ]
            ],
            "type": "heatmap"
           }
          ],
          "heatmapgl": [
           {
            "colorbar": {
             "outlinewidth": 0,
             "ticks": ""
            },
            "colorscale": [
             [
              0,
              "#0d0887"
             ],
             [
              0.1111111111111111,
              "#46039f"
             ],
             [
              0.2222222222222222,
              "#7201a8"
             ],
             [
              0.3333333333333333,
              "#9c179e"
             ],
             [
              0.4444444444444444,
              "#bd3786"
             ],
             [
              0.5555555555555556,
              "#d8576b"
             ],
             [
              0.6666666666666666,
              "#ed7953"
             ],
             [
              0.7777777777777778,
              "#fb9f3a"
             ],
             [
              0.8888888888888888,
              "#fdca26"
             ],
             [
              1,
              "#f0f921"
             ]
            ],
            "type": "heatmapgl"
           }
          ],
          "histogram": [
           {
            "marker": {
             "pattern": {
              "fillmode": "overlay",
              "size": 10,
              "solidity": 0.2
             }
            },
            "type": "histogram"
           }
          ],
          "histogram2d": [
           {
            "colorbar": {
             "outlinewidth": 0,
             "ticks": ""
            },
            "colorscale": [
             [
              0,
              "#0d0887"
             ],
             [
              0.1111111111111111,
              "#46039f"
             ],
             [
              0.2222222222222222,
              "#7201a8"
             ],
             [
              0.3333333333333333,
              "#9c179e"
             ],
             [
              0.4444444444444444,
              "#bd3786"
             ],
             [
              0.5555555555555556,
              "#d8576b"
             ],
             [
              0.6666666666666666,
              "#ed7953"
             ],
             [
              0.7777777777777778,
              "#fb9f3a"
             ],
             [
              0.8888888888888888,
              "#fdca26"
             ],
             [
              1,
              "#f0f921"
             ]
            ],
            "type": "histogram2d"
           }
          ],
          "histogram2dcontour": [
           {
            "colorbar": {
             "outlinewidth": 0,
             "ticks": ""
            },
            "colorscale": [
             [
              0,
              "#0d0887"
             ],
             [
              0.1111111111111111,
              "#46039f"
             ],
             [
              0.2222222222222222,
              "#7201a8"
             ],
             [
              0.3333333333333333,
              "#9c179e"
             ],
             [
              0.4444444444444444,
              "#bd3786"
             ],
             [
              0.5555555555555556,
              "#d8576b"
             ],
             [
              0.6666666666666666,
              "#ed7953"
             ],
             [
              0.7777777777777778,
              "#fb9f3a"
             ],
             [
              0.8888888888888888,
              "#fdca26"
             ],
             [
              1,
              "#f0f921"
             ]
            ],
            "type": "histogram2dcontour"
           }
          ],
          "mesh3d": [
           {
            "colorbar": {
             "outlinewidth": 0,
             "ticks": ""
            },
            "type": "mesh3d"
           }
          ],
          "parcoords": [
           {
            "line": {
             "colorbar": {
              "outlinewidth": 0,
              "ticks": ""
             }
            },
            "type": "parcoords"
           }
          ],
          "pie": [
           {
            "automargin": true,
            "type": "pie"
           }
          ],
          "scatter": [
           {
            "marker": {
             "colorbar": {
              "outlinewidth": 0,
              "ticks": ""
             }
            },
            "type": "scatter"
           }
          ],
          "scatter3d": [
           {
            "line": {
             "colorbar": {
              "outlinewidth": 0,
              "ticks": ""
             }
            },
            "marker": {
             "colorbar": {
              "outlinewidth": 0,
              "ticks": ""
             }
            },
            "type": "scatter3d"
           }
          ],
          "scattercarpet": [
           {
            "marker": {
             "colorbar": {
              "outlinewidth": 0,
              "ticks": ""
             }
            },
            "type": "scattercarpet"
           }
          ],
          "scattergeo": [
           {
            "marker": {
             "colorbar": {
              "outlinewidth": 0,
              "ticks": ""
             }
            },
            "type": "scattergeo"
           }
          ],
          "scattergl": [
           {
            "marker": {
             "colorbar": {
              "outlinewidth": 0,
              "ticks": ""
             }
            },
            "type": "scattergl"
           }
          ],
          "scattermapbox": [
           {
            "marker": {
             "colorbar": {
              "outlinewidth": 0,
              "ticks": ""
             }
            },
            "type": "scattermapbox"
           }
          ],
          "scatterpolar": [
           {
            "marker": {
             "colorbar": {
              "outlinewidth": 0,
              "ticks": ""
             }
            },
            "type": "scatterpolar"
           }
          ],
          "scatterpolargl": [
           {
            "marker": {
             "colorbar": {
              "outlinewidth": 0,
              "ticks": ""
             }
            },
            "type": "scatterpolargl"
           }
          ],
          "scatterternary": [
           {
            "marker": {
             "colorbar": {
              "outlinewidth": 0,
              "ticks": ""
             }
            },
            "type": "scatterternary"
           }
          ],
          "surface": [
           {
            "colorbar": {
             "outlinewidth": 0,
             "ticks": ""
            },
            "colorscale": [
             [
              0,
              "#0d0887"
             ],
             [
              0.1111111111111111,
              "#46039f"
             ],
             [
              0.2222222222222222,
              "#7201a8"
             ],
             [
              0.3333333333333333,
              "#9c179e"
             ],
             [
              0.4444444444444444,
              "#bd3786"
             ],
             [
              0.5555555555555556,
              "#d8576b"
             ],
             [
              0.6666666666666666,
              "#ed7953"
             ],
             [
              0.7777777777777778,
              "#fb9f3a"
             ],
             [
              0.8888888888888888,
              "#fdca26"
             ],
             [
              1,
              "#f0f921"
             ]
            ],
            "type": "surface"
           }
          ],
          "table": [
           {
            "cells": {
             "fill": {
              "color": "#EBF0F8"
             },
             "line": {
              "color": "white"
             }
            },
            "header": {
             "fill": {
              "color": "#C8D4E3"
             },
             "line": {
              "color": "white"
             }
            },
            "type": "table"
           }
          ]
         },
         "layout": {
          "annotationdefaults": {
           "arrowcolor": "#2a3f5f",
           "arrowhead": 0,
           "arrowwidth": 1
          },
          "autotypenumbers": "strict",
          "coloraxis": {
           "colorbar": {
            "outlinewidth": 0,
            "ticks": ""
           }
          },
          "colorscale": {
           "diverging": [
            [
             0,
             "#8e0152"
            ],
            [
             0.1,
             "#c51b7d"
            ],
            [
             0.2,
             "#de77ae"
            ],
            [
             0.3,
             "#f1b6da"
            ],
            [
             0.4,
             "#fde0ef"
            ],
            [
             0.5,
             "#f7f7f7"
            ],
            [
             0.6,
             "#e6f5d0"
            ],
            [
             0.7,
             "#b8e186"
            ],
            [
             0.8,
             "#7fbc41"
            ],
            [
             0.9,
             "#4d9221"
            ],
            [
             1,
             "#276419"
            ]
           ],
           "sequential": [
            [
             0,
             "#0d0887"
            ],
            [
             0.1111111111111111,
             "#46039f"
            ],
            [
             0.2222222222222222,
             "#7201a8"
            ],
            [
             0.3333333333333333,
             "#9c179e"
            ],
            [
             0.4444444444444444,
             "#bd3786"
            ],
            [
             0.5555555555555556,
             "#d8576b"
            ],
            [
             0.6666666666666666,
             "#ed7953"
            ],
            [
             0.7777777777777778,
             "#fb9f3a"
            ],
            [
             0.8888888888888888,
             "#fdca26"
            ],
            [
             1,
             "#f0f921"
            ]
           ],
           "sequentialminus": [
            [
             0,
             "#0d0887"
            ],
            [
             0.1111111111111111,
             "#46039f"
            ],
            [
             0.2222222222222222,
             "#7201a8"
            ],
            [
             0.3333333333333333,
             "#9c179e"
            ],
            [
             0.4444444444444444,
             "#bd3786"
            ],
            [
             0.5555555555555556,
             "#d8576b"
            ],
            [
             0.6666666666666666,
             "#ed7953"
            ],
            [
             0.7777777777777778,
             "#fb9f3a"
            ],
            [
             0.8888888888888888,
             "#fdca26"
            ],
            [
             1,
             "#f0f921"
            ]
           ]
          },
          "colorway": [
           "#636efa",
           "#EF553B",
           "#00cc96",
           "#ab63fa",
           "#FFA15A",
           "#19d3f3",
           "#FF6692",
           "#B6E880",
           "#FF97FF",
           "#FECB52"
          ],
          "font": {
           "color": "#2a3f5f"
          },
          "geo": {
           "bgcolor": "white",
           "lakecolor": "white",
           "landcolor": "#E5ECF6",
           "showlakes": true,
           "showland": true,
           "subunitcolor": "white"
          },
          "hoverlabel": {
           "align": "left"
          },
          "hovermode": "closest",
          "mapbox": {
           "style": "light"
          },
          "paper_bgcolor": "white",
          "plot_bgcolor": "#E5ECF6",
          "polar": {
           "angularaxis": {
            "gridcolor": "white",
            "linecolor": "white",
            "ticks": ""
           },
           "bgcolor": "#E5ECF6",
           "radialaxis": {
            "gridcolor": "white",
            "linecolor": "white",
            "ticks": ""
           }
          },
          "scene": {
           "xaxis": {
            "backgroundcolor": "#E5ECF6",
            "gridcolor": "white",
            "gridwidth": 2,
            "linecolor": "white",
            "showbackground": true,
            "ticks": "",
            "zerolinecolor": "white"
           },
           "yaxis": {
            "backgroundcolor": "#E5ECF6",
            "gridcolor": "white",
            "gridwidth": 2,
            "linecolor": "white",
            "showbackground": true,
            "ticks": "",
            "zerolinecolor": "white"
           },
           "zaxis": {
            "backgroundcolor": "#E5ECF6",
            "gridcolor": "white",
            "gridwidth": 2,
            "linecolor": "white",
            "showbackground": true,
            "ticks": "",
            "zerolinecolor": "white"
           }
          },
          "shapedefaults": {
           "line": {
            "color": "#2a3f5f"
           }
          },
          "ternary": {
           "aaxis": {
            "gridcolor": "white",
            "linecolor": "white",
            "ticks": ""
           },
           "baxis": {
            "gridcolor": "white",
            "linecolor": "white",
            "ticks": ""
           },
           "bgcolor": "#E5ECF6",
           "caxis": {
            "gridcolor": "white",
            "linecolor": "white",
            "ticks": ""
           }
          },
          "title": {
           "x": 0.05
          },
          "xaxis": {
           "automargin": true,
           "gridcolor": "white",
           "linecolor": "white",
           "ticks": "",
           "title": {
            "standoff": 15
           },
           "zerolinecolor": "white",
           "zerolinewidth": 2
          },
          "yaxis": {
           "automargin": true,
           "gridcolor": "white",
           "linecolor": "white",
           "ticks": "",
           "title": {
            "standoff": 15
           },
           "zerolinecolor": "white",
           "zerolinewidth": 2
          }
         }
        },
        "xaxis": {
         "anchor": "y",
         "domain": [
          0,
          1
         ],
         "title": {
          "text": "models"
         }
        },
        "yaxis": {
         "anchor": "x",
         "domain": [
          0,
          1
         ],
         "title": {
          "text": "prediction time"
         }
        }
       }
      },
      "text/html": [
       "<div>                            <div id=\"8f5dff4d-e4a2-4311-a121-574596b4e738\" class=\"plotly-graph-div\" style=\"height:525px; width:100%;\"></div>            <script type=\"text/javascript\">                require([\"plotly\"], function(Plotly) {                    window.PLOTLYENV=window.PLOTLYENV || {};                                    if (document.getElementById(\"8f5dff4d-e4a2-4311-a121-574596b4e738\")) {                    Plotly.newPlot(                        \"8f5dff4d-e4a2-4311-a121-574596b4e738\",                        [{\"alignmentgroup\":\"True\",\"hovertemplate\":\"models=%{x}<br>prediction time=%{y}<extra></extra>\",\"legendgroup\":\"\",\"marker\":{\"color\":\"#636efa\",\"pattern\":{\"shape\":\"\"}},\"name\":\"\",\"offsetgroup\":\"\",\"orientation\":\"v\",\"showlegend\":false,\"textposition\":\"auto\",\"x\":[\"ANN\",\"DNN\"],\"xaxis\":\"x\",\"y\":[0.09690332412719727,0.13408684730529785],\"yaxis\":\"y\",\"type\":\"bar\"}],                        {\"template\":{\"data\":{\"bar\":[{\"error_x\":{\"color\":\"#2a3f5f\"},\"error_y\":{\"color\":\"#2a3f5f\"},\"marker\":{\"line\":{\"color\":\"#E5ECF6\",\"width\":0.5},\"pattern\":{\"fillmode\":\"overlay\",\"size\":10,\"solidity\":0.2}},\"type\":\"bar\"}],\"barpolar\":[{\"marker\":{\"line\":{\"color\":\"#E5ECF6\",\"width\":0.5},\"pattern\":{\"fillmode\":\"overlay\",\"size\":10,\"solidity\":0.2}},\"type\":\"barpolar\"}],\"carpet\":[{\"aaxis\":{\"endlinecolor\":\"#2a3f5f\",\"gridcolor\":\"white\",\"linecolor\":\"white\",\"minorgridcolor\":\"white\",\"startlinecolor\":\"#2a3f5f\"},\"baxis\":{\"endlinecolor\":\"#2a3f5f\",\"gridcolor\":\"white\",\"linecolor\":\"white\",\"minorgridcolor\":\"white\",\"startlinecolor\":\"#2a3f5f\"},\"type\":\"carpet\"}],\"choropleth\":[{\"colorbar\":{\"outlinewidth\":0,\"ticks\":\"\"},\"type\":\"choropleth\"}],\"contour\":[{\"colorbar\":{\"outlinewidth\":0,\"ticks\":\"\"},\"colorscale\":[[0.0,\"#0d0887\"],[0.1111111111111111,\"#46039f\"],[0.2222222222222222,\"#7201a8\"],[0.3333333333333333,\"#9c179e\"],[0.4444444444444444,\"#bd3786\"],[0.5555555555555556,\"#d8576b\"],[0.6666666666666666,\"#ed7953\"],[0.7777777777777778,\"#fb9f3a\"],[0.8888888888888888,\"#fdca26\"],[1.0,\"#f0f921\"]],\"type\":\"contour\"}],\"contourcarpet\":[{\"colorbar\":{\"outlinewidth\":0,\"ticks\":\"\"},\"type\":\"contourcarpet\"}],\"heatmap\":[{\"colorbar\":{\"outlinewidth\":0,\"ticks\":\"\"},\"colorscale\":[[0.0,\"#0d0887\"],[0.1111111111111111,\"#46039f\"],[0.2222222222222222,\"#7201a8\"],[0.3333333333333333,\"#9c179e\"],[0.4444444444444444,\"#bd3786\"],[0.5555555555555556,\"#d8576b\"],[0.6666666666666666,\"#ed7953\"],[0.7777777777777778,\"#fb9f3a\"],[0.8888888888888888,\"#fdca26\"],[1.0,\"#f0f921\"]],\"type\":\"heatmap\"}],\"heatmapgl\":[{\"colorbar\":{\"outlinewidth\":0,\"ticks\":\"\"},\"colorscale\":[[0.0,\"#0d0887\"],[0.1111111111111111,\"#46039f\"],[0.2222222222222222,\"#7201a8\"],[0.3333333333333333,\"#9c179e\"],[0.4444444444444444,\"#bd3786\"],[0.5555555555555556,\"#d8576b\"],[0.6666666666666666,\"#ed7953\"],[0.7777777777777778,\"#fb9f3a\"],[0.8888888888888888,\"#fdca26\"],[1.0,\"#f0f921\"]],\"type\":\"heatmapgl\"}],\"histogram\":[{\"marker\":{\"pattern\":{\"fillmode\":\"overlay\",\"size\":10,\"solidity\":0.2}},\"type\":\"histogram\"}],\"histogram2d\":[{\"colorbar\":{\"outlinewidth\":0,\"ticks\":\"\"},\"colorscale\":[[0.0,\"#0d0887\"],[0.1111111111111111,\"#46039f\"],[0.2222222222222222,\"#7201a8\"],[0.3333333333333333,\"#9c179e\"],[0.4444444444444444,\"#bd3786\"],[0.5555555555555556,\"#d8576b\"],[0.6666666666666666,\"#ed7953\"],[0.7777777777777778,\"#fb9f3a\"],[0.8888888888888888,\"#fdca26\"],[1.0,\"#f0f921\"]],\"type\":\"histogram2d\"}],\"histogram2dcontour\":[{\"colorbar\":{\"outlinewidth\":0,\"ticks\":\"\"},\"colorscale\":[[0.0,\"#0d0887\"],[0.1111111111111111,\"#46039f\"],[0.2222222222222222,\"#7201a8\"],[0.3333333333333333,\"#9c179e\"],[0.4444444444444444,\"#bd3786\"],[0.5555555555555556,\"#d8576b\"],[0.6666666666666666,\"#ed7953\"],[0.7777777777777778,\"#fb9f3a\"],[0.8888888888888888,\"#fdca26\"],[1.0,\"#f0f921\"]],\"type\":\"histogram2dcontour\"}],\"mesh3d\":[{\"colorbar\":{\"outlinewidth\":0,\"ticks\":\"\"},\"type\":\"mesh3d\"}],\"parcoords\":[{\"line\":{\"colorbar\":{\"outlinewidth\":0,\"ticks\":\"\"}},\"type\":\"parcoords\"}],\"pie\":[{\"automargin\":true,\"type\":\"pie\"}],\"scatter\":[{\"marker\":{\"colorbar\":{\"outlinewidth\":0,\"ticks\":\"\"}},\"type\":\"scatter\"}],\"scatter3d\":[{\"line\":{\"colorbar\":{\"outlinewidth\":0,\"ticks\":\"\"}},\"marker\":{\"colorbar\":{\"outlinewidth\":0,\"ticks\":\"\"}},\"type\":\"scatter3d\"}],\"scattercarpet\":[{\"marker\":{\"colorbar\":{\"outlinewidth\":0,\"ticks\":\"\"}},\"type\":\"scattercarpet\"}],\"scattergeo\":[{\"marker\":{\"colorbar\":{\"outlinewidth\":0,\"ticks\":\"\"}},\"type\":\"scattergeo\"}],\"scattergl\":[{\"marker\":{\"colorbar\":{\"outlinewidth\":0,\"ticks\":\"\"}},\"type\":\"scattergl\"}],\"scattermapbox\":[{\"marker\":{\"colorbar\":{\"outlinewidth\":0,\"ticks\":\"\"}},\"type\":\"scattermapbox\"}],\"scatterpolar\":[{\"marker\":{\"colorbar\":{\"outlinewidth\":0,\"ticks\":\"\"}},\"type\":\"scatterpolar\"}],\"scatterpolargl\":[{\"marker\":{\"colorbar\":{\"outlinewidth\":0,\"ticks\":\"\"}},\"type\":\"scatterpolargl\"}],\"scatterternary\":[{\"marker\":{\"colorbar\":{\"outlinewidth\":0,\"ticks\":\"\"}},\"type\":\"scatterternary\"}],\"surface\":[{\"colorbar\":{\"outlinewidth\":0,\"ticks\":\"\"},\"colorscale\":[[0.0,\"#0d0887\"],[0.1111111111111111,\"#46039f\"],[0.2222222222222222,\"#7201a8\"],[0.3333333333333333,\"#9c179e\"],[0.4444444444444444,\"#bd3786\"],[0.5555555555555556,\"#d8576b\"],[0.6666666666666666,\"#ed7953\"],[0.7777777777777778,\"#fb9f3a\"],[0.8888888888888888,\"#fdca26\"],[1.0,\"#f0f921\"]],\"type\":\"surface\"}],\"table\":[{\"cells\":{\"fill\":{\"color\":\"#EBF0F8\"},\"line\":{\"color\":\"white\"}},\"header\":{\"fill\":{\"color\":\"#C8D4E3\"},\"line\":{\"color\":\"white\"}},\"type\":\"table\"}]},\"layout\":{\"annotationdefaults\":{\"arrowcolor\":\"#2a3f5f\",\"arrowhead\":0,\"arrowwidth\":1},\"autotypenumbers\":\"strict\",\"coloraxis\":{\"colorbar\":{\"outlinewidth\":0,\"ticks\":\"\"}},\"colorscale\":{\"diverging\":[[0,\"#8e0152\"],[0.1,\"#c51b7d\"],[0.2,\"#de77ae\"],[0.3,\"#f1b6da\"],[0.4,\"#fde0ef\"],[0.5,\"#f7f7f7\"],[0.6,\"#e6f5d0\"],[0.7,\"#b8e186\"],[0.8,\"#7fbc41\"],[0.9,\"#4d9221\"],[1,\"#276419\"]],\"sequential\":[[0.0,\"#0d0887\"],[0.1111111111111111,\"#46039f\"],[0.2222222222222222,\"#7201a8\"],[0.3333333333333333,\"#9c179e\"],[0.4444444444444444,\"#bd3786\"],[0.5555555555555556,\"#d8576b\"],[0.6666666666666666,\"#ed7953\"],[0.7777777777777778,\"#fb9f3a\"],[0.8888888888888888,\"#fdca26\"],[1.0,\"#f0f921\"]],\"sequentialminus\":[[0.0,\"#0d0887\"],[0.1111111111111111,\"#46039f\"],[0.2222222222222222,\"#7201a8\"],[0.3333333333333333,\"#9c179e\"],[0.4444444444444444,\"#bd3786\"],[0.5555555555555556,\"#d8576b\"],[0.6666666666666666,\"#ed7953\"],[0.7777777777777778,\"#fb9f3a\"],[0.8888888888888888,\"#fdca26\"],[1.0,\"#f0f921\"]]},\"colorway\":[\"#636efa\",\"#EF553B\",\"#00cc96\",\"#ab63fa\",\"#FFA15A\",\"#19d3f3\",\"#FF6692\",\"#B6E880\",\"#FF97FF\",\"#FECB52\"],\"font\":{\"color\":\"#2a3f5f\"},\"geo\":{\"bgcolor\":\"white\",\"lakecolor\":\"white\",\"landcolor\":\"#E5ECF6\",\"showlakes\":true,\"showland\":true,\"subunitcolor\":\"white\"},\"hoverlabel\":{\"align\":\"left\"},\"hovermode\":\"closest\",\"mapbox\":{\"style\":\"light\"},\"paper_bgcolor\":\"white\",\"plot_bgcolor\":\"#E5ECF6\",\"polar\":{\"angularaxis\":{\"gridcolor\":\"white\",\"linecolor\":\"white\",\"ticks\":\"\"},\"bgcolor\":\"#E5ECF6\",\"radialaxis\":{\"gridcolor\":\"white\",\"linecolor\":\"white\",\"ticks\":\"\"}},\"scene\":{\"xaxis\":{\"backgroundcolor\":\"#E5ECF6\",\"gridcolor\":\"white\",\"gridwidth\":2,\"linecolor\":\"white\",\"showbackground\":true,\"ticks\":\"\",\"zerolinecolor\":\"white\"},\"yaxis\":{\"backgroundcolor\":\"#E5ECF6\",\"gridcolor\":\"white\",\"gridwidth\":2,\"linecolor\":\"white\",\"showbackground\":true,\"ticks\":\"\",\"zerolinecolor\":\"white\"},\"zaxis\":{\"backgroundcolor\":\"#E5ECF6\",\"gridcolor\":\"white\",\"gridwidth\":2,\"linecolor\":\"white\",\"showbackground\":true,\"ticks\":\"\",\"zerolinecolor\":\"white\"}},\"shapedefaults\":{\"line\":{\"color\":\"#2a3f5f\"}},\"ternary\":{\"aaxis\":{\"gridcolor\":\"white\",\"linecolor\":\"white\",\"ticks\":\"\"},\"baxis\":{\"gridcolor\":\"white\",\"linecolor\":\"white\",\"ticks\":\"\"},\"bgcolor\":\"#E5ECF6\",\"caxis\":{\"gridcolor\":\"white\",\"linecolor\":\"white\",\"ticks\":\"\"}},\"title\":{\"x\":0.05},\"xaxis\":{\"automargin\":true,\"gridcolor\":\"white\",\"linecolor\":\"white\",\"ticks\":\"\",\"title\":{\"standoff\":15},\"zerolinecolor\":\"white\",\"zerolinewidth\":2},\"yaxis\":{\"automargin\":true,\"gridcolor\":\"white\",\"linecolor\":\"white\",\"ticks\":\"\",\"title\":{\"standoff\":15},\"zerolinecolor\":\"white\",\"zerolinewidth\":2}}},\"xaxis\":{\"anchor\":\"y\",\"domain\":[0.0,1.0],\"title\":{\"text\":\"models\"}},\"yaxis\":{\"anchor\":\"x\",\"domain\":[0.0,1.0],\"title\":{\"text\":\"prediction time\"}},\"legend\":{\"tracegroupgap\":0},\"margin\":{\"t\":60},\"barmode\":\"relative\"},                        {\"responsive\": true}                    ).then(function(){\n",
       "                            \n",
       "var gd = document.getElementById('8f5dff4d-e4a2-4311-a121-574596b4e738');\n",
       "var x = new MutationObserver(function (mutations, observer) {{\n",
       "        var display = window.getComputedStyle(gd).display;\n",
       "        if (!display || display === 'none') {{\n",
       "            console.log([gd, 'removed!']);\n",
       "            Plotly.purge(gd);\n",
       "            observer.disconnect();\n",
       "        }}\n",
       "}});\n",
       "\n",
       "// Listen for the removal of the full notebook cells\n",
       "var notebookContainer = gd.closest('#notebook-container');\n",
       "if (notebookContainer) {{\n",
       "    x.observe(notebookContainer, {childList: true});\n",
       "}}\n",
       "\n",
       "// Listen for the clearing of the current output cell\n",
       "var outputEl = gd.closest('.output');\n",
       "if (outputEl) {{\n",
       "    x.observe(outputEl, {childList: true});\n",
       "}}\n",
       "\n",
       "                        })                };                });            </script>        </div>"
      ]
     },
     "metadata": {},
     "output_type": "display_data"
    }
   ],
   "source": [
    "px.bar(x=models,y=te,labels={\n",
    "    'y':'prediction time',\n",
    "    'x':'models'\n",
    "})"
   ]
  },
  {
   "cell_type": "code",
   "execution_count": 68,
   "id": "371e2b2f",
   "metadata": {},
   "outputs": [
    {
     "data": {
      "application/vnd.plotly.v1+json": {
       "config": {
        "plotlyServerURL": "https://plot.ly"
       },
       "data": [
        {
         "alignmentgroup": "True",
         "hovertemplate": "models=%{x}<br>MSE=%{y}<extra></extra>",
         "legendgroup": "",
         "marker": {
          "color": "#636efa",
          "pattern": {
           "shape": ""
          }
         },
         "name": "",
         "offsetgroup": "",
         "orientation": "v",
         "showlegend": false,
         "textposition": "auto",
         "type": "bar",
         "x": [
          "ANN",
          "DNN"
         ],
         "xaxis": "x",
         "y": [
          1718042380.6587365,
          3979814.6049279207
         ],
         "yaxis": "y"
        }
       ],
       "layout": {
        "barmode": "relative",
        "legend": {
         "tracegroupgap": 0
        },
        "margin": {
         "t": 60
        },
        "template": {
         "data": {
          "bar": [
           {
            "error_x": {
             "color": "#2a3f5f"
            },
            "error_y": {
             "color": "#2a3f5f"
            },
            "marker": {
             "line": {
              "color": "#E5ECF6",
              "width": 0.5
             },
             "pattern": {
              "fillmode": "overlay",
              "size": 10,
              "solidity": 0.2
             }
            },
            "type": "bar"
           }
          ],
          "barpolar": [
           {
            "marker": {
             "line": {
              "color": "#E5ECF6",
              "width": 0.5
             },
             "pattern": {
              "fillmode": "overlay",
              "size": 10,
              "solidity": 0.2
             }
            },
            "type": "barpolar"
           }
          ],
          "carpet": [
           {
            "aaxis": {
             "endlinecolor": "#2a3f5f",
             "gridcolor": "white",
             "linecolor": "white",
             "minorgridcolor": "white",
             "startlinecolor": "#2a3f5f"
            },
            "baxis": {
             "endlinecolor": "#2a3f5f",
             "gridcolor": "white",
             "linecolor": "white",
             "minorgridcolor": "white",
             "startlinecolor": "#2a3f5f"
            },
            "type": "carpet"
           }
          ],
          "choropleth": [
           {
            "colorbar": {
             "outlinewidth": 0,
             "ticks": ""
            },
            "type": "choropleth"
           }
          ],
          "contour": [
           {
            "colorbar": {
             "outlinewidth": 0,
             "ticks": ""
            },
            "colorscale": [
             [
              0,
              "#0d0887"
             ],
             [
              0.1111111111111111,
              "#46039f"
             ],
             [
              0.2222222222222222,
              "#7201a8"
             ],
             [
              0.3333333333333333,
              "#9c179e"
             ],
             [
              0.4444444444444444,
              "#bd3786"
             ],
             [
              0.5555555555555556,
              "#d8576b"
             ],
             [
              0.6666666666666666,
              "#ed7953"
             ],
             [
              0.7777777777777778,
              "#fb9f3a"
             ],
             [
              0.8888888888888888,
              "#fdca26"
             ],
             [
              1,
              "#f0f921"
             ]
            ],
            "type": "contour"
           }
          ],
          "contourcarpet": [
           {
            "colorbar": {
             "outlinewidth": 0,
             "ticks": ""
            },
            "type": "contourcarpet"
           }
          ],
          "heatmap": [
           {
            "colorbar": {
             "outlinewidth": 0,
             "ticks": ""
            },
            "colorscale": [
             [
              0,
              "#0d0887"
             ],
             [
              0.1111111111111111,
              "#46039f"
             ],
             [
              0.2222222222222222,
              "#7201a8"
             ],
             [
              0.3333333333333333,
              "#9c179e"
             ],
             [
              0.4444444444444444,
              "#bd3786"
             ],
             [
              0.5555555555555556,
              "#d8576b"
             ],
             [
              0.6666666666666666,
              "#ed7953"
             ],
             [
              0.7777777777777778,
              "#fb9f3a"
             ],
             [
              0.8888888888888888,
              "#fdca26"
             ],
             [
              1,
              "#f0f921"
             ]
            ],
            "type": "heatmap"
           }
          ],
          "heatmapgl": [
           {
            "colorbar": {
             "outlinewidth": 0,
             "ticks": ""
            },
            "colorscale": [
             [
              0,
              "#0d0887"
             ],
             [
              0.1111111111111111,
              "#46039f"
             ],
             [
              0.2222222222222222,
              "#7201a8"
             ],
             [
              0.3333333333333333,
              "#9c179e"
             ],
             [
              0.4444444444444444,
              "#bd3786"
             ],
             [
              0.5555555555555556,
              "#d8576b"
             ],
             [
              0.6666666666666666,
              "#ed7953"
             ],
             [
              0.7777777777777778,
              "#fb9f3a"
             ],
             [
              0.8888888888888888,
              "#fdca26"
             ],
             [
              1,
              "#f0f921"
             ]
            ],
            "type": "heatmapgl"
           }
          ],
          "histogram": [
           {
            "marker": {
             "pattern": {
              "fillmode": "overlay",
              "size": 10,
              "solidity": 0.2
             }
            },
            "type": "histogram"
           }
          ],
          "histogram2d": [
           {
            "colorbar": {
             "outlinewidth": 0,
             "ticks": ""
            },
            "colorscale": [
             [
              0,
              "#0d0887"
             ],
             [
              0.1111111111111111,
              "#46039f"
             ],
             [
              0.2222222222222222,
              "#7201a8"
             ],
             [
              0.3333333333333333,
              "#9c179e"
             ],
             [
              0.4444444444444444,
              "#bd3786"
             ],
             [
              0.5555555555555556,
              "#d8576b"
             ],
             [
              0.6666666666666666,
              "#ed7953"
             ],
             [
              0.7777777777777778,
              "#fb9f3a"
             ],
             [
              0.8888888888888888,
              "#fdca26"
             ],
             [
              1,
              "#f0f921"
             ]
            ],
            "type": "histogram2d"
           }
          ],
          "histogram2dcontour": [
           {
            "colorbar": {
             "outlinewidth": 0,
             "ticks": ""
            },
            "colorscale": [
             [
              0,
              "#0d0887"
             ],
             [
              0.1111111111111111,
              "#46039f"
             ],
             [
              0.2222222222222222,
              "#7201a8"
             ],
             [
              0.3333333333333333,
              "#9c179e"
             ],
             [
              0.4444444444444444,
              "#bd3786"
             ],
             [
              0.5555555555555556,
              "#d8576b"
             ],
             [
              0.6666666666666666,
              "#ed7953"
             ],
             [
              0.7777777777777778,
              "#fb9f3a"
             ],
             [
              0.8888888888888888,
              "#fdca26"
             ],
             [
              1,
              "#f0f921"
             ]
            ],
            "type": "histogram2dcontour"
           }
          ],
          "mesh3d": [
           {
            "colorbar": {
             "outlinewidth": 0,
             "ticks": ""
            },
            "type": "mesh3d"
           }
          ],
          "parcoords": [
           {
            "line": {
             "colorbar": {
              "outlinewidth": 0,
              "ticks": ""
             }
            },
            "type": "parcoords"
           }
          ],
          "pie": [
           {
            "automargin": true,
            "type": "pie"
           }
          ],
          "scatter": [
           {
            "marker": {
             "colorbar": {
              "outlinewidth": 0,
              "ticks": ""
             }
            },
            "type": "scatter"
           }
          ],
          "scatter3d": [
           {
            "line": {
             "colorbar": {
              "outlinewidth": 0,
              "ticks": ""
             }
            },
            "marker": {
             "colorbar": {
              "outlinewidth": 0,
              "ticks": ""
             }
            },
            "type": "scatter3d"
           }
          ],
          "scattercarpet": [
           {
            "marker": {
             "colorbar": {
              "outlinewidth": 0,
              "ticks": ""
             }
            },
            "type": "scattercarpet"
           }
          ],
          "scattergeo": [
           {
            "marker": {
             "colorbar": {
              "outlinewidth": 0,
              "ticks": ""
             }
            },
            "type": "scattergeo"
           }
          ],
          "scattergl": [
           {
            "marker": {
             "colorbar": {
              "outlinewidth": 0,
              "ticks": ""
             }
            },
            "type": "scattergl"
           }
          ],
          "scattermapbox": [
           {
            "marker": {
             "colorbar": {
              "outlinewidth": 0,
              "ticks": ""
             }
            },
            "type": "scattermapbox"
           }
          ],
          "scatterpolar": [
           {
            "marker": {
             "colorbar": {
              "outlinewidth": 0,
              "ticks": ""
             }
            },
            "type": "scatterpolar"
           }
          ],
          "scatterpolargl": [
           {
            "marker": {
             "colorbar": {
              "outlinewidth": 0,
              "ticks": ""
             }
            },
            "type": "scatterpolargl"
           }
          ],
          "scatterternary": [
           {
            "marker": {
             "colorbar": {
              "outlinewidth": 0,
              "ticks": ""
             }
            },
            "type": "scatterternary"
           }
          ],
          "surface": [
           {
            "colorbar": {
             "outlinewidth": 0,
             "ticks": ""
            },
            "colorscale": [
             [
              0,
              "#0d0887"
             ],
             [
              0.1111111111111111,
              "#46039f"
             ],
             [
              0.2222222222222222,
              "#7201a8"
             ],
             [
              0.3333333333333333,
              "#9c179e"
             ],
             [
              0.4444444444444444,
              "#bd3786"
             ],
             [
              0.5555555555555556,
              "#d8576b"
             ],
             [
              0.6666666666666666,
              "#ed7953"
             ],
             [
              0.7777777777777778,
              "#fb9f3a"
             ],
             [
              0.8888888888888888,
              "#fdca26"
             ],
             [
              1,
              "#f0f921"
             ]
            ],
            "type": "surface"
           }
          ],
          "table": [
           {
            "cells": {
             "fill": {
              "color": "#EBF0F8"
             },
             "line": {
              "color": "white"
             }
            },
            "header": {
             "fill": {
              "color": "#C8D4E3"
             },
             "line": {
              "color": "white"
             }
            },
            "type": "table"
           }
          ]
         },
         "layout": {
          "annotationdefaults": {
           "arrowcolor": "#2a3f5f",
           "arrowhead": 0,
           "arrowwidth": 1
          },
          "autotypenumbers": "strict",
          "coloraxis": {
           "colorbar": {
            "outlinewidth": 0,
            "ticks": ""
           }
          },
          "colorscale": {
           "diverging": [
            [
             0,
             "#8e0152"
            ],
            [
             0.1,
             "#c51b7d"
            ],
            [
             0.2,
             "#de77ae"
            ],
            [
             0.3,
             "#f1b6da"
            ],
            [
             0.4,
             "#fde0ef"
            ],
            [
             0.5,
             "#f7f7f7"
            ],
            [
             0.6,
             "#e6f5d0"
            ],
            [
             0.7,
             "#b8e186"
            ],
            [
             0.8,
             "#7fbc41"
            ],
            [
             0.9,
             "#4d9221"
            ],
            [
             1,
             "#276419"
            ]
           ],
           "sequential": [
            [
             0,
             "#0d0887"
            ],
            [
             0.1111111111111111,
             "#46039f"
            ],
            [
             0.2222222222222222,
             "#7201a8"
            ],
            [
             0.3333333333333333,
             "#9c179e"
            ],
            [
             0.4444444444444444,
             "#bd3786"
            ],
            [
             0.5555555555555556,
             "#d8576b"
            ],
            [
             0.6666666666666666,
             "#ed7953"
            ],
            [
             0.7777777777777778,
             "#fb9f3a"
            ],
            [
             0.8888888888888888,
             "#fdca26"
            ],
            [
             1,
             "#f0f921"
            ]
           ],
           "sequentialminus": [
            [
             0,
             "#0d0887"
            ],
            [
             0.1111111111111111,
             "#46039f"
            ],
            [
             0.2222222222222222,
             "#7201a8"
            ],
            [
             0.3333333333333333,
             "#9c179e"
            ],
            [
             0.4444444444444444,
             "#bd3786"
            ],
            [
             0.5555555555555556,
             "#d8576b"
            ],
            [
             0.6666666666666666,
             "#ed7953"
            ],
            [
             0.7777777777777778,
             "#fb9f3a"
            ],
            [
             0.8888888888888888,
             "#fdca26"
            ],
            [
             1,
             "#f0f921"
            ]
           ]
          },
          "colorway": [
           "#636efa",
           "#EF553B",
           "#00cc96",
           "#ab63fa",
           "#FFA15A",
           "#19d3f3",
           "#FF6692",
           "#B6E880",
           "#FF97FF",
           "#FECB52"
          ],
          "font": {
           "color": "#2a3f5f"
          },
          "geo": {
           "bgcolor": "white",
           "lakecolor": "white",
           "landcolor": "#E5ECF6",
           "showlakes": true,
           "showland": true,
           "subunitcolor": "white"
          },
          "hoverlabel": {
           "align": "left"
          },
          "hovermode": "closest",
          "mapbox": {
           "style": "light"
          },
          "paper_bgcolor": "white",
          "plot_bgcolor": "#E5ECF6",
          "polar": {
           "angularaxis": {
            "gridcolor": "white",
            "linecolor": "white",
            "ticks": ""
           },
           "bgcolor": "#E5ECF6",
           "radialaxis": {
            "gridcolor": "white",
            "linecolor": "white",
            "ticks": ""
           }
          },
          "scene": {
           "xaxis": {
            "backgroundcolor": "#E5ECF6",
            "gridcolor": "white",
            "gridwidth": 2,
            "linecolor": "white",
            "showbackground": true,
            "ticks": "",
            "zerolinecolor": "white"
           },
           "yaxis": {
            "backgroundcolor": "#E5ECF6",
            "gridcolor": "white",
            "gridwidth": 2,
            "linecolor": "white",
            "showbackground": true,
            "ticks": "",
            "zerolinecolor": "white"
           },
           "zaxis": {
            "backgroundcolor": "#E5ECF6",
            "gridcolor": "white",
            "gridwidth": 2,
            "linecolor": "white",
            "showbackground": true,
            "ticks": "",
            "zerolinecolor": "white"
           }
          },
          "shapedefaults": {
           "line": {
            "color": "#2a3f5f"
           }
          },
          "ternary": {
           "aaxis": {
            "gridcolor": "white",
            "linecolor": "white",
            "ticks": ""
           },
           "baxis": {
            "gridcolor": "white",
            "linecolor": "white",
            "ticks": ""
           },
           "bgcolor": "#E5ECF6",
           "caxis": {
            "gridcolor": "white",
            "linecolor": "white",
            "ticks": ""
           }
          },
          "title": {
           "x": 0.05
          },
          "xaxis": {
           "automargin": true,
           "gridcolor": "white",
           "linecolor": "white",
           "ticks": "",
           "title": {
            "standoff": 15
           },
           "zerolinecolor": "white",
           "zerolinewidth": 2
          },
          "yaxis": {
           "automargin": true,
           "gridcolor": "white",
           "linecolor": "white",
           "ticks": "",
           "title": {
            "standoff": 15
           },
           "zerolinecolor": "white",
           "zerolinewidth": 2
          }
         }
        },
        "xaxis": {
         "anchor": "y",
         "domain": [
          0,
          1
         ],
         "title": {
          "text": "models"
         }
        },
        "yaxis": {
         "anchor": "x",
         "domain": [
          0,
          1
         ],
         "title": {
          "text": "MSE"
         }
        }
       }
      },
      "text/html": [
       "<div>                            <div id=\"876338d7-5863-45d7-81a4-66d7ede56014\" class=\"plotly-graph-div\" style=\"height:525px; width:100%;\"></div>            <script type=\"text/javascript\">                require([\"plotly\"], function(Plotly) {                    window.PLOTLYENV=window.PLOTLYENV || {};                                    if (document.getElementById(\"876338d7-5863-45d7-81a4-66d7ede56014\")) {                    Plotly.newPlot(                        \"876338d7-5863-45d7-81a4-66d7ede56014\",                        [{\"alignmentgroup\":\"True\",\"hovertemplate\":\"models=%{x}<br>MSE=%{y}<extra></extra>\",\"legendgroup\":\"\",\"marker\":{\"color\":\"#636efa\",\"pattern\":{\"shape\":\"\"}},\"name\":\"\",\"offsetgroup\":\"\",\"orientation\":\"v\",\"showlegend\":false,\"textposition\":\"auto\",\"x\":[\"ANN\",\"DNN\"],\"xaxis\":\"x\",\"y\":[1718042380.6587365,3979814.6049279207],\"yaxis\":\"y\",\"type\":\"bar\"}],                        {\"template\":{\"data\":{\"bar\":[{\"error_x\":{\"color\":\"#2a3f5f\"},\"error_y\":{\"color\":\"#2a3f5f\"},\"marker\":{\"line\":{\"color\":\"#E5ECF6\",\"width\":0.5},\"pattern\":{\"fillmode\":\"overlay\",\"size\":10,\"solidity\":0.2}},\"type\":\"bar\"}],\"barpolar\":[{\"marker\":{\"line\":{\"color\":\"#E5ECF6\",\"width\":0.5},\"pattern\":{\"fillmode\":\"overlay\",\"size\":10,\"solidity\":0.2}},\"type\":\"barpolar\"}],\"carpet\":[{\"aaxis\":{\"endlinecolor\":\"#2a3f5f\",\"gridcolor\":\"white\",\"linecolor\":\"white\",\"minorgridcolor\":\"white\",\"startlinecolor\":\"#2a3f5f\"},\"baxis\":{\"endlinecolor\":\"#2a3f5f\",\"gridcolor\":\"white\",\"linecolor\":\"white\",\"minorgridcolor\":\"white\",\"startlinecolor\":\"#2a3f5f\"},\"type\":\"carpet\"}],\"choropleth\":[{\"colorbar\":{\"outlinewidth\":0,\"ticks\":\"\"},\"type\":\"choropleth\"}],\"contour\":[{\"colorbar\":{\"outlinewidth\":0,\"ticks\":\"\"},\"colorscale\":[[0.0,\"#0d0887\"],[0.1111111111111111,\"#46039f\"],[0.2222222222222222,\"#7201a8\"],[0.3333333333333333,\"#9c179e\"],[0.4444444444444444,\"#bd3786\"],[0.5555555555555556,\"#d8576b\"],[0.6666666666666666,\"#ed7953\"],[0.7777777777777778,\"#fb9f3a\"],[0.8888888888888888,\"#fdca26\"],[1.0,\"#f0f921\"]],\"type\":\"contour\"}],\"contourcarpet\":[{\"colorbar\":{\"outlinewidth\":0,\"ticks\":\"\"},\"type\":\"contourcarpet\"}],\"heatmap\":[{\"colorbar\":{\"outlinewidth\":0,\"ticks\":\"\"},\"colorscale\":[[0.0,\"#0d0887\"],[0.1111111111111111,\"#46039f\"],[0.2222222222222222,\"#7201a8\"],[0.3333333333333333,\"#9c179e\"],[0.4444444444444444,\"#bd3786\"],[0.5555555555555556,\"#d8576b\"],[0.6666666666666666,\"#ed7953\"],[0.7777777777777778,\"#fb9f3a\"],[0.8888888888888888,\"#fdca26\"],[1.0,\"#f0f921\"]],\"type\":\"heatmap\"}],\"heatmapgl\":[{\"colorbar\":{\"outlinewidth\":0,\"ticks\":\"\"},\"colorscale\":[[0.0,\"#0d0887\"],[0.1111111111111111,\"#46039f\"],[0.2222222222222222,\"#7201a8\"],[0.3333333333333333,\"#9c179e\"],[0.4444444444444444,\"#bd3786\"],[0.5555555555555556,\"#d8576b\"],[0.6666666666666666,\"#ed7953\"],[0.7777777777777778,\"#fb9f3a\"],[0.8888888888888888,\"#fdca26\"],[1.0,\"#f0f921\"]],\"type\":\"heatmapgl\"}],\"histogram\":[{\"marker\":{\"pattern\":{\"fillmode\":\"overlay\",\"size\":10,\"solidity\":0.2}},\"type\":\"histogram\"}],\"histogram2d\":[{\"colorbar\":{\"outlinewidth\":0,\"ticks\":\"\"},\"colorscale\":[[0.0,\"#0d0887\"],[0.1111111111111111,\"#46039f\"],[0.2222222222222222,\"#7201a8\"],[0.3333333333333333,\"#9c179e\"],[0.4444444444444444,\"#bd3786\"],[0.5555555555555556,\"#d8576b\"],[0.6666666666666666,\"#ed7953\"],[0.7777777777777778,\"#fb9f3a\"],[0.8888888888888888,\"#fdca26\"],[1.0,\"#f0f921\"]],\"type\":\"histogram2d\"}],\"histogram2dcontour\":[{\"colorbar\":{\"outlinewidth\":0,\"ticks\":\"\"},\"colorscale\":[[0.0,\"#0d0887\"],[0.1111111111111111,\"#46039f\"],[0.2222222222222222,\"#7201a8\"],[0.3333333333333333,\"#9c179e\"],[0.4444444444444444,\"#bd3786\"],[0.5555555555555556,\"#d8576b\"],[0.6666666666666666,\"#ed7953\"],[0.7777777777777778,\"#fb9f3a\"],[0.8888888888888888,\"#fdca26\"],[1.0,\"#f0f921\"]],\"type\":\"histogram2dcontour\"}],\"mesh3d\":[{\"colorbar\":{\"outlinewidth\":0,\"ticks\":\"\"},\"type\":\"mesh3d\"}],\"parcoords\":[{\"line\":{\"colorbar\":{\"outlinewidth\":0,\"ticks\":\"\"}},\"type\":\"parcoords\"}],\"pie\":[{\"automargin\":true,\"type\":\"pie\"}],\"scatter\":[{\"marker\":{\"colorbar\":{\"outlinewidth\":0,\"ticks\":\"\"}},\"type\":\"scatter\"}],\"scatter3d\":[{\"line\":{\"colorbar\":{\"outlinewidth\":0,\"ticks\":\"\"}},\"marker\":{\"colorbar\":{\"outlinewidth\":0,\"ticks\":\"\"}},\"type\":\"scatter3d\"}],\"scattercarpet\":[{\"marker\":{\"colorbar\":{\"outlinewidth\":0,\"ticks\":\"\"}},\"type\":\"scattercarpet\"}],\"scattergeo\":[{\"marker\":{\"colorbar\":{\"outlinewidth\":0,\"ticks\":\"\"}},\"type\":\"scattergeo\"}],\"scattergl\":[{\"marker\":{\"colorbar\":{\"outlinewidth\":0,\"ticks\":\"\"}},\"type\":\"scattergl\"}],\"scattermapbox\":[{\"marker\":{\"colorbar\":{\"outlinewidth\":0,\"ticks\":\"\"}},\"type\":\"scattermapbox\"}],\"scatterpolar\":[{\"marker\":{\"colorbar\":{\"outlinewidth\":0,\"ticks\":\"\"}},\"type\":\"scatterpolar\"}],\"scatterpolargl\":[{\"marker\":{\"colorbar\":{\"outlinewidth\":0,\"ticks\":\"\"}},\"type\":\"scatterpolargl\"}],\"scatterternary\":[{\"marker\":{\"colorbar\":{\"outlinewidth\":0,\"ticks\":\"\"}},\"type\":\"scatterternary\"}],\"surface\":[{\"colorbar\":{\"outlinewidth\":0,\"ticks\":\"\"},\"colorscale\":[[0.0,\"#0d0887\"],[0.1111111111111111,\"#46039f\"],[0.2222222222222222,\"#7201a8\"],[0.3333333333333333,\"#9c179e\"],[0.4444444444444444,\"#bd3786\"],[0.5555555555555556,\"#d8576b\"],[0.6666666666666666,\"#ed7953\"],[0.7777777777777778,\"#fb9f3a\"],[0.8888888888888888,\"#fdca26\"],[1.0,\"#f0f921\"]],\"type\":\"surface\"}],\"table\":[{\"cells\":{\"fill\":{\"color\":\"#EBF0F8\"},\"line\":{\"color\":\"white\"}},\"header\":{\"fill\":{\"color\":\"#C8D4E3\"},\"line\":{\"color\":\"white\"}},\"type\":\"table\"}]},\"layout\":{\"annotationdefaults\":{\"arrowcolor\":\"#2a3f5f\",\"arrowhead\":0,\"arrowwidth\":1},\"autotypenumbers\":\"strict\",\"coloraxis\":{\"colorbar\":{\"outlinewidth\":0,\"ticks\":\"\"}},\"colorscale\":{\"diverging\":[[0,\"#8e0152\"],[0.1,\"#c51b7d\"],[0.2,\"#de77ae\"],[0.3,\"#f1b6da\"],[0.4,\"#fde0ef\"],[0.5,\"#f7f7f7\"],[0.6,\"#e6f5d0\"],[0.7,\"#b8e186\"],[0.8,\"#7fbc41\"],[0.9,\"#4d9221\"],[1,\"#276419\"]],\"sequential\":[[0.0,\"#0d0887\"],[0.1111111111111111,\"#46039f\"],[0.2222222222222222,\"#7201a8\"],[0.3333333333333333,\"#9c179e\"],[0.4444444444444444,\"#bd3786\"],[0.5555555555555556,\"#d8576b\"],[0.6666666666666666,\"#ed7953\"],[0.7777777777777778,\"#fb9f3a\"],[0.8888888888888888,\"#fdca26\"],[1.0,\"#f0f921\"]],\"sequentialminus\":[[0.0,\"#0d0887\"],[0.1111111111111111,\"#46039f\"],[0.2222222222222222,\"#7201a8\"],[0.3333333333333333,\"#9c179e\"],[0.4444444444444444,\"#bd3786\"],[0.5555555555555556,\"#d8576b\"],[0.6666666666666666,\"#ed7953\"],[0.7777777777777778,\"#fb9f3a\"],[0.8888888888888888,\"#fdca26\"],[1.0,\"#f0f921\"]]},\"colorway\":[\"#636efa\",\"#EF553B\",\"#00cc96\",\"#ab63fa\",\"#FFA15A\",\"#19d3f3\",\"#FF6692\",\"#B6E880\",\"#FF97FF\",\"#FECB52\"],\"font\":{\"color\":\"#2a3f5f\"},\"geo\":{\"bgcolor\":\"white\",\"lakecolor\":\"white\",\"landcolor\":\"#E5ECF6\",\"showlakes\":true,\"showland\":true,\"subunitcolor\":\"white\"},\"hoverlabel\":{\"align\":\"left\"},\"hovermode\":\"closest\",\"mapbox\":{\"style\":\"light\"},\"paper_bgcolor\":\"white\",\"plot_bgcolor\":\"#E5ECF6\",\"polar\":{\"angularaxis\":{\"gridcolor\":\"white\",\"linecolor\":\"white\",\"ticks\":\"\"},\"bgcolor\":\"#E5ECF6\",\"radialaxis\":{\"gridcolor\":\"white\",\"linecolor\":\"white\",\"ticks\":\"\"}},\"scene\":{\"xaxis\":{\"backgroundcolor\":\"#E5ECF6\",\"gridcolor\":\"white\",\"gridwidth\":2,\"linecolor\":\"white\",\"showbackground\":true,\"ticks\":\"\",\"zerolinecolor\":\"white\"},\"yaxis\":{\"backgroundcolor\":\"#E5ECF6\",\"gridcolor\":\"white\",\"gridwidth\":2,\"linecolor\":\"white\",\"showbackground\":true,\"ticks\":\"\",\"zerolinecolor\":\"white\"},\"zaxis\":{\"backgroundcolor\":\"#E5ECF6\",\"gridcolor\":\"white\",\"gridwidth\":2,\"linecolor\":\"white\",\"showbackground\":true,\"ticks\":\"\",\"zerolinecolor\":\"white\"}},\"shapedefaults\":{\"line\":{\"color\":\"#2a3f5f\"}},\"ternary\":{\"aaxis\":{\"gridcolor\":\"white\",\"linecolor\":\"white\",\"ticks\":\"\"},\"baxis\":{\"gridcolor\":\"white\",\"linecolor\":\"white\",\"ticks\":\"\"},\"bgcolor\":\"#E5ECF6\",\"caxis\":{\"gridcolor\":\"white\",\"linecolor\":\"white\",\"ticks\":\"\"}},\"title\":{\"x\":0.05},\"xaxis\":{\"automargin\":true,\"gridcolor\":\"white\",\"linecolor\":\"white\",\"ticks\":\"\",\"title\":{\"standoff\":15},\"zerolinecolor\":\"white\",\"zerolinewidth\":2},\"yaxis\":{\"automargin\":true,\"gridcolor\":\"white\",\"linecolor\":\"white\",\"ticks\":\"\",\"title\":{\"standoff\":15},\"zerolinecolor\":\"white\",\"zerolinewidth\":2}}},\"xaxis\":{\"anchor\":\"y\",\"domain\":[0.0,1.0],\"title\":{\"text\":\"models\"}},\"yaxis\":{\"anchor\":\"x\",\"domain\":[0.0,1.0],\"title\":{\"text\":\"MSE\"}},\"legend\":{\"tracegroupgap\":0},\"margin\":{\"t\":60},\"barmode\":\"relative\"},                        {\"responsive\": true}                    ).then(function(){\n",
       "                            \n",
       "var gd = document.getElementById('876338d7-5863-45d7-81a4-66d7ede56014');\n",
       "var x = new MutationObserver(function (mutations, observer) {{\n",
       "        var display = window.getComputedStyle(gd).display;\n",
       "        if (!display || display === 'none') {{\n",
       "            console.log([gd, 'removed!']);\n",
       "            Plotly.purge(gd);\n",
       "            observer.disconnect();\n",
       "        }}\n",
       "}});\n",
       "\n",
       "// Listen for the removal of the full notebook cells\n",
       "var notebookContainer = gd.closest('#notebook-container');\n",
       "if (notebookContainer) {{\n",
       "    x.observe(notebookContainer, {childList: true});\n",
       "}}\n",
       "\n",
       "// Listen for the clearing of the current output cell\n",
       "var outputEl = gd.closest('.output');\n",
       "if (outputEl) {{\n",
       "    x.observe(outputEl, {childList: true});\n",
       "}}\n",
       "\n",
       "                        })                };                });            </script>        </div>"
      ]
     },
     "metadata": {},
     "output_type": "display_data"
    }
   ],
   "source": [
    "px.bar(x=models,y=p,labels={\n",
    "    'y':'MSE',\n",
    "    'x':'models'\n",
    "})"
   ]
  },
  {
   "cell_type": "code",
   "execution_count": 72,
   "id": "0c76cba1",
   "metadata": {},
   "outputs": [
    {
     "data": {
      "text/plain": [
       "3979814.6049279207"
      ]
     },
     "execution_count": 72,
     "metadata": {},
     "output_type": "execute_result"
    }
   ],
   "source": [
    "p2"
   ]
  }
 ],
 "metadata": {
  "kernelspec": {
   "display_name": "Python 3 (ipykernel)",
   "language": "python",
   "name": "python3"
  },
  "language_info": {
   "codemirror_mode": {
    "name": "ipython",
    "version": 3
   },
   "file_extension": ".py",
   "mimetype": "text/x-python",
   "name": "python",
   "nbconvert_exporter": "python",
   "pygments_lexer": "ipython3",
   "version": "3.9.12"
  }
 },
 "nbformat": 4,
 "nbformat_minor": 5
}
