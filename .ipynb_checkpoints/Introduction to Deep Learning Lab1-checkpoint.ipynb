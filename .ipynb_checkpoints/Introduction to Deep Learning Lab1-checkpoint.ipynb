{
 "cells": [
  {
   "cell_type": "markdown",
   "id": "4812010e",
   "metadata": {},
   "source": [
    "# Introduction to Deep Learning\n",
    "\n",
    "## Objectives\n",
    "In this lab, you will embark on the journey of creating a ANN, DNN model tailored for predicting the total expenditure of potential consumers based on various characteristics. As a vehicle salesperson, your goal is to develop a model that can effectively estimate the overall spending potential.\n",
    "\n",
    "Your task is to build and train an ANN/DNN model using tensorflow in a Jupyter notebook.\n",
    "\n",
    "Feel Free to Explore the dataset, analyze its contents, and derive meaningful insights. Additionally, feel empowered to create insightful visualizations that enhance the understanding of the data. "
   ]
  },
  {
   "cell_type": "markdown",
   "id": "da5b7ee8",
   "metadata": {},
   "source": [
    "# Step 1: Import Libraries"
   ]
  },
  {
   "cell_type": "code",
   "execution_count": 2,
   "id": "4aa7a64f",
   "metadata": {},
   "outputs": [],
   "source": [
    "import pandas as pd\n",
    "import numpy as np\n",
    "import matplotlib.pyplot as plt\n",
    "from sklearn.model_selection import train_test_split\n",
    "from sklearn.preprocessing import StandardScaler\n",
    "from sklearn.metrics import accuracy_score, confusion_matrix\n",
    "from tensorflow.keras.models import Sequential\n",
    "from tensorflow.keras.layers import Dense"
   ]
  },
  {
   "cell_type": "markdown",
   "id": "2d843bfa",
   "metadata": {},
   "source": [
    "# Step 2: Load and Explore the Data"
   ]
  },
  {
   "cell_type": "code",
   "execution_count": 3,
   "id": "586083a4",
   "metadata": {},
   "outputs": [],
   "source": [
    "# Write your code ^_^"
   ]
  },
  {
   "cell_type": "markdown",
   "id": "2d3ed46e",
   "metadata": {},
   "source": [
    "# Step 3: Data Cleaning and Preprocessing\n",
    "\n",
    "\n",
    "**Hint: You could use a `StandardScaler()` or `MinMaxScaler()`**"
   ]
  },
  {
   "cell_type": "code",
   "execution_count": null,
   "id": "45dbe596",
   "metadata": {},
   "outputs": [],
   "source": [
    "# Write your code ^_^"
   ]
  },
  {
   "cell_type": "markdown",
   "id": "4d654aaa",
   "metadata": {},
   "source": [
    "# Step 4: Train Test Split"
   ]
  },
  {
   "cell_type": "code",
   "execution_count": null,
   "id": "54687a91",
   "metadata": {},
   "outputs": [],
   "source": [
    "# Write your code ^_^"
   ]
  },
  {
   "cell_type": "markdown",
   "id": "db652a21",
   "metadata": {},
   "source": [
    "# Step 5: Build the Artifical Neural Network Model"
   ]
  },
  {
   "cell_type": "code",
   "execution_count": 4,
   "id": "c7612a38",
   "metadata": {},
   "outputs": [],
   "source": [
    "# Write your code ^_^"
   ]
  },
  {
   "cell_type": "markdown",
   "id": "368f070a",
   "metadata": {},
   "source": [
    "### Clarify Your Artificial Neural Network (ANN) Model, Optimization, and Loss Function Choices and justify"
   ]
  },
  {
   "cell_type": "markdown",
   "id": "1350f619",
   "metadata": {},
   "source": [
    "Write your anwser here"
   ]
  },
  {
   "cell_type": "markdown",
   "id": "9d3d0afe",
   "metadata": {},
   "source": [
    "# Step 6: Train the Model\n"
   ]
  },
  {
   "cell_type": "code",
   "execution_count": null,
   "id": "df82b416",
   "metadata": {},
   "outputs": [],
   "source": [
    "# Write your code ^_^"
   ]
  },
  {
   "cell_type": "markdown",
   "id": "ef00d5d7",
   "metadata": {},
   "source": [
    "# Step 7: Evaluate the Model"
   ]
  },
  {
   "cell_type": "code",
   "execution_count": null,
   "id": "15e3f605",
   "metadata": {},
   "outputs": [],
   "source": [
    "# Write your code ^_^"
   ]
  },
  {
   "cell_type": "markdown",
   "id": "298936f8",
   "metadata": {},
   "source": [
    "# Step 8: Build the Deep Neural Network Model"
   ]
  },
  {
   "cell_type": "code",
   "execution_count": null,
   "id": "7b040bf5",
   "metadata": {},
   "outputs": [],
   "source": [
    "# Write your code ^_^"
   ]
  },
  {
   "cell_type": "markdown",
   "id": "d54d2910",
   "metadata": {},
   "source": [
    "### Clarify Your Deep Neural Network (DNN) Model, Optimization, and Loss Function Choices and justify "
   ]
  },
  {
   "cell_type": "markdown",
   "id": "5e94ee60",
   "metadata": {},
   "source": [
    "Write your anwser here"
   ]
  },
  {
   "cell_type": "markdown",
   "id": "fd026668",
   "metadata": {},
   "source": [
    "# Step 9: Train the Model"
   ]
  },
  {
   "cell_type": "code",
   "execution_count": null,
   "id": "c3132af2",
   "metadata": {},
   "outputs": [],
   "source": [
    "# Write your code ^_^"
   ]
  },
  {
   "cell_type": "markdown",
   "id": "2c47aa76",
   "metadata": {},
   "source": [
    "# Step 10: Evaluate the Model"
   ]
  },
  {
   "cell_type": "code",
   "execution_count": null,
   "id": "ff9d5311",
   "metadata": {},
   "outputs": [],
   "source": [
    "# Write your code ^_^"
   ]
  },
  {
   "cell_type": "markdown",
   "id": "118a14bd",
   "metadata": {},
   "source": [
    "# Step 11: Evaluate and Compare Scores, Training Time, and Prediction Time of ANN/DNN Models"
   ]
  },
  {
   "cell_type": "code",
   "execution_count": null,
   "id": "25f5e17b",
   "metadata": {},
   "outputs": [],
   "source": [
    "# Write your code ^_^"
   ]
  }
 ],
 "metadata": {
  "kernelspec": {
   "display_name": "Python 3 (ipykernel)",
   "language": "python",
   "name": "python3"
  },
  "language_info": {
   "codemirror_mode": {
    "name": "ipython",
    "version": 3
   },
   "file_extension": ".py",
   "mimetype": "text/x-python",
   "name": "python",
   "nbconvert_exporter": "python",
   "pygments_lexer": "ipython3",
   "version": "3.11.5"
  }
 },
 "nbformat": 4,
 "nbformat_minor": 5
}
